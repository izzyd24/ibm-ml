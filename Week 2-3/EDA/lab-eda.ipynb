{
 "cells": [
  {
   "cell_type": "markdown",
   "metadata": {},
   "source": [
    "# **Exploratory Data Analysis**\n"
   ]
  },
  {
   "cell_type": "markdown",
   "metadata": {},
   "source": [
    "Estimated time needed: **30** minutes\n",
    "\n",
    "Exploratory Data Analysis (EDA) is the crucial process of using summary statistics and graphical representations to perform preliminary investigations on data to uncover patterns, detect anomalies, test hypotheses, and verify assumptions.\n",
    "\n",
    "In this notebook, we will learn some interesting and useful data exploration techniques that can be applied to explore any geographical data.\n"
   ]
  },
  {
   "cell_type": "markdown",
   "metadata": {},
   "source": [
    "## Objectives\n"
   ]
  },
  {
   "cell_type": "markdown",
   "metadata": {},
   "source": [
    "*After completing this lab you will be able to:*\n",
    "\n",
    "*   Do Data Wrangling\n",
    "*   Do Data Filtering\n",
    "*   Plot with <code>plotly.express</code>\n",
    "*   Produce choropleth map\n"
   ]
  },
  {
   "cell_type": "markdown",
   "metadata": {},
   "source": [
    "***\n"
   ]
  },
  {
   "cell_type": "markdown",
   "metadata": {},
   "source": [
    "## **Setup**\n"
   ]
  },
  {
   "cell_type": "markdown",
   "metadata": {},
   "source": [
    "For this lab, we will be using the following libraries:\n",
    "\n",
    "*   [`pandas`](https://pandas.pydata.org/?utm_medium=Exinfluencer&utm_source=Exinfluencer&utm_content=000026UJ&utm_term=10006555&utm_id=NA-SkillsNetwork-Channel-SkillsNetworkCoursesIBMML0232ENSkillsNetwork30654641-2022-01-01) for managing the data.\n",
    "*   [`plotly.express`](https://plotly.com/python/plotly-express/?utm_medium=Exinfluencer&utm_source=Exinfluencer&utm_content=000026UJ&utm_term=10006555&utm_id=NA-SkillsNetwork-Channel-SkillsNetworkCoursesIBMML0232ENSkillsNetwork30654641-2022-01-01) for visualizing the data.\n",
    "*   [`json`](https://docs.python.org/3/library/json.html/?utm_medium=Exinfluencer&utm_source=Exinfluencer&utm_content=000026UJ&utm_term=10006555&utm_id=NA-SkillsNetwork-Channel-SkillsNetworkCoursesIBMML0232ENSkillsNetwork30654641-2022-01-01) for reading json file formats.\n"
   ]
  },
  {
   "cell_type": "markdown",
   "metadata": {},
   "source": [
    "## **Installing Required Libraries**\n"
   ]
  },
  {
   "cell_type": "markdown",
   "metadata": {},
   "source": [
    "The following required modules are pre-installed in the Skills Network Labs environment. However, if you run this notebook commands in a different Jupyter environment (e.g. Watson Studio or Ananconda) you will need to install these libraries by removing the `#` sign before `!mamba` in the code cell below.\n"
   ]
  },
  {
   "cell_type": "code",
   "execution_count": 1,
   "metadata": {},
   "outputs": [],
   "source": [
    "# All Libraries required for this lab are listed below. The libraries pre-installed on Skills Network Labs are commented.\n",
    "# !mamba install -qy pandas==1.3.4 numpy==1.21.4 seaborn==0.9.0 matplotlib==3.5.0 scikit-learn==0.20.1\n",
    "# Note: If your environment doesn't support \"!mamba install\", use \"!pip install\""
   ]
  },
  {
   "cell_type": "code",
   "execution_count": 2,
   "metadata": {},
   "outputs": [],
   "source": [
    "import pandas as pd\n",
    "import plotly.express as px\n",
    "import datetime \n",
    "import requests\n",
    "import json"
   ]
  },
  {
   "cell_type": "markdown",
   "metadata": {},
   "source": [
    "## **Reading and understanding our data**\n"
   ]
  },
  {
   "cell_type": "markdown",
   "metadata": {},
   "source": [
    "The dataset in this lab is <a href=\"https://www150.statcan.gc.ca/t1/tbl1/en/tv.action?utm_medium=Exinfluencer&utm_source=Exinfluencer&utm_content=000026UJ&utm_term=10006555&utm_id=NA-SkillsNetwork-Channel-SkillsNetworkCoursesIBMML0232ENSkillsNetwork30654641-2022-01-01&pid=1810000101\">Monthly average retail prices for gasoline and fuel oil, by geography</a>  . It is available through Statistics Canada and includes monthly average gasoline price (Cents per Litre), of major Canadian Cities, starting from 1979 until recent.\n"
   ]
  },
  {
   "cell_type": "markdown",
   "metadata": {},
   "source": [
    "Another dataset, <a href=\"https://thomson.carto.com/tables/canada_provinces/public/map?utm_medium=Exinfluencer&utm_source=Exinfluencer&utm_content=000026UJ&utm_term=10006555&utm_id=NA-SkillsNetwork-Channel-SkillsNetworkCoursesIBMML0232ENSkillsNetwork30654641-2022-01-01\">canada_provinces.geojson</a>, contains the mapping information of all Canadian Provinces. It will be used in our analysis to produce a choropleth map.\n"
   ]
  },
  {
   "cell_type": "markdown",
   "metadata": {},
   "source": [
    "Let's read the data into *pandas* dataframe and look at the first 5 rows using the `head()` method.\n"
   ]
  },
  {
   "cell_type": "code",
   "execution_count": 3,
   "metadata": {},
   "outputs": [
    {
     "data": {
      "text/html": [
       "<div>\n",
       "<style scoped>\n",
       "    .dataframe tbody tr th:only-of-type {\n",
       "        vertical-align: middle;\n",
       "    }\n",
       "\n",
       "    .dataframe tbody tr th {\n",
       "        vertical-align: top;\n",
       "    }\n",
       "\n",
       "    .dataframe thead th {\n",
       "        text-align: right;\n",
       "    }\n",
       "</style>\n",
       "<table border=\"1\" class=\"dataframe\">\n",
       "  <thead>\n",
       "    <tr style=\"text-align: right;\">\n",
       "      <th></th>\n",
       "      <th>REF_DATE</th>\n",
       "      <th>GEO</th>\n",
       "      <th>DGUID</th>\n",
       "      <th>Type of fuel</th>\n",
       "      <th>UOM</th>\n",
       "      <th>UOM_ID</th>\n",
       "      <th>SCALAR_FACTOR</th>\n",
       "      <th>SCALAR_ID</th>\n",
       "      <th>VECTOR</th>\n",
       "      <th>COORDINATE</th>\n",
       "      <th>VALUE</th>\n",
       "      <th>STATUS</th>\n",
       "      <th>SYMBOL</th>\n",
       "      <th>TERMINATED</th>\n",
       "      <th>DECIMALS</th>\n",
       "    </tr>\n",
       "  </thead>\n",
       "  <tbody>\n",
       "    <tr>\n",
       "      <th>0</th>\n",
       "      <td>Jan-79</td>\n",
       "      <td>St. John's, Newfoundland and Labrador</td>\n",
       "      <td>2011S0503001</td>\n",
       "      <td>Regular unleaded gasoline at full service fill...</td>\n",
       "      <td>Cents per litre</td>\n",
       "      <td>57</td>\n",
       "      <td>units</td>\n",
       "      <td>0</td>\n",
       "      <td>v735046</td>\n",
       "      <td>2.1</td>\n",
       "      <td>26.0</td>\n",
       "      <td>NaN</td>\n",
       "      <td>NaN</td>\n",
       "      <td>t</td>\n",
       "      <td>1</td>\n",
       "    </tr>\n",
       "    <tr>\n",
       "      <th>1</th>\n",
       "      <td>Jan-79</td>\n",
       "      <td>Charlottetown and Summerside, Prince Edward Is...</td>\n",
       "      <td>NaN</td>\n",
       "      <td>Regular unleaded gasoline at full service fill...</td>\n",
       "      <td>Cents per litre</td>\n",
       "      <td>57</td>\n",
       "      <td>units</td>\n",
       "      <td>0</td>\n",
       "      <td>v735056</td>\n",
       "      <td>3.1</td>\n",
       "      <td>24.6</td>\n",
       "      <td>NaN</td>\n",
       "      <td>NaN</td>\n",
       "      <td>t</td>\n",
       "      <td>1</td>\n",
       "    </tr>\n",
       "    <tr>\n",
       "      <th>2</th>\n",
       "      <td>Jan-79</td>\n",
       "      <td>Halifax, Nova Scotia</td>\n",
       "      <td>2011S0503205</td>\n",
       "      <td>Regular unleaded gasoline at full service fill...</td>\n",
       "      <td>Cents per litre</td>\n",
       "      <td>57</td>\n",
       "      <td>units</td>\n",
       "      <td>0</td>\n",
       "      <td>v735057</td>\n",
       "      <td>4.1</td>\n",
       "      <td>23.4</td>\n",
       "      <td>NaN</td>\n",
       "      <td>NaN</td>\n",
       "      <td>t</td>\n",
       "      <td>1</td>\n",
       "    </tr>\n",
       "    <tr>\n",
       "      <th>3</th>\n",
       "      <td>Jan-79</td>\n",
       "      <td>Saint John, New Brunswick</td>\n",
       "      <td>2011S0503310</td>\n",
       "      <td>Regular unleaded gasoline at full service fill...</td>\n",
       "      <td>Cents per litre</td>\n",
       "      <td>57</td>\n",
       "      <td>units</td>\n",
       "      <td>0</td>\n",
       "      <td>v735058</td>\n",
       "      <td>5.1</td>\n",
       "      <td>23.2</td>\n",
       "      <td>NaN</td>\n",
       "      <td>NaN</td>\n",
       "      <td>t</td>\n",
       "      <td>1</td>\n",
       "    </tr>\n",
       "    <tr>\n",
       "      <th>4</th>\n",
       "      <td>Jan-79</td>\n",
       "      <td>Québec, Quebec</td>\n",
       "      <td>2011S0503421</td>\n",
       "      <td>Regular unleaded gasoline at full service fill...</td>\n",
       "      <td>Cents per litre</td>\n",
       "      <td>57</td>\n",
       "      <td>units</td>\n",
       "      <td>0</td>\n",
       "      <td>v735059</td>\n",
       "      <td>6.1</td>\n",
       "      <td>22.6</td>\n",
       "      <td>NaN</td>\n",
       "      <td>NaN</td>\n",
       "      <td>t</td>\n",
       "      <td>1</td>\n",
       "    </tr>\n",
       "  </tbody>\n",
       "</table>\n",
       "</div>"
      ],
      "text/plain": [
       "  REF_DATE                                                GEO         DGUID  \\\n",
       "0   Jan-79              St. John's, Newfoundland and Labrador  2011S0503001   \n",
       "1   Jan-79  Charlottetown and Summerside, Prince Edward Is...           NaN   \n",
       "2   Jan-79                               Halifax, Nova Scotia  2011S0503205   \n",
       "3   Jan-79                          Saint John, New Brunswick  2011S0503310   \n",
       "4   Jan-79                                     Québec, Quebec  2011S0503421   \n",
       "\n",
       "                                        Type of fuel              UOM  UOM_ID  \\\n",
       "0  Regular unleaded gasoline at full service fill...  Cents per litre      57   \n",
       "1  Regular unleaded gasoline at full service fill...  Cents per litre      57   \n",
       "2  Regular unleaded gasoline at full service fill...  Cents per litre      57   \n",
       "3  Regular unleaded gasoline at full service fill...  Cents per litre      57   \n",
       "4  Regular unleaded gasoline at full service fill...  Cents per litre      57   \n",
       "\n",
       "  SCALAR_FACTOR  SCALAR_ID   VECTOR  COORDINATE  VALUE  STATUS  SYMBOL  \\\n",
       "0        units           0  v735046         2.1   26.0     NaN     NaN   \n",
       "1        units           0  v735056         3.1   24.6     NaN     NaN   \n",
       "2        units           0  v735057         4.1   23.4     NaN     NaN   \n",
       "3        units           0  v735058         5.1   23.2     NaN     NaN   \n",
       "4        units           0  v735059         6.1   22.6     NaN     NaN   \n",
       "\n",
       "  TERMINATED  DECIMALS  \n",
       "0          t         1  \n",
       "1          t         1  \n",
       "2          t         1  \n",
       "3          t         1  \n",
       "4          t         1  "
      ]
     },
     "execution_count": 3,
     "metadata": {},
     "output_type": "execute_result"
    }
   ],
   "source": [
    "# not using locally, imported online\n",
    "gasoline = pd.read_csv(\"https://cf-courses-data.s3.us.cloud-object-storage.appdomain.cloud/IBM-ML0232EN-SkillsNetwork/asset/18100001.csv\")\n",
    "gasoline.head()"
   ]
  },
  {
   "cell_type": "markdown",
   "metadata": {},
   "source": [
    "Let's find out how many entries there are in our dataset, using `shape` function.\n"
   ]
  },
  {
   "cell_type": "code",
   "execution_count": 4,
   "metadata": {},
   "outputs": [
    {
     "data": {
      "text/plain": [
       "(41942, 15)"
      ]
     },
     "execution_count": 4,
     "metadata": {},
     "output_type": "execute_result"
    }
   ],
   "source": [
    "gasoline.shape\n",
    "# shows 41942 rows by 15 columns"
   ]
  },
  {
   "cell_type": "markdown",
   "metadata": {},
   "source": [
    "Using `info` function, we will take a look at our types of data.\n"
   ]
  },
  {
   "cell_type": "code",
   "execution_count": 5,
   "metadata": {},
   "outputs": [
    {
     "name": "stdout",
     "output_type": "stream",
     "text": [
      "<class 'pandas.core.frame.DataFrame'>\n",
      "RangeIndex: 41942 entries, 0 to 41941\n",
      "Data columns (total 15 columns):\n",
      " #   Column         Non-Null Count  Dtype  \n",
      "---  ------         --------------  -----  \n",
      " 0   REF_DATE       41942 non-null  object \n",
      " 1   GEO            41942 non-null  object \n",
      " 2   DGUID          39451 non-null  object \n",
      " 3   Type of fuel   41942 non-null  object \n",
      " 4   UOM            41942 non-null  object \n",
      " 5   UOM_ID         41942 non-null  int64  \n",
      " 6   SCALAR_FACTOR  41942 non-null  object \n",
      " 7   SCALAR_ID      41942 non-null  int64  \n",
      " 8   VECTOR         41942 non-null  object \n",
      " 9   COORDINATE     41942 non-null  float64\n",
      " 10  VALUE          41942 non-null  float64\n",
      " 11  STATUS         0 non-null      float64\n",
      " 12  SYMBOL         0 non-null      float64\n",
      " 13  TERMINATED     16564 non-null  object \n",
      " 14  DECIMALS       41942 non-null  int64  \n",
      "dtypes: float64(4), int64(3), object(8)\n",
      "memory usage: 4.8+ MB\n"
     ]
    }
   ],
   "source": [
    "gasoline.info()\n",
    "# a bit redundant, but use .info or .describe instead of shape"
   ]
  },
  {
   "cell_type": "markdown",
   "metadata": {},
   "source": [
    "Using `columns` method, we will print all the column names.\n"
   ]
  },
  {
   "cell_type": "code",
   "execution_count": 6,
   "metadata": {},
   "outputs": [
    {
     "data": {
      "text/plain": [
       "Index(['REF_DATE', 'GEO', 'DGUID', 'Type of fuel', 'UOM', 'UOM_ID',\n",
       "       'SCALAR_FACTOR', 'SCALAR_ID', 'VECTOR', 'COORDINATE', 'VALUE', 'STATUS',\n",
       "       'SYMBOL', 'TERMINATED', 'DECIMALS'],\n",
       "      dtype='object')"
      ]
     },
     "execution_count": 6,
     "metadata": {},
     "output_type": "execute_result"
    }
   ],
   "source": [
    "gasoline.columns"
   ]
  },
  {
   "cell_type": "markdown",
   "metadata": {},
   "source": [
    "Below, we will check for any missing values.\n"
   ]
  },
  {
   "cell_type": "code",
   "execution_count": 7,
   "metadata": {},
   "outputs": [
    {
     "data": {
      "text/plain": [
       "REF_DATE             0\n",
       "GEO                  0\n",
       "DGUID             2491\n",
       "Type of fuel         0\n",
       "UOM                  0\n",
       "UOM_ID               0\n",
       "SCALAR_FACTOR        0\n",
       "SCALAR_ID            0\n",
       "VECTOR               0\n",
       "COORDINATE           0\n",
       "VALUE                0\n",
       "STATUS           41942\n",
       "SYMBOL           41942\n",
       "TERMINATED       25378\n",
       "DECIMALS             0\n",
       "dtype: int64"
      ]
     },
     "execution_count": 7,
     "metadata": {},
     "output_type": "execute_result"
    }
   ],
   "source": [
    "gasoline.isnull().sum()\n",
    "# looks like on column dguid, status, symbol, terminated we have null values to deal with\n",
    "# we can: \"remove\", \"impute\", or \"mask\" data rows that are missing"
   ]
  },
  {
   "cell_type": "markdown",
   "metadata": {},
   "source": [
    "## **Data Wrangling**\n",
    "\n",
    "### Selecting and renaming the columns of interest\n"
   ]
  },
  {
   "cell_type": "markdown",
   "metadata": {},
   "source": [
    "Below, we are filtering our data, by selecting only the relevant columns. Also, we are using the `rename()` method to change the name of the columns.\n"
   ]
  },
  {
   "cell_type": "code",
   "execution_count": 8,
   "metadata": {},
   "outputs": [
    {
     "data": {
      "text/html": [
       "<div>\n",
       "<style scoped>\n",
       "    .dataframe tbody tr th:only-of-type {\n",
       "        vertical-align: middle;\n",
       "    }\n",
       "\n",
       "    .dataframe tbody tr th {\n",
       "        vertical-align: top;\n",
       "    }\n",
       "\n",
       "    .dataframe thead th {\n",
       "        text-align: right;\n",
       "    }\n",
       "</style>\n",
       "<table border=\"1\" class=\"dataframe\">\n",
       "  <thead>\n",
       "    <tr style=\"text-align: right;\">\n",
       "      <th></th>\n",
       "      <th>DATE</th>\n",
       "      <th>GEO</th>\n",
       "      <th>TYPE</th>\n",
       "      <th>VALUE</th>\n",
       "    </tr>\n",
       "  </thead>\n",
       "  <tbody>\n",
       "    <tr>\n",
       "      <th>0</th>\n",
       "      <td>Jan-79</td>\n",
       "      <td>St. John's, Newfoundland and Labrador</td>\n",
       "      <td>Regular unleaded gasoline at full service fill...</td>\n",
       "      <td>26.0</td>\n",
       "    </tr>\n",
       "    <tr>\n",
       "      <th>1</th>\n",
       "      <td>Jan-79</td>\n",
       "      <td>Charlottetown and Summerside, Prince Edward Is...</td>\n",
       "      <td>Regular unleaded gasoline at full service fill...</td>\n",
       "      <td>24.6</td>\n",
       "    </tr>\n",
       "    <tr>\n",
       "      <th>2</th>\n",
       "      <td>Jan-79</td>\n",
       "      <td>Halifax, Nova Scotia</td>\n",
       "      <td>Regular unleaded gasoline at full service fill...</td>\n",
       "      <td>23.4</td>\n",
       "    </tr>\n",
       "    <tr>\n",
       "      <th>3</th>\n",
       "      <td>Jan-79</td>\n",
       "      <td>Saint John, New Brunswick</td>\n",
       "      <td>Regular unleaded gasoline at full service fill...</td>\n",
       "      <td>23.2</td>\n",
       "    </tr>\n",
       "    <tr>\n",
       "      <th>4</th>\n",
       "      <td>Jan-79</td>\n",
       "      <td>Québec, Quebec</td>\n",
       "      <td>Regular unleaded gasoline at full service fill...</td>\n",
       "      <td>22.6</td>\n",
       "    </tr>\n",
       "  </tbody>\n",
       "</table>\n",
       "</div>"
      ],
      "text/plain": [
       "     DATE                                                GEO  \\\n",
       "0  Jan-79              St. John's, Newfoundland and Labrador   \n",
       "1  Jan-79  Charlottetown and Summerside, Prince Edward Is...   \n",
       "2  Jan-79                               Halifax, Nova Scotia   \n",
       "3  Jan-79                          Saint John, New Brunswick   \n",
       "4  Jan-79                                     Québec, Quebec   \n",
       "\n",
       "                                                TYPE  VALUE  \n",
       "0  Regular unleaded gasoline at full service fill...   26.0  \n",
       "1  Regular unleaded gasoline at full service fill...   24.6  \n",
       "2  Regular unleaded gasoline at full service fill...   23.4  \n",
       "3  Regular unleaded gasoline at full service fill...   23.2  \n",
       "4  Regular unleaded gasoline at full service fill...   22.6  "
      ]
     },
     "execution_count": 8,
     "metadata": {},
     "output_type": "execute_result"
    }
   ],
   "source": [
    "# variable data passes the gasoline df, where we look at only relevant columns\n",
    "# then we rename as needed \n",
    "data = (gasoline[['REF_DATE','GEO','Type of fuel','VALUE']]).rename(columns={\"REF_DATE\" : \"DATE\", \"Type of fuel\" : \"TYPE\"})\n",
    "data.head()"
   ]
  },
  {
   "cell_type": "markdown",
   "metadata": {},
   "source": [
    "### Splitting the columns\n"
   ]
  },
  {
   "cell_type": "markdown",
   "metadata": {},
   "source": [
    "The `str.split()` function splits the string records, by a 'comma', with `n=1` slplit, and <code>Expend=True</code> , returns a dataframe. Below, we are splitting 'GEO' into 'City' and 'Province'.\n"
   ]
  },
  {
   "cell_type": "code",
   "execution_count": 9,
   "metadata": {},
   "outputs": [],
   "source": [
    "data[['City', 'Province']] = data['GEO'].str.split(',', n=1, expand=True)"
   ]
  },
  {
   "cell_type": "code",
   "execution_count": 10,
   "metadata": {},
   "outputs": [
    {
     "data": {
      "text/html": [
       "<div>\n",
       "<style scoped>\n",
       "    .dataframe tbody tr th:only-of-type {\n",
       "        vertical-align: middle;\n",
       "    }\n",
       "\n",
       "    .dataframe tbody tr th {\n",
       "        vertical-align: top;\n",
       "    }\n",
       "\n",
       "    .dataframe thead th {\n",
       "        text-align: right;\n",
       "    }\n",
       "</style>\n",
       "<table border=\"1\" class=\"dataframe\">\n",
       "  <thead>\n",
       "    <tr style=\"text-align: right;\">\n",
       "      <th></th>\n",
       "      <th>DATE</th>\n",
       "      <th>GEO</th>\n",
       "      <th>TYPE</th>\n",
       "      <th>VALUE</th>\n",
       "      <th>City</th>\n",
       "      <th>Province</th>\n",
       "    </tr>\n",
       "  </thead>\n",
       "  <tbody>\n",
       "    <tr>\n",
       "      <th>0</th>\n",
       "      <td>Jan-79</td>\n",
       "      <td>St. John's, Newfoundland and Labrador</td>\n",
       "      <td>Regular unleaded gasoline at full service fill...</td>\n",
       "      <td>26.0</td>\n",
       "      <td>St. John's</td>\n",
       "      <td>Newfoundland and Labrador</td>\n",
       "    </tr>\n",
       "    <tr>\n",
       "      <th>1</th>\n",
       "      <td>Jan-79</td>\n",
       "      <td>Charlottetown and Summerside, Prince Edward Is...</td>\n",
       "      <td>Regular unleaded gasoline at full service fill...</td>\n",
       "      <td>24.6</td>\n",
       "      <td>Charlottetown and Summerside</td>\n",
       "      <td>Prince Edward Island</td>\n",
       "    </tr>\n",
       "    <tr>\n",
       "      <th>2</th>\n",
       "      <td>Jan-79</td>\n",
       "      <td>Halifax, Nova Scotia</td>\n",
       "      <td>Regular unleaded gasoline at full service fill...</td>\n",
       "      <td>23.4</td>\n",
       "      <td>Halifax</td>\n",
       "      <td>Nova Scotia</td>\n",
       "    </tr>\n",
       "    <tr>\n",
       "      <th>3</th>\n",
       "      <td>Jan-79</td>\n",
       "      <td>Saint John, New Brunswick</td>\n",
       "      <td>Regular unleaded gasoline at full service fill...</td>\n",
       "      <td>23.2</td>\n",
       "      <td>Saint John</td>\n",
       "      <td>New Brunswick</td>\n",
       "    </tr>\n",
       "    <tr>\n",
       "      <th>4</th>\n",
       "      <td>Jan-79</td>\n",
       "      <td>Québec, Quebec</td>\n",
       "      <td>Regular unleaded gasoline at full service fill...</td>\n",
       "      <td>22.6</td>\n",
       "      <td>Québec</td>\n",
       "      <td>Quebec</td>\n",
       "    </tr>\n",
       "  </tbody>\n",
       "</table>\n",
       "</div>"
      ],
      "text/plain": [
       "     DATE                                                GEO  \\\n",
       "0  Jan-79              St. John's, Newfoundland and Labrador   \n",
       "1  Jan-79  Charlottetown and Summerside, Prince Edward Is...   \n",
       "2  Jan-79                               Halifax, Nova Scotia   \n",
       "3  Jan-79                          Saint John, New Brunswick   \n",
       "4  Jan-79                                     Québec, Quebec   \n",
       "\n",
       "                                                TYPE  VALUE  \\\n",
       "0  Regular unleaded gasoline at full service fill...   26.0   \n",
       "1  Regular unleaded gasoline at full service fill...   24.6   \n",
       "2  Regular unleaded gasoline at full service fill...   23.4   \n",
       "3  Regular unleaded gasoline at full service fill...   23.2   \n",
       "4  Regular unleaded gasoline at full service fill...   22.6   \n",
       "\n",
       "                           City                    Province  \n",
       "0                    St. John's   Newfoundland and Labrador  \n",
       "1  Charlottetown and Summerside        Prince Edward Island  \n",
       "2                       Halifax                 Nova Scotia  \n",
       "3                    Saint John               New Brunswick  \n",
       "4                        Québec                      Quebec  "
      ]
     },
     "execution_count": 10,
     "metadata": {},
     "output_type": "execute_result"
    }
   ],
   "source": [
    "data.head()"
   ]
  },
  {
   "cell_type": "markdown",
   "metadata": {},
   "source": [
    "### Changing to *datetime* format\n"
   ]
  },
  {
   "cell_type": "markdown",
   "metadata": {},
   "source": [
    "If we scroll up to our `gasoline.info()` section, we can find that  'REF_DATE' is an object type. To be able to filter by day, month, or year, we need to change the format from object type to *datetime*. Pandas function `to_datetime()` transforms to date time format. Also, we need to specify the format of *datetime* that we need. In our case, `format='%b-%y'` means that it will split into the name of a month and year. `str.slice(stop=3)` splits and outputs the first 3 letters of a month. For more information on how to transform to *datetime*, please visit [this](https://pandas.pydata.org/pandas-docs/stable/reference/api/pandas.to_datetime.html?utm_medium=Exinfluencer&utm_source=Exinfluencer&utm_content=000026UJ&utm_term=10006555&utm_id=NA-SkillsNetwork-Channel-SkillsNetworkCoursesIBMML0232ENSkillsNetwork30654641-2022-01-01) pandas documentation. Also, [this](https://strftime.org/?utm_medium=Exinfluencer&utm_source=Exinfluencer&utm_content=000026UJ&utm_term=10006555&utm_id=NA-SkillsNetwork-Channel-SkillsNetworkCoursesIBMML0232ENSkillsNetwork30654641-2022-01-01) web page contains more information on *datetime* formats.\n"
   ]
  },
  {
   "cell_type": "code",
   "execution_count": 11,
   "metadata": {},
   "outputs": [],
   "source": [
    "data['DATE'] = pd.to_datetime(data['DATE'], format='%b-%y')\n",
    "data['Month'] = data['DATE'].dt.month_name().str.slice(stop=3)\n",
    "data['Year'] = data['DATE'].dt.year"
   ]
  },
  {
   "cell_type": "code",
   "execution_count": 12,
   "metadata": {},
   "outputs": [
    {
     "data": {
      "text/html": [
       "<div>\n",
       "<style scoped>\n",
       "    .dataframe tbody tr th:only-of-type {\n",
       "        vertical-align: middle;\n",
       "    }\n",
       "\n",
       "    .dataframe tbody tr th {\n",
       "        vertical-align: top;\n",
       "    }\n",
       "\n",
       "    .dataframe thead th {\n",
       "        text-align: right;\n",
       "    }\n",
       "</style>\n",
       "<table border=\"1\" class=\"dataframe\">\n",
       "  <thead>\n",
       "    <tr style=\"text-align: right;\">\n",
       "      <th></th>\n",
       "      <th>DATE</th>\n",
       "      <th>GEO</th>\n",
       "      <th>TYPE</th>\n",
       "      <th>VALUE</th>\n",
       "      <th>City</th>\n",
       "      <th>Province</th>\n",
       "      <th>Month</th>\n",
       "      <th>Year</th>\n",
       "    </tr>\n",
       "  </thead>\n",
       "  <tbody>\n",
       "    <tr>\n",
       "      <th>0</th>\n",
       "      <td>1979-01-01</td>\n",
       "      <td>St. John's, Newfoundland and Labrador</td>\n",
       "      <td>Regular unleaded gasoline at full service fill...</td>\n",
       "      <td>26.0</td>\n",
       "      <td>St. John's</td>\n",
       "      <td>Newfoundland and Labrador</td>\n",
       "      <td>Jan</td>\n",
       "      <td>1979</td>\n",
       "    </tr>\n",
       "    <tr>\n",
       "      <th>1</th>\n",
       "      <td>1979-01-01</td>\n",
       "      <td>Charlottetown and Summerside, Prince Edward Is...</td>\n",
       "      <td>Regular unleaded gasoline at full service fill...</td>\n",
       "      <td>24.6</td>\n",
       "      <td>Charlottetown and Summerside</td>\n",
       "      <td>Prince Edward Island</td>\n",
       "      <td>Jan</td>\n",
       "      <td>1979</td>\n",
       "    </tr>\n",
       "    <tr>\n",
       "      <th>2</th>\n",
       "      <td>1979-01-01</td>\n",
       "      <td>Halifax, Nova Scotia</td>\n",
       "      <td>Regular unleaded gasoline at full service fill...</td>\n",
       "      <td>23.4</td>\n",
       "      <td>Halifax</td>\n",
       "      <td>Nova Scotia</td>\n",
       "      <td>Jan</td>\n",
       "      <td>1979</td>\n",
       "    </tr>\n",
       "    <tr>\n",
       "      <th>3</th>\n",
       "      <td>1979-01-01</td>\n",
       "      <td>Saint John, New Brunswick</td>\n",
       "      <td>Regular unleaded gasoline at full service fill...</td>\n",
       "      <td>23.2</td>\n",
       "      <td>Saint John</td>\n",
       "      <td>New Brunswick</td>\n",
       "      <td>Jan</td>\n",
       "      <td>1979</td>\n",
       "    </tr>\n",
       "    <tr>\n",
       "      <th>4</th>\n",
       "      <td>1979-01-01</td>\n",
       "      <td>Québec, Quebec</td>\n",
       "      <td>Regular unleaded gasoline at full service fill...</td>\n",
       "      <td>22.6</td>\n",
       "      <td>Québec</td>\n",
       "      <td>Quebec</td>\n",
       "      <td>Jan</td>\n",
       "      <td>1979</td>\n",
       "    </tr>\n",
       "  </tbody>\n",
       "</table>\n",
       "</div>"
      ],
      "text/plain": [
       "        DATE                                                GEO  \\\n",
       "0 1979-01-01              St. John's, Newfoundland and Labrador   \n",
       "1 1979-01-01  Charlottetown and Summerside, Prince Edward Is...   \n",
       "2 1979-01-01                               Halifax, Nova Scotia   \n",
       "3 1979-01-01                          Saint John, New Brunswick   \n",
       "4 1979-01-01                                     Québec, Quebec   \n",
       "\n",
       "                                                TYPE  VALUE  \\\n",
       "0  Regular unleaded gasoline at full service fill...   26.0   \n",
       "1  Regular unleaded gasoline at full service fill...   24.6   \n",
       "2  Regular unleaded gasoline at full service fill...   23.4   \n",
       "3  Regular unleaded gasoline at full service fill...   23.2   \n",
       "4  Regular unleaded gasoline at full service fill...   22.6   \n",
       "\n",
       "                           City                    Province Month  Year  \n",
       "0                    St. John's   Newfoundland and Labrador   Jan  1979  \n",
       "1  Charlottetown and Summerside        Prince Edward Island   Jan  1979  \n",
       "2                       Halifax                 Nova Scotia   Jan  1979  \n",
       "3                    Saint John               New Brunswick   Jan  1979  \n",
       "4                        Québec                      Quebec   Jan  1979  "
      ]
     },
     "execution_count": 12,
     "metadata": {},
     "output_type": "execute_result"
    }
   ],
   "source": [
    "data.head()"
   ]
  },
  {
   "cell_type": "markdown",
   "metadata": {},
   "source": [
    "The `describe()` function provides statistical information about the numeric variables. Since we only have the 'VALUE' variable that we want statistical information on, we will filter it by `data.VALUE.describe()` function.\n"
   ]
  },
  {
   "cell_type": "code",
   "execution_count": 13,
   "metadata": {},
   "outputs": [
    {
     "data": {
      "text/plain": [
       "count    41942.000000\n",
       "mean        84.784858\n",
       "std         31.492697\n",
       "min         18.300000\n",
       "25%         58.200000\n",
       "50%         79.200000\n",
       "75%        110.900000\n",
       "max        191.600000\n",
       "Name: VALUE, dtype: float64"
      ]
     },
     "execution_count": 13,
     "metadata": {},
     "output_type": "execute_result"
    }
   ],
   "source": [
    "data.VALUE.describe()\n",
    "# can also use  data['VALUE'].describe()"
   ]
  },
  {
   "cell_type": "markdown",
   "metadata": {},
   "source": [
    "Now, it is useful to know what is inside our categorical variables. We will use `unique().tolist()` functions to print out all of our 'GEO' colunm.\n"
   ]
  },
  {
   "cell_type": "code",
   "execution_count": 14,
   "metadata": {},
   "outputs": [
    {
     "data": {
      "text/plain": [
       "[\"St. John's, Newfoundland and Labrador\",\n",
       " 'Charlottetown and Summerside, Prince Edward Island',\n",
       " 'Halifax, Nova Scotia',\n",
       " 'Saint John, New Brunswick',\n",
       " 'Québec, Quebec',\n",
       " 'Montréal, Quebec',\n",
       " 'Ottawa-Gatineau, Ontario part, Ontario/Quebec',\n",
       " 'Toronto, Ontario',\n",
       " 'Thunder Bay, Ontario',\n",
       " 'Winnipeg, Manitoba',\n",
       " 'Regina, Saskatchewan',\n",
       " 'Saskatoon, Saskatchewan',\n",
       " 'Edmonton, Alberta',\n",
       " 'Calgary, Alberta',\n",
       " 'Vancouver, British Columbia',\n",
       " 'Victoria, British Columbia',\n",
       " 'Whitehorse, Yukon',\n",
       " 'Yellowknife, Northwest Territories']"
      ]
     },
     "execution_count": 14,
     "metadata": {},
     "output_type": "execute_result"
    }
   ],
   "source": [
    "data.GEO.unique().tolist()\n",
    "# can also use  data['GEO'].unique().tolist()"
   ]
  },
  {
   "cell_type": "markdown",
   "metadata": {},
   "source": [
    "## Exercise 1\n"
   ]
  },
  {
   "cell_type": "markdown",
   "metadata": {},
   "source": [
    "In this exercise, print out all categories in 'TYPE' column.\n"
   ]
  },
  {
   "cell_type": "code",
   "execution_count": 15,
   "metadata": {},
   "outputs": [
    {
     "data": {
      "text/html": [
       "<div>\n",
       "<style scoped>\n",
       "    .dataframe tbody tr th:only-of-type {\n",
       "        vertical-align: middle;\n",
       "    }\n",
       "\n",
       "    .dataframe tbody tr th {\n",
       "        vertical-align: top;\n",
       "    }\n",
       "\n",
       "    .dataframe thead th {\n",
       "        text-align: right;\n",
       "    }\n",
       "</style>\n",
       "<table border=\"1\" class=\"dataframe\">\n",
       "  <thead>\n",
       "    <tr style=\"text-align: right;\">\n",
       "      <th></th>\n",
       "      <th>DATE</th>\n",
       "      <th>GEO</th>\n",
       "      <th>TYPE</th>\n",
       "      <th>VALUE</th>\n",
       "      <th>City</th>\n",
       "      <th>Province</th>\n",
       "      <th>Month</th>\n",
       "      <th>Year</th>\n",
       "    </tr>\n",
       "  </thead>\n",
       "  <tbody>\n",
       "    <tr>\n",
       "      <th>0</th>\n",
       "      <td>1979-01-01</td>\n",
       "      <td>St. John's, Newfoundland and Labrador</td>\n",
       "      <td>Regular unleaded gasoline at full service fill...</td>\n",
       "      <td>26.0</td>\n",
       "      <td>St. John's</td>\n",
       "      <td>Newfoundland and Labrador</td>\n",
       "      <td>Jan</td>\n",
       "      <td>1979</td>\n",
       "    </tr>\n",
       "    <tr>\n",
       "      <th>1</th>\n",
       "      <td>1979-01-01</td>\n",
       "      <td>Charlottetown and Summerside, Prince Edward Is...</td>\n",
       "      <td>Regular unleaded gasoline at full service fill...</td>\n",
       "      <td>24.6</td>\n",
       "      <td>Charlottetown and Summerside</td>\n",
       "      <td>Prince Edward Island</td>\n",
       "      <td>Jan</td>\n",
       "      <td>1979</td>\n",
       "    </tr>\n",
       "    <tr>\n",
       "      <th>2</th>\n",
       "      <td>1979-01-01</td>\n",
       "      <td>Halifax, Nova Scotia</td>\n",
       "      <td>Regular unleaded gasoline at full service fill...</td>\n",
       "      <td>23.4</td>\n",
       "      <td>Halifax</td>\n",
       "      <td>Nova Scotia</td>\n",
       "      <td>Jan</td>\n",
       "      <td>1979</td>\n",
       "    </tr>\n",
       "    <tr>\n",
       "      <th>3</th>\n",
       "      <td>1979-01-01</td>\n",
       "      <td>Saint John, New Brunswick</td>\n",
       "      <td>Regular unleaded gasoline at full service fill...</td>\n",
       "      <td>23.2</td>\n",
       "      <td>Saint John</td>\n",
       "      <td>New Brunswick</td>\n",
       "      <td>Jan</td>\n",
       "      <td>1979</td>\n",
       "    </tr>\n",
       "    <tr>\n",
       "      <th>4</th>\n",
       "      <td>1979-01-01</td>\n",
       "      <td>Québec, Quebec</td>\n",
       "      <td>Regular unleaded gasoline at full service fill...</td>\n",
       "      <td>22.6</td>\n",
       "      <td>Québec</td>\n",
       "      <td>Quebec</td>\n",
       "      <td>Jan</td>\n",
       "      <td>1979</td>\n",
       "    </tr>\n",
       "  </tbody>\n",
       "</table>\n",
       "</div>"
      ],
      "text/plain": [
       "        DATE                                                GEO  \\\n",
       "0 1979-01-01              St. John's, Newfoundland and Labrador   \n",
       "1 1979-01-01  Charlottetown and Summerside, Prince Edward Is...   \n",
       "2 1979-01-01                               Halifax, Nova Scotia   \n",
       "3 1979-01-01                          Saint John, New Brunswick   \n",
       "4 1979-01-01                                     Québec, Quebec   \n",
       "\n",
       "                                                TYPE  VALUE  \\\n",
       "0  Regular unleaded gasoline at full service fill...   26.0   \n",
       "1  Regular unleaded gasoline at full service fill...   24.6   \n",
       "2  Regular unleaded gasoline at full service fill...   23.4   \n",
       "3  Regular unleaded gasoline at full service fill...   23.2   \n",
       "4  Regular unleaded gasoline at full service fill...   22.6   \n",
       "\n",
       "                           City                    Province Month  Year  \n",
       "0                    St. John's   Newfoundland and Labrador   Jan  1979  \n",
       "1  Charlottetown and Summerside        Prince Edward Island   Jan  1979  \n",
       "2                       Halifax                 Nova Scotia   Jan  1979  \n",
       "3                    Saint John               New Brunswick   Jan  1979  \n",
       "4                        Québec                      Quebec   Jan  1979  "
      ]
     },
     "execution_count": 15,
     "metadata": {},
     "output_type": "execute_result"
    }
   ],
   "source": [
    "# quick reminder of our data\n",
    "data.head()"
   ]
  },
  {
   "cell_type": "code",
   "execution_count": 16,
   "metadata": {},
   "outputs": [
    {
     "data": {
      "text/plain": [
       "['Regular unleaded gasoline at full service filling stations',\n",
       " 'Regular unleaded gasoline at self service filling stations',\n",
       " 'Premium unleaded gasoline at full service filling stations',\n",
       " 'Premium unleaded gasoline at self service filling stations',\n",
       " 'Diesel fuel at full service filling stations',\n",
       " 'Household heating fuel',\n",
       " 'Diesel fuel at self service filling stations']"
      ]
     },
     "execution_count": 16,
     "metadata": {},
     "output_type": "execute_result"
    }
   ],
   "source": [
    "# all categories of 'type' column\n",
    "# used tolist function to print them out\n",
    "data.TYPE.unique().tolist()"
   ]
  },
  {
   "cell_type": "markdown",
   "metadata": {},
   "source": [
    "<details>\n",
    "<summary><strong>Solution</strong> (Click Here)</summary>\n",
    "    &emsp; &emsp; <code>\n",
    "data.TYPE.unique().tolist()\n",
    "</code>\n",
    "</details>\n"
   ]
  },
  {
   "cell_type": "markdown",
   "metadata": {},
   "source": [
    "## **Data Filtering**\n"
   ]
  },
  {
   "cell_type": "markdown",
   "metadata": {},
   "source": [
    "This section will introduce you to some of the most common filtering techniques when working with pandas dataframes.\n"
   ]
  },
  {
   "cell_type": "markdown",
   "metadata": {},
   "source": [
    "### Filtering with logical operators\n"
   ]
  },
  {
   "cell_type": "markdown",
   "metadata": {},
   "source": [
    "We can use the logical operators on column values to filter rows. First, we  specify the name of our data, then, square brackets to select the name of the column, double 'equal' sign, '==' to select the name of a row group, in single or double quotation marks. If we want to exclude some entries (e.g. some locations), we would use the 'equal' and 'exclamation point' signs together, '=!'. We can also use '\\</>', '<=/>=' signs to select numeric information.\n",
    "\n",
    "Let's select the Calgary, Alberta data to see all the information.\n"
   ]
  },
  {
   "cell_type": "code",
   "execution_count": 17,
   "metadata": {},
   "outputs": [
    {
     "data": {
      "text/html": [
       "<div>\n",
       "<style scoped>\n",
       "    .dataframe tbody tr th:only-of-type {\n",
       "        vertical-align: middle;\n",
       "    }\n",
       "\n",
       "    .dataframe tbody tr th {\n",
       "        vertical-align: top;\n",
       "    }\n",
       "\n",
       "    .dataframe thead th {\n",
       "        text-align: right;\n",
       "    }\n",
       "</style>\n",
       "<table border=\"1\" class=\"dataframe\">\n",
       "  <thead>\n",
       "    <tr style=\"text-align: right;\">\n",
       "      <th></th>\n",
       "      <th>DATE</th>\n",
       "      <th>GEO</th>\n",
       "      <th>TYPE</th>\n",
       "      <th>VALUE</th>\n",
       "      <th>City</th>\n",
       "      <th>Province</th>\n",
       "      <th>Month</th>\n",
       "      <th>Year</th>\n",
       "    </tr>\n",
       "  </thead>\n",
       "  <tbody>\n",
       "    <tr>\n",
       "      <th>13</th>\n",
       "      <td>1979-01-01</td>\n",
       "      <td>Calgary, Alberta</td>\n",
       "      <td>Regular unleaded gasoline at full service fill...</td>\n",
       "      <td>18.7</td>\n",
       "      <td>Calgary</td>\n",
       "      <td>Alberta</td>\n",
       "      <td>Jan</td>\n",
       "      <td>1979</td>\n",
       "    </tr>\n",
       "    <tr>\n",
       "      <th>28</th>\n",
       "      <td>1979-02-01</td>\n",
       "      <td>Calgary, Alberta</td>\n",
       "      <td>Regular unleaded gasoline at full service fill...</td>\n",
       "      <td>18.9</td>\n",
       "      <td>Calgary</td>\n",
       "      <td>Alberta</td>\n",
       "      <td>Feb</td>\n",
       "      <td>1979</td>\n",
       "    </tr>\n",
       "    <tr>\n",
       "      <th>43</th>\n",
       "      <td>1979-03-01</td>\n",
       "      <td>Calgary, Alberta</td>\n",
       "      <td>Regular unleaded gasoline at full service fill...</td>\n",
       "      <td>18.9</td>\n",
       "      <td>Calgary</td>\n",
       "      <td>Alberta</td>\n",
       "      <td>Mar</td>\n",
       "      <td>1979</td>\n",
       "    </tr>\n",
       "    <tr>\n",
       "      <th>58</th>\n",
       "      <td>1979-04-01</td>\n",
       "      <td>Calgary, Alberta</td>\n",
       "      <td>Regular unleaded gasoline at full service fill...</td>\n",
       "      <td>19.1</td>\n",
       "      <td>Calgary</td>\n",
       "      <td>Alberta</td>\n",
       "      <td>Apr</td>\n",
       "      <td>1979</td>\n",
       "    </tr>\n",
       "    <tr>\n",
       "      <th>73</th>\n",
       "      <td>1979-05-01</td>\n",
       "      <td>Calgary, Alberta</td>\n",
       "      <td>Regular unleaded gasoline at full service fill...</td>\n",
       "      <td>19.2</td>\n",
       "      <td>Calgary</td>\n",
       "      <td>Alberta</td>\n",
       "      <td>May</td>\n",
       "      <td>1979</td>\n",
       "    </tr>\n",
       "    <tr>\n",
       "      <th>...</th>\n",
       "      <td>...</td>\n",
       "      <td>...</td>\n",
       "      <td>...</td>\n",
       "      <td>...</td>\n",
       "      <td>...</td>\n",
       "      <td>...</td>\n",
       "      <td>...</td>\n",
       "      <td>...</td>\n",
       "    </tr>\n",
       "    <tr>\n",
       "      <th>41855</th>\n",
       "      <td>2021-09-01</td>\n",
       "      <td>Calgary, Alberta</td>\n",
       "      <td>Premium unleaded gasoline at self service fill...</td>\n",
       "      <td>156.6</td>\n",
       "      <td>Calgary</td>\n",
       "      <td>Alberta</td>\n",
       "      <td>Sep</td>\n",
       "      <td>2021</td>\n",
       "    </tr>\n",
       "    <tr>\n",
       "      <th>41856</th>\n",
       "      <td>2021-09-01</td>\n",
       "      <td>Calgary, Alberta</td>\n",
       "      <td>Diesel fuel at self service filling stations</td>\n",
       "      <td>125.1</td>\n",
       "      <td>Calgary</td>\n",
       "      <td>Alberta</td>\n",
       "      <td>Sep</td>\n",
       "      <td>2021</td>\n",
       "    </tr>\n",
       "    <tr>\n",
       "      <th>41923</th>\n",
       "      <td>2021-10-01</td>\n",
       "      <td>Calgary, Alberta</td>\n",
       "      <td>Regular unleaded gasoline at self service fill...</td>\n",
       "      <td>140.8</td>\n",
       "      <td>Calgary</td>\n",
       "      <td>Alberta</td>\n",
       "      <td>Oct</td>\n",
       "      <td>2021</td>\n",
       "    </tr>\n",
       "    <tr>\n",
       "      <th>41924</th>\n",
       "      <td>2021-10-01</td>\n",
       "      <td>Calgary, Alberta</td>\n",
       "      <td>Premium unleaded gasoline at self service fill...</td>\n",
       "      <td>164.4</td>\n",
       "      <td>Calgary</td>\n",
       "      <td>Alberta</td>\n",
       "      <td>Oct</td>\n",
       "      <td>2021</td>\n",
       "    </tr>\n",
       "    <tr>\n",
       "      <th>41925</th>\n",
       "      <td>2021-10-01</td>\n",
       "      <td>Calgary, Alberta</td>\n",
       "      <td>Diesel fuel at self service filling stations</td>\n",
       "      <td>138.3</td>\n",
       "      <td>Calgary</td>\n",
       "      <td>Alberta</td>\n",
       "      <td>Oct</td>\n",
       "      <td>2021</td>\n",
       "    </tr>\n",
       "  </tbody>\n",
       "</table>\n",
       "<p>2109 rows × 8 columns</p>\n",
       "</div>"
      ],
      "text/plain": [
       "            DATE               GEO  \\\n",
       "13    1979-01-01  Calgary, Alberta   \n",
       "28    1979-02-01  Calgary, Alberta   \n",
       "43    1979-03-01  Calgary, Alberta   \n",
       "58    1979-04-01  Calgary, Alberta   \n",
       "73    1979-05-01  Calgary, Alberta   \n",
       "...          ...               ...   \n",
       "41855 2021-09-01  Calgary, Alberta   \n",
       "41856 2021-09-01  Calgary, Alberta   \n",
       "41923 2021-10-01  Calgary, Alberta   \n",
       "41924 2021-10-01  Calgary, Alberta   \n",
       "41925 2021-10-01  Calgary, Alberta   \n",
       "\n",
       "                                                    TYPE  VALUE     City  \\\n",
       "13     Regular unleaded gasoline at full service fill...   18.7  Calgary   \n",
       "28     Regular unleaded gasoline at full service fill...   18.9  Calgary   \n",
       "43     Regular unleaded gasoline at full service fill...   18.9  Calgary   \n",
       "58     Regular unleaded gasoline at full service fill...   19.1  Calgary   \n",
       "73     Regular unleaded gasoline at full service fill...   19.2  Calgary   \n",
       "...                                                  ...    ...      ...   \n",
       "41855  Premium unleaded gasoline at self service fill...  156.6  Calgary   \n",
       "41856       Diesel fuel at self service filling stations  125.1  Calgary   \n",
       "41923  Regular unleaded gasoline at self service fill...  140.8  Calgary   \n",
       "41924  Premium unleaded gasoline at self service fill...  164.4  Calgary   \n",
       "41925       Diesel fuel at self service filling stations  138.3  Calgary   \n",
       "\n",
       "       Province Month  Year  \n",
       "13      Alberta   Jan  1979  \n",
       "28      Alberta   Feb  1979  \n",
       "43      Alberta   Mar  1979  \n",
       "58      Alberta   Apr  1979  \n",
       "73      Alberta   May  1979  \n",
       "...         ...   ...   ...  \n",
       "41855   Alberta   Sep  2021  \n",
       "41856   Alberta   Sep  2021  \n",
       "41923   Alberta   Oct  2021  \n",
       "41924   Alberta   Oct  2021  \n",
       "41925   Alberta   Oct  2021  \n",
       "\n",
       "[2109 rows x 8 columns]"
      ]
     },
     "execution_count": 17,
     "metadata": {},
     "output_type": "execute_result"
    }
   ],
   "source": [
    "# create var for calgary, then pass the data while looking at 'GEO' column\n",
    "# but then use the == to lock onto a speicifc string location of choice\n",
    "calgary = data[data['GEO'] == 'Calgary, Alberta']\n",
    "calgary"
   ]
  },
  {
   "cell_type": "markdown",
   "metadata": {},
   "source": [
    "Now, let's select 2000 year.\n"
   ]
  },
  {
   "cell_type": "code",
   "execution_count": 18,
   "metadata": {},
   "outputs": [
    {
     "data": {
      "text/html": [
       "<div>\n",
       "<style scoped>\n",
       "    .dataframe tbody tr th:only-of-type {\n",
       "        vertical-align: middle;\n",
       "    }\n",
       "\n",
       "    .dataframe tbody tr th {\n",
       "        vertical-align: top;\n",
       "    }\n",
       "\n",
       "    .dataframe thead th {\n",
       "        text-align: right;\n",
       "    }\n",
       "</style>\n",
       "<table border=\"1\" class=\"dataframe\">\n",
       "  <thead>\n",
       "    <tr style=\"text-align: right;\">\n",
       "      <th></th>\n",
       "      <th>DATE</th>\n",
       "      <th>GEO</th>\n",
       "      <th>TYPE</th>\n",
       "      <th>VALUE</th>\n",
       "      <th>City</th>\n",
       "      <th>Province</th>\n",
       "      <th>Month</th>\n",
       "      <th>Year</th>\n",
       "    </tr>\n",
       "  </thead>\n",
       "  <tbody>\n",
       "    <tr>\n",
       "      <th>16168</th>\n",
       "      <td>2000-01-01</td>\n",
       "      <td>St. John's, Newfoundland and Labrador</td>\n",
       "      <td>Regular unleaded gasoline at full service fill...</td>\n",
       "      <td>78.0</td>\n",
       "      <td>St. John's</td>\n",
       "      <td>Newfoundland and Labrador</td>\n",
       "      <td>Jan</td>\n",
       "      <td>2000</td>\n",
       "    </tr>\n",
       "    <tr>\n",
       "      <th>16169</th>\n",
       "      <td>2000-01-01</td>\n",
       "      <td>St. John's, Newfoundland and Labrador</td>\n",
       "      <td>Regular unleaded gasoline at self service fill...</td>\n",
       "      <td>74.9</td>\n",
       "      <td>St. John's</td>\n",
       "      <td>Newfoundland and Labrador</td>\n",
       "      <td>Jan</td>\n",
       "      <td>2000</td>\n",
       "    </tr>\n",
       "    <tr>\n",
       "      <th>16170</th>\n",
       "      <td>2000-01-01</td>\n",
       "      <td>St. John's, Newfoundland and Labrador</td>\n",
       "      <td>Premium unleaded gasoline at full service fill...</td>\n",
       "      <td>84.5</td>\n",
       "      <td>St. John's</td>\n",
       "      <td>Newfoundland and Labrador</td>\n",
       "      <td>Jan</td>\n",
       "      <td>2000</td>\n",
       "    </tr>\n",
       "    <tr>\n",
       "      <th>16171</th>\n",
       "      <td>2000-01-01</td>\n",
       "      <td>St. John's, Newfoundland and Labrador</td>\n",
       "      <td>Premium unleaded gasoline at self service fill...</td>\n",
       "      <td>81.3</td>\n",
       "      <td>St. John's</td>\n",
       "      <td>Newfoundland and Labrador</td>\n",
       "      <td>Jan</td>\n",
       "      <td>2000</td>\n",
       "    </tr>\n",
       "    <tr>\n",
       "      <th>16172</th>\n",
       "      <td>2000-01-01</td>\n",
       "      <td>St. John's, Newfoundland and Labrador</td>\n",
       "      <td>Diesel fuel at full service filling stations</td>\n",
       "      <td>69.2</td>\n",
       "      <td>St. John's</td>\n",
       "      <td>Newfoundland and Labrador</td>\n",
       "      <td>Jan</td>\n",
       "      <td>2000</td>\n",
       "    </tr>\n",
       "    <tr>\n",
       "      <th>...</th>\n",
       "      <td>...</td>\n",
       "      <td>...</td>\n",
       "      <td>...</td>\n",
       "      <td>...</td>\n",
       "      <td>...</td>\n",
       "      <td>...</td>\n",
       "      <td>...</td>\n",
       "      <td>...</td>\n",
       "    </tr>\n",
       "    <tr>\n",
       "      <th>17579</th>\n",
       "      <td>2000-12-01</td>\n",
       "      <td>Yellowknife, Northwest Territories</td>\n",
       "      <td>Premium unleaded gasoline at full service fill...</td>\n",
       "      <td>92.6</td>\n",
       "      <td>Yellowknife</td>\n",
       "      <td>Northwest Territories</td>\n",
       "      <td>Dec</td>\n",
       "      <td>2000</td>\n",
       "    </tr>\n",
       "    <tr>\n",
       "      <th>17580</th>\n",
       "      <td>2000-12-01</td>\n",
       "      <td>Yellowknife, Northwest Territories</td>\n",
       "      <td>Premium unleaded gasoline at self service fill...</td>\n",
       "      <td>95.4</td>\n",
       "      <td>Yellowknife</td>\n",
       "      <td>Northwest Territories</td>\n",
       "      <td>Dec</td>\n",
       "      <td>2000</td>\n",
       "    </tr>\n",
       "    <tr>\n",
       "      <th>17581</th>\n",
       "      <td>2000-12-01</td>\n",
       "      <td>Yellowknife, Northwest Territories</td>\n",
       "      <td>Diesel fuel at full service filling stations</td>\n",
       "      <td>81.9</td>\n",
       "      <td>Yellowknife</td>\n",
       "      <td>Northwest Territories</td>\n",
       "      <td>Dec</td>\n",
       "      <td>2000</td>\n",
       "    </tr>\n",
       "    <tr>\n",
       "      <th>17582</th>\n",
       "      <td>2000-12-01</td>\n",
       "      <td>Yellowknife, Northwest Territories</td>\n",
       "      <td>Diesel fuel at self service filling stations</td>\n",
       "      <td>78.9</td>\n",
       "      <td>Yellowknife</td>\n",
       "      <td>Northwest Territories</td>\n",
       "      <td>Dec</td>\n",
       "      <td>2000</td>\n",
       "    </tr>\n",
       "    <tr>\n",
       "      <th>17583</th>\n",
       "      <td>2000-12-01</td>\n",
       "      <td>Yellowknife, Northwest Territories</td>\n",
       "      <td>Household heating fuel</td>\n",
       "      <td>58.8</td>\n",
       "      <td>Yellowknife</td>\n",
       "      <td>Northwest Territories</td>\n",
       "      <td>Dec</td>\n",
       "      <td>2000</td>\n",
       "    </tr>\n",
       "  </tbody>\n",
       "</table>\n",
       "<p>1416 rows × 8 columns</p>\n",
       "</div>"
      ],
      "text/plain": [
       "            DATE                                    GEO  \\\n",
       "16168 2000-01-01  St. John's, Newfoundland and Labrador   \n",
       "16169 2000-01-01  St. John's, Newfoundland and Labrador   \n",
       "16170 2000-01-01  St. John's, Newfoundland and Labrador   \n",
       "16171 2000-01-01  St. John's, Newfoundland and Labrador   \n",
       "16172 2000-01-01  St. John's, Newfoundland and Labrador   \n",
       "...          ...                                    ...   \n",
       "17579 2000-12-01     Yellowknife, Northwest Territories   \n",
       "17580 2000-12-01     Yellowknife, Northwest Territories   \n",
       "17581 2000-12-01     Yellowknife, Northwest Territories   \n",
       "17582 2000-12-01     Yellowknife, Northwest Territories   \n",
       "17583 2000-12-01     Yellowknife, Northwest Territories   \n",
       "\n",
       "                                                    TYPE  VALUE         City  \\\n",
       "16168  Regular unleaded gasoline at full service fill...   78.0   St. John's   \n",
       "16169  Regular unleaded gasoline at self service fill...   74.9   St. John's   \n",
       "16170  Premium unleaded gasoline at full service fill...   84.5   St. John's   \n",
       "16171  Premium unleaded gasoline at self service fill...   81.3   St. John's   \n",
       "16172       Diesel fuel at full service filling stations   69.2   St. John's   \n",
       "...                                                  ...    ...          ...   \n",
       "17579  Premium unleaded gasoline at full service fill...   92.6  Yellowknife   \n",
       "17580  Premium unleaded gasoline at self service fill...   95.4  Yellowknife   \n",
       "17581       Diesel fuel at full service filling stations   81.9  Yellowknife   \n",
       "17582       Diesel fuel at self service filling stations   78.9  Yellowknife   \n",
       "17583                             Household heating fuel   58.8  Yellowknife   \n",
       "\n",
       "                         Province Month  Year  \n",
       "16168   Newfoundland and Labrador   Jan  2000  \n",
       "16169   Newfoundland and Labrador   Jan  2000  \n",
       "16170   Newfoundland and Labrador   Jan  2000  \n",
       "16171   Newfoundland and Labrador   Jan  2000  \n",
       "16172   Newfoundland and Labrador   Jan  2000  \n",
       "...                           ...   ...   ...  \n",
       "17579       Northwest Territories   Dec  2000  \n",
       "17580       Northwest Territories   Dec  2000  \n",
       "17581       Northwest Territories   Dec  2000  \n",
       "17582       Northwest Territories   Dec  2000  \n",
       "17583       Northwest Territories   Dec  2000  \n",
       "\n",
       "[1416 rows x 8 columns]"
      ]
     },
     "execution_count": 18,
     "metadata": {},
     "output_type": "execute_result"
    }
   ],
   "source": [
    "sel_years = data[data['Year'] ==  2000]\n",
    "sel_years"
   ]
  },
  {
   "cell_type": "markdown",
   "metadata": {},
   "source": [
    "### Filtering by multiple conditions\n"
   ]
  },
  {
   "cell_type": "markdown",
   "metadata": {},
   "source": [
    "There are many alternative ways to perform filtering in pandas. We can also use '|' ('or') and '&' (and) to select multiple columns and rows.\n"
   ]
  },
  {
   "cell_type": "markdown",
   "metadata": {},
   "source": [
    "For example, let us select Toronto and Edmonton locations.\n"
   ]
  },
  {
   "cell_type": "code",
   "execution_count": 20,
   "metadata": {},
   "outputs": [
    {
     "data": {
      "text/html": [
       "<div>\n",
       "<style scoped>\n",
       "    .dataframe tbody tr th:only-of-type {\n",
       "        vertical-align: middle;\n",
       "    }\n",
       "\n",
       "    .dataframe tbody tr th {\n",
       "        vertical-align: top;\n",
       "    }\n",
       "\n",
       "    .dataframe thead th {\n",
       "        text-align: right;\n",
       "    }\n",
       "</style>\n",
       "<table border=\"1\" class=\"dataframe\">\n",
       "  <thead>\n",
       "    <tr style=\"text-align: right;\">\n",
       "      <th></th>\n",
       "      <th>DATE</th>\n",
       "      <th>GEO</th>\n",
       "      <th>TYPE</th>\n",
       "      <th>VALUE</th>\n",
       "      <th>City</th>\n",
       "      <th>Province</th>\n",
       "      <th>Month</th>\n",
       "      <th>Year</th>\n",
       "    </tr>\n",
       "  </thead>\n",
       "  <tbody>\n",
       "    <tr>\n",
       "      <th>7</th>\n",
       "      <td>1979-01-01</td>\n",
       "      <td>Toronto, Ontario</td>\n",
       "      <td>Regular unleaded gasoline at full service fill...</td>\n",
       "      <td>23.0</td>\n",
       "      <td>Toronto</td>\n",
       "      <td>Ontario</td>\n",
       "      <td>Jan</td>\n",
       "      <td>1979</td>\n",
       "    </tr>\n",
       "    <tr>\n",
       "      <th>12</th>\n",
       "      <td>1979-01-01</td>\n",
       "      <td>Edmonton, Alberta</td>\n",
       "      <td>Regular unleaded gasoline at full service fill...</td>\n",
       "      <td>18.3</td>\n",
       "      <td>Edmonton</td>\n",
       "      <td>Alberta</td>\n",
       "      <td>Jan</td>\n",
       "      <td>1979</td>\n",
       "    </tr>\n",
       "    <tr>\n",
       "      <th>22</th>\n",
       "      <td>1979-02-01</td>\n",
       "      <td>Toronto, Ontario</td>\n",
       "      <td>Regular unleaded gasoline at full service fill...</td>\n",
       "      <td>23.2</td>\n",
       "      <td>Toronto</td>\n",
       "      <td>Ontario</td>\n",
       "      <td>Feb</td>\n",
       "      <td>1979</td>\n",
       "    </tr>\n",
       "    <tr>\n",
       "      <th>27</th>\n",
       "      <td>1979-02-01</td>\n",
       "      <td>Edmonton, Alberta</td>\n",
       "      <td>Regular unleaded gasoline at full service fill...</td>\n",
       "      <td>18.5</td>\n",
       "      <td>Edmonton</td>\n",
       "      <td>Alberta</td>\n",
       "      <td>Feb</td>\n",
       "      <td>1979</td>\n",
       "    </tr>\n",
       "    <tr>\n",
       "      <th>37</th>\n",
       "      <td>1979-03-01</td>\n",
       "      <td>Toronto, Ontario</td>\n",
       "      <td>Regular unleaded gasoline at full service fill...</td>\n",
       "      <td>23.2</td>\n",
       "      <td>Toronto</td>\n",
       "      <td>Ontario</td>\n",
       "      <td>Mar</td>\n",
       "      <td>1979</td>\n",
       "    </tr>\n",
       "    <tr>\n",
       "      <th>...</th>\n",
       "      <td>...</td>\n",
       "      <td>...</td>\n",
       "      <td>...</td>\n",
       "      <td>...</td>\n",
       "      <td>...</td>\n",
       "      <td>...</td>\n",
       "      <td>...</td>\n",
       "      <td>...</td>\n",
       "    </tr>\n",
       "    <tr>\n",
       "      <th>41903</th>\n",
       "      <td>2021-10-01</td>\n",
       "      <td>Toronto, Ontario</td>\n",
       "      <td>Diesel fuel at self service filling stations</td>\n",
       "      <td>141.3</td>\n",
       "      <td>Toronto</td>\n",
       "      <td>Ontario</td>\n",
       "      <td>Oct</td>\n",
       "      <td>2021</td>\n",
       "    </tr>\n",
       "    <tr>\n",
       "      <th>41904</th>\n",
       "      <td>2021-10-01</td>\n",
       "      <td>Toronto, Ontario</td>\n",
       "      <td>Household heating fuel</td>\n",
       "      <td>148.0</td>\n",
       "      <td>Toronto</td>\n",
       "      <td>Ontario</td>\n",
       "      <td>Oct</td>\n",
       "      <td>2021</td>\n",
       "    </tr>\n",
       "    <tr>\n",
       "      <th>41920</th>\n",
       "      <td>2021-10-01</td>\n",
       "      <td>Edmonton, Alberta</td>\n",
       "      <td>Regular unleaded gasoline at self service fill...</td>\n",
       "      <td>138.3</td>\n",
       "      <td>Edmonton</td>\n",
       "      <td>Alberta</td>\n",
       "      <td>Oct</td>\n",
       "      <td>2021</td>\n",
       "    </tr>\n",
       "    <tr>\n",
       "      <th>41921</th>\n",
       "      <td>2021-10-01</td>\n",
       "      <td>Edmonton, Alberta</td>\n",
       "      <td>Premium unleaded gasoline at self service fill...</td>\n",
       "      <td>159.6</td>\n",
       "      <td>Edmonton</td>\n",
       "      <td>Alberta</td>\n",
       "      <td>Oct</td>\n",
       "      <td>2021</td>\n",
       "    </tr>\n",
       "    <tr>\n",
       "      <th>41922</th>\n",
       "      <td>2021-10-01</td>\n",
       "      <td>Edmonton, Alberta</td>\n",
       "      <td>Diesel fuel at self service filling stations</td>\n",
       "      <td>134.7</td>\n",
       "      <td>Edmonton</td>\n",
       "      <td>Alberta</td>\n",
       "      <td>Oct</td>\n",
       "      <td>2021</td>\n",
       "    </tr>\n",
       "  </tbody>\n",
       "</table>\n",
       "<p>4600 rows × 8 columns</p>\n",
       "</div>"
      ],
      "text/plain": [
       "            DATE                GEO  \\\n",
       "7     1979-01-01   Toronto, Ontario   \n",
       "12    1979-01-01  Edmonton, Alberta   \n",
       "22    1979-02-01   Toronto, Ontario   \n",
       "27    1979-02-01  Edmonton, Alberta   \n",
       "37    1979-03-01   Toronto, Ontario   \n",
       "...          ...                ...   \n",
       "41903 2021-10-01   Toronto, Ontario   \n",
       "41904 2021-10-01   Toronto, Ontario   \n",
       "41920 2021-10-01  Edmonton, Alberta   \n",
       "41921 2021-10-01  Edmonton, Alberta   \n",
       "41922 2021-10-01  Edmonton, Alberta   \n",
       "\n",
       "                                                    TYPE  VALUE      City  \\\n",
       "7      Regular unleaded gasoline at full service fill...   23.0   Toronto   \n",
       "12     Regular unleaded gasoline at full service fill...   18.3  Edmonton   \n",
       "22     Regular unleaded gasoline at full service fill...   23.2   Toronto   \n",
       "27     Regular unleaded gasoline at full service fill...   18.5  Edmonton   \n",
       "37     Regular unleaded gasoline at full service fill...   23.2   Toronto   \n",
       "...                                                  ...    ...       ...   \n",
       "41903       Diesel fuel at self service filling stations  141.3   Toronto   \n",
       "41904                             Household heating fuel  148.0   Toronto   \n",
       "41920  Regular unleaded gasoline at self service fill...  138.3  Edmonton   \n",
       "41921  Premium unleaded gasoline at self service fill...  159.6  Edmonton   \n",
       "41922       Diesel fuel at self service filling stations  134.7  Edmonton   \n",
       "\n",
       "       Province Month  Year  \n",
       "7       Ontario   Jan  1979  \n",
       "12      Alberta   Jan  1979  \n",
       "22      Ontario   Feb  1979  \n",
       "27      Alberta   Feb  1979  \n",
       "37      Ontario   Mar  1979  \n",
       "...         ...   ...   ...  \n",
       "41903   Ontario   Oct  2021  \n",
       "41904   Ontario   Oct  2021  \n",
       "41920   Alberta   Oct  2021  \n",
       "41921   Alberta   Oct  2021  \n",
       "41922   Alberta   Oct  2021  \n",
       "\n",
       "[4600 rows x 8 columns]"
      ]
     },
     "execution_count": 20,
     "metadata": {},
     "output_type": "execute_result"
    }
   ],
   "source": [
    "# similar, of note is the | symbol for \"or\"\n",
    "mult_loc = data[(data['GEO'] == \"Toronto, Ontario\") | (data['GEO'] == \"Edmonton, Alberta\")]\n",
    "mult_loc\n",
    "\n",
    "# here we locked by 2 geos"
   ]
  },
  {
   "cell_type": "markdown",
   "metadata": {},
   "source": [
    "Alternatively, we can use `isin` method to select multiple locations.\n"
   ]
  },
  {
   "cell_type": "code",
   "execution_count": 21,
   "metadata": {},
   "outputs": [
    {
     "data": {
      "text/html": [
       "<div>\n",
       "<style scoped>\n",
       "    .dataframe tbody tr th:only-of-type {\n",
       "        vertical-align: middle;\n",
       "    }\n",
       "\n",
       "    .dataframe tbody tr th {\n",
       "        vertical-align: top;\n",
       "    }\n",
       "\n",
       "    .dataframe thead th {\n",
       "        text-align: right;\n",
       "    }\n",
       "</style>\n",
       "<table border=\"1\" class=\"dataframe\">\n",
       "  <thead>\n",
       "    <tr style=\"text-align: right;\">\n",
       "      <th></th>\n",
       "      <th>DATE</th>\n",
       "      <th>GEO</th>\n",
       "      <th>TYPE</th>\n",
       "      <th>VALUE</th>\n",
       "      <th>City</th>\n",
       "      <th>Province</th>\n",
       "      <th>Month</th>\n",
       "      <th>Year</th>\n",
       "    </tr>\n",
       "  </thead>\n",
       "  <tbody>\n",
       "    <tr>\n",
       "      <th>7</th>\n",
       "      <td>1979-01-01</td>\n",
       "      <td>Toronto, Ontario</td>\n",
       "      <td>Regular unleaded gasoline at full service fill...</td>\n",
       "      <td>23.0</td>\n",
       "      <td>Toronto</td>\n",
       "      <td>Ontario</td>\n",
       "      <td>Jan</td>\n",
       "      <td>1979</td>\n",
       "    </tr>\n",
       "    <tr>\n",
       "      <th>12</th>\n",
       "      <td>1979-01-01</td>\n",
       "      <td>Edmonton, Alberta</td>\n",
       "      <td>Regular unleaded gasoline at full service fill...</td>\n",
       "      <td>18.3</td>\n",
       "      <td>Edmonton</td>\n",
       "      <td>Alberta</td>\n",
       "      <td>Jan</td>\n",
       "      <td>1979</td>\n",
       "    </tr>\n",
       "    <tr>\n",
       "      <th>13</th>\n",
       "      <td>1979-01-01</td>\n",
       "      <td>Calgary, Alberta</td>\n",
       "      <td>Regular unleaded gasoline at full service fill...</td>\n",
       "      <td>18.7</td>\n",
       "      <td>Calgary</td>\n",
       "      <td>Alberta</td>\n",
       "      <td>Jan</td>\n",
       "      <td>1979</td>\n",
       "    </tr>\n",
       "    <tr>\n",
       "      <th>22</th>\n",
       "      <td>1979-02-01</td>\n",
       "      <td>Toronto, Ontario</td>\n",
       "      <td>Regular unleaded gasoline at full service fill...</td>\n",
       "      <td>23.2</td>\n",
       "      <td>Toronto</td>\n",
       "      <td>Ontario</td>\n",
       "      <td>Feb</td>\n",
       "      <td>1979</td>\n",
       "    </tr>\n",
       "    <tr>\n",
       "      <th>27</th>\n",
       "      <td>1979-02-01</td>\n",
       "      <td>Edmonton, Alberta</td>\n",
       "      <td>Regular unleaded gasoline at full service fill...</td>\n",
       "      <td>18.5</td>\n",
       "      <td>Edmonton</td>\n",
       "      <td>Alberta</td>\n",
       "      <td>Feb</td>\n",
       "      <td>1979</td>\n",
       "    </tr>\n",
       "    <tr>\n",
       "      <th>...</th>\n",
       "      <td>...</td>\n",
       "      <td>...</td>\n",
       "      <td>...</td>\n",
       "      <td>...</td>\n",
       "      <td>...</td>\n",
       "      <td>...</td>\n",
       "      <td>...</td>\n",
       "      <td>...</td>\n",
       "    </tr>\n",
       "    <tr>\n",
       "      <th>41921</th>\n",
       "      <td>2021-10-01</td>\n",
       "      <td>Edmonton, Alberta</td>\n",
       "      <td>Premium unleaded gasoline at self service fill...</td>\n",
       "      <td>159.6</td>\n",
       "      <td>Edmonton</td>\n",
       "      <td>Alberta</td>\n",
       "      <td>Oct</td>\n",
       "      <td>2021</td>\n",
       "    </tr>\n",
       "    <tr>\n",
       "      <th>41922</th>\n",
       "      <td>2021-10-01</td>\n",
       "      <td>Edmonton, Alberta</td>\n",
       "      <td>Diesel fuel at self service filling stations</td>\n",
       "      <td>134.7</td>\n",
       "      <td>Edmonton</td>\n",
       "      <td>Alberta</td>\n",
       "      <td>Oct</td>\n",
       "      <td>2021</td>\n",
       "    </tr>\n",
       "    <tr>\n",
       "      <th>41923</th>\n",
       "      <td>2021-10-01</td>\n",
       "      <td>Calgary, Alberta</td>\n",
       "      <td>Regular unleaded gasoline at self service fill...</td>\n",
       "      <td>140.8</td>\n",
       "      <td>Calgary</td>\n",
       "      <td>Alberta</td>\n",
       "      <td>Oct</td>\n",
       "      <td>2021</td>\n",
       "    </tr>\n",
       "    <tr>\n",
       "      <th>41924</th>\n",
       "      <td>2021-10-01</td>\n",
       "      <td>Calgary, Alberta</td>\n",
       "      <td>Premium unleaded gasoline at self service fill...</td>\n",
       "      <td>164.4</td>\n",
       "      <td>Calgary</td>\n",
       "      <td>Alberta</td>\n",
       "      <td>Oct</td>\n",
       "      <td>2021</td>\n",
       "    </tr>\n",
       "    <tr>\n",
       "      <th>41925</th>\n",
       "      <td>2021-10-01</td>\n",
       "      <td>Calgary, Alberta</td>\n",
       "      <td>Diesel fuel at self service filling stations</td>\n",
       "      <td>138.3</td>\n",
       "      <td>Calgary</td>\n",
       "      <td>Alberta</td>\n",
       "      <td>Oct</td>\n",
       "      <td>2021</td>\n",
       "    </tr>\n",
       "  </tbody>\n",
       "</table>\n",
       "<p>6709 rows × 8 columns</p>\n",
       "</div>"
      ],
      "text/plain": [
       "            DATE                GEO  \\\n",
       "7     1979-01-01   Toronto, Ontario   \n",
       "12    1979-01-01  Edmonton, Alberta   \n",
       "13    1979-01-01   Calgary, Alberta   \n",
       "22    1979-02-01   Toronto, Ontario   \n",
       "27    1979-02-01  Edmonton, Alberta   \n",
       "...          ...                ...   \n",
       "41921 2021-10-01  Edmonton, Alberta   \n",
       "41922 2021-10-01  Edmonton, Alberta   \n",
       "41923 2021-10-01   Calgary, Alberta   \n",
       "41924 2021-10-01   Calgary, Alberta   \n",
       "41925 2021-10-01   Calgary, Alberta   \n",
       "\n",
       "                                                    TYPE  VALUE      City  \\\n",
       "7      Regular unleaded gasoline at full service fill...   23.0   Toronto   \n",
       "12     Regular unleaded gasoline at full service fill...   18.3  Edmonton   \n",
       "13     Regular unleaded gasoline at full service fill...   18.7   Calgary   \n",
       "22     Regular unleaded gasoline at full service fill...   23.2   Toronto   \n",
       "27     Regular unleaded gasoline at full service fill...   18.5  Edmonton   \n",
       "...                                                  ...    ...       ...   \n",
       "41921  Premium unleaded gasoline at self service fill...  159.6  Edmonton   \n",
       "41922       Diesel fuel at self service filling stations  134.7  Edmonton   \n",
       "41923  Regular unleaded gasoline at self service fill...  140.8   Calgary   \n",
       "41924  Premium unleaded gasoline at self service fill...  164.4   Calgary   \n",
       "41925       Diesel fuel at self service filling stations  138.3   Calgary   \n",
       "\n",
       "       Province Month  Year  \n",
       "7       Ontario   Jan  1979  \n",
       "12      Alberta   Jan  1979  \n",
       "13      Alberta   Jan  1979  \n",
       "22      Ontario   Feb  1979  \n",
       "27      Alberta   Feb  1979  \n",
       "...         ...   ...   ...  \n",
       "41921   Alberta   Oct  2021  \n",
       "41922   Alberta   Oct  2021  \n",
       "41923   Alberta   Oct  2021  \n",
       "41924   Alberta   Oct  2021  \n",
       "41925   Alberta   Oct  2021  \n",
       "\n",
       "[6709 rows x 8 columns]"
      ]
     },
     "execution_count": 21,
     "metadata": {},
     "output_type": "execute_result"
    }
   ],
   "source": [
    "# isin seems faster, but harder to understand to quickly?\n",
    "cities = ['Calgary', 'Toronto', 'Edmonton']\n",
    "CTE = data[data.City.isin(cities)]\n",
    "CTE"
   ]
  },
  {
   "cell_type": "markdown",
   "metadata": {},
   "source": [
    "## Exercise 2 a\n"
   ]
  },
  {
   "cell_type": "markdown",
   "metadata": {},
   "source": [
    "In this exercise, please use the examples shown above, to select the data that shows the price of the 'household heating fuel', in Vancouver, in 1990.\n"
   ]
  },
  {
   "cell_type": "code",
   "execution_count": 23,
   "metadata": {},
   "outputs": [
    {
     "data": {
      "text/html": [
       "<div>\n",
       "<style scoped>\n",
       "    .dataframe tbody tr th:only-of-type {\n",
       "        vertical-align: middle;\n",
       "    }\n",
       "\n",
       "    .dataframe tbody tr th {\n",
       "        vertical-align: top;\n",
       "    }\n",
       "\n",
       "    .dataframe thead th {\n",
       "        text-align: right;\n",
       "    }\n",
       "</style>\n",
       "<table border=\"1\" class=\"dataframe\">\n",
       "  <thead>\n",
       "    <tr style=\"text-align: right;\">\n",
       "      <th></th>\n",
       "      <th>DATE</th>\n",
       "      <th>GEO</th>\n",
       "      <th>TYPE</th>\n",
       "      <th>VALUE</th>\n",
       "      <th>City</th>\n",
       "      <th>Province</th>\n",
       "      <th>Month</th>\n",
       "      <th>Year</th>\n",
       "    </tr>\n",
       "  </thead>\n",
       "  <tbody>\n",
       "    <tr>\n",
       "      <th>2192</th>\n",
       "      <td>1990-01-01</td>\n",
       "      <td>Vancouver, British Columbia</td>\n",
       "      <td>Household heating fuel</td>\n",
       "      <td>32.4</td>\n",
       "      <td>Vancouver</td>\n",
       "      <td>British Columbia</td>\n",
       "      <td>Jan</td>\n",
       "      <td>1990</td>\n",
       "    </tr>\n",
       "    <tr>\n",
       "      <th>2304</th>\n",
       "      <td>1990-02-01</td>\n",
       "      <td>Vancouver, British Columbia</td>\n",
       "      <td>Household heating fuel</td>\n",
       "      <td>33.7</td>\n",
       "      <td>Vancouver</td>\n",
       "      <td>British Columbia</td>\n",
       "      <td>Feb</td>\n",
       "      <td>1990</td>\n",
       "    </tr>\n",
       "    <tr>\n",
       "      <th>2416</th>\n",
       "      <td>1990-03-01</td>\n",
       "      <td>Vancouver, British Columbia</td>\n",
       "      <td>Household heating fuel</td>\n",
       "      <td>34.0</td>\n",
       "      <td>Vancouver</td>\n",
       "      <td>British Columbia</td>\n",
       "      <td>Mar</td>\n",
       "      <td>1990</td>\n",
       "    </tr>\n",
       "    <tr>\n",
       "      <th>2528</th>\n",
       "      <td>1990-04-01</td>\n",
       "      <td>Vancouver, British Columbia</td>\n",
       "      <td>Household heating fuel</td>\n",
       "      <td>34.5</td>\n",
       "      <td>Vancouver</td>\n",
       "      <td>British Columbia</td>\n",
       "      <td>Apr</td>\n",
       "      <td>1990</td>\n",
       "    </tr>\n",
       "    <tr>\n",
       "      <th>2640</th>\n",
       "      <td>1990-05-01</td>\n",
       "      <td>Vancouver, British Columbia</td>\n",
       "      <td>Household heating fuel</td>\n",
       "      <td>34.5</td>\n",
       "      <td>Vancouver</td>\n",
       "      <td>British Columbia</td>\n",
       "      <td>May</td>\n",
       "      <td>1990</td>\n",
       "    </tr>\n",
       "    <tr>\n",
       "      <th>2752</th>\n",
       "      <td>1990-06-01</td>\n",
       "      <td>Vancouver, British Columbia</td>\n",
       "      <td>Household heating fuel</td>\n",
       "      <td>34.5</td>\n",
       "      <td>Vancouver</td>\n",
       "      <td>British Columbia</td>\n",
       "      <td>Jun</td>\n",
       "      <td>1990</td>\n",
       "    </tr>\n",
       "    <tr>\n",
       "      <th>2864</th>\n",
       "      <td>1990-07-01</td>\n",
       "      <td>Vancouver, British Columbia</td>\n",
       "      <td>Household heating fuel</td>\n",
       "      <td>34.5</td>\n",
       "      <td>Vancouver</td>\n",
       "      <td>British Columbia</td>\n",
       "      <td>Jul</td>\n",
       "      <td>1990</td>\n",
       "    </tr>\n",
       "    <tr>\n",
       "      <th>2976</th>\n",
       "      <td>1990-08-01</td>\n",
       "      <td>Vancouver, British Columbia</td>\n",
       "      <td>Household heating fuel</td>\n",
       "      <td>34.5</td>\n",
       "      <td>Vancouver</td>\n",
       "      <td>British Columbia</td>\n",
       "      <td>Aug</td>\n",
       "      <td>1990</td>\n",
       "    </tr>\n",
       "    <tr>\n",
       "      <th>3088</th>\n",
       "      <td>1990-09-01</td>\n",
       "      <td>Vancouver, British Columbia</td>\n",
       "      <td>Household heating fuel</td>\n",
       "      <td>36.7</td>\n",
       "      <td>Vancouver</td>\n",
       "      <td>British Columbia</td>\n",
       "      <td>Sep</td>\n",
       "      <td>1990</td>\n",
       "    </tr>\n",
       "    <tr>\n",
       "      <th>3200</th>\n",
       "      <td>1990-10-01</td>\n",
       "      <td>Vancouver, British Columbia</td>\n",
       "      <td>Household heating fuel</td>\n",
       "      <td>41.8</td>\n",
       "      <td>Vancouver</td>\n",
       "      <td>British Columbia</td>\n",
       "      <td>Oct</td>\n",
       "      <td>1990</td>\n",
       "    </tr>\n",
       "    <tr>\n",
       "      <th>3312</th>\n",
       "      <td>1990-11-01</td>\n",
       "      <td>Vancouver, British Columbia</td>\n",
       "      <td>Household heating fuel</td>\n",
       "      <td>42.7</td>\n",
       "      <td>Vancouver</td>\n",
       "      <td>British Columbia</td>\n",
       "      <td>Nov</td>\n",
       "      <td>1990</td>\n",
       "    </tr>\n",
       "    <tr>\n",
       "      <th>3424</th>\n",
       "      <td>1990-12-01</td>\n",
       "      <td>Vancouver, British Columbia</td>\n",
       "      <td>Household heating fuel</td>\n",
       "      <td>45.7</td>\n",
       "      <td>Vancouver</td>\n",
       "      <td>British Columbia</td>\n",
       "      <td>Dec</td>\n",
       "      <td>1990</td>\n",
       "    </tr>\n",
       "  </tbody>\n",
       "</table>\n",
       "</div>"
      ],
      "text/plain": [
       "           DATE                          GEO                    TYPE  VALUE  \\\n",
       "2192 1990-01-01  Vancouver, British Columbia  Household heating fuel   32.4   \n",
       "2304 1990-02-01  Vancouver, British Columbia  Household heating fuel   33.7   \n",
       "2416 1990-03-01  Vancouver, British Columbia  Household heating fuel   34.0   \n",
       "2528 1990-04-01  Vancouver, British Columbia  Household heating fuel   34.5   \n",
       "2640 1990-05-01  Vancouver, British Columbia  Household heating fuel   34.5   \n",
       "2752 1990-06-01  Vancouver, British Columbia  Household heating fuel   34.5   \n",
       "2864 1990-07-01  Vancouver, British Columbia  Household heating fuel   34.5   \n",
       "2976 1990-08-01  Vancouver, British Columbia  Household heating fuel   34.5   \n",
       "3088 1990-09-01  Vancouver, British Columbia  Household heating fuel   36.7   \n",
       "3200 1990-10-01  Vancouver, British Columbia  Household heating fuel   41.8   \n",
       "3312 1990-11-01  Vancouver, British Columbia  Household heating fuel   42.7   \n",
       "3424 1990-12-01  Vancouver, British Columbia  Household heating fuel   45.7   \n",
       "\n",
       "           City           Province Month  Year  \n",
       "2192  Vancouver   British Columbia   Jan  1990  \n",
       "2304  Vancouver   British Columbia   Feb  1990  \n",
       "2416  Vancouver   British Columbia   Mar  1990  \n",
       "2528  Vancouver   British Columbia   Apr  1990  \n",
       "2640  Vancouver   British Columbia   May  1990  \n",
       "2752  Vancouver   British Columbia   Jun  1990  \n",
       "2864  Vancouver   British Columbia   Jul  1990  \n",
       "2976  Vancouver   British Columbia   Aug  1990  \n",
       "3088  Vancouver   British Columbia   Sep  1990  \n",
       "3200  Vancouver   British Columbia   Oct  1990  \n",
       "3312  Vancouver   British Columbia   Nov  1990  \n",
       "3424  Vancouver   British Columbia   Dec  1990  "
      ]
     },
     "execution_count": 23,
     "metadata": {},
     "output_type": "execute_result"
    }
   ],
   "source": [
    "# select on 'household heating fuel' which is a string entry within the Vancouver geo location column\n",
    "mult_loc_hhf_Van = data[(data['Year'] == 1990) & (data['TYPE'] == \"Household heating fuel\") & (data['City']=='Vancouver')]\n",
    "mult_loc_hhf_Van\n",
    "\n",
    "# could use the isin function?"
   ]
  },
  {
   "cell_type": "markdown",
   "metadata": {},
   "source": [
    "<details>\n",
    "<summary><strong>Solution</strong> (Click Here)</summary>\n",
    "    &emsp; &emsp; <code>\n",
    "exercise2a = data[( data['Year'] ==  1990) & (data['TYPE'] == \"Household heating fuel\") & (data['City']=='Vancouver')]\n",
    "exercise2a\n",
    "</code>\n",
    "</details>\n"
   ]
  },
  {
   "cell_type": "markdown",
   "metadata": {},
   "source": [
    "## Exercise 2 b\n"
   ]
  },
  {
   "cell_type": "markdown",
   "metadata": {},
   "source": [
    "In this exercise, please select the data that shows the price of the 'household heating fuel', in Vancouver, in the years of 1979 and 2021.\n"
   ]
  },
  {
   "cell_type": "code",
   "execution_count": 32,
   "metadata": {},
   "outputs": [
    {
     "data": {
      "text/html": [
       "<div>\n",
       "<style scoped>\n",
       "    .dataframe tbody tr th:only-of-type {\n",
       "        vertical-align: middle;\n",
       "    }\n",
       "\n",
       "    .dataframe tbody tr th {\n",
       "        vertical-align: top;\n",
       "    }\n",
       "\n",
       "    .dataframe thead th {\n",
       "        text-align: right;\n",
       "    }\n",
       "</style>\n",
       "<table border=\"1\" class=\"dataframe\">\n",
       "  <thead>\n",
       "    <tr style=\"text-align: right;\">\n",
       "      <th></th>\n",
       "      <th>DATE</th>\n",
       "      <th>GEO</th>\n",
       "      <th>TYPE</th>\n",
       "      <th>VALUE</th>\n",
       "      <th>City</th>\n",
       "      <th>Province</th>\n",
       "      <th>Month</th>\n",
       "      <th>Year</th>\n",
       "    </tr>\n",
       "  </thead>\n",
       "  <tbody>\n",
       "    <tr>\n",
       "      <th>0</th>\n",
       "      <td>1979-01-01</td>\n",
       "      <td>St. John's, Newfoundland and Labrador</td>\n",
       "      <td>Regular unleaded gasoline at full service fill...</td>\n",
       "      <td>26.0</td>\n",
       "      <td>St. John's</td>\n",
       "      <td>Newfoundland and Labrador</td>\n",
       "      <td>Jan</td>\n",
       "      <td>1979</td>\n",
       "    </tr>\n",
       "    <tr>\n",
       "      <th>1</th>\n",
       "      <td>1979-01-01</td>\n",
       "      <td>Charlottetown and Summerside, Prince Edward Is...</td>\n",
       "      <td>Regular unleaded gasoline at full service fill...</td>\n",
       "      <td>24.6</td>\n",
       "      <td>Charlottetown and Summerside</td>\n",
       "      <td>Prince Edward Island</td>\n",
       "      <td>Jan</td>\n",
       "      <td>1979</td>\n",
       "    </tr>\n",
       "    <tr>\n",
       "      <th>2</th>\n",
       "      <td>1979-01-01</td>\n",
       "      <td>Halifax, Nova Scotia</td>\n",
       "      <td>Regular unleaded gasoline at full service fill...</td>\n",
       "      <td>23.4</td>\n",
       "      <td>Halifax</td>\n",
       "      <td>Nova Scotia</td>\n",
       "      <td>Jan</td>\n",
       "      <td>1979</td>\n",
       "    </tr>\n",
       "    <tr>\n",
       "      <th>3</th>\n",
       "      <td>1979-01-01</td>\n",
       "      <td>Saint John, New Brunswick</td>\n",
       "      <td>Regular unleaded gasoline at full service fill...</td>\n",
       "      <td>23.2</td>\n",
       "      <td>Saint John</td>\n",
       "      <td>New Brunswick</td>\n",
       "      <td>Jan</td>\n",
       "      <td>1979</td>\n",
       "    </tr>\n",
       "    <tr>\n",
       "      <th>4</th>\n",
       "      <td>1979-01-01</td>\n",
       "      <td>Québec, Quebec</td>\n",
       "      <td>Regular unleaded gasoline at full service fill...</td>\n",
       "      <td>22.6</td>\n",
       "      <td>Québec</td>\n",
       "      <td>Quebec</td>\n",
       "      <td>Jan</td>\n",
       "      <td>1979</td>\n",
       "    </tr>\n",
       "  </tbody>\n",
       "</table>\n",
       "</div>"
      ],
      "text/plain": [
       "        DATE                                                GEO  \\\n",
       "0 1979-01-01              St. John's, Newfoundland and Labrador   \n",
       "1 1979-01-01  Charlottetown and Summerside, Prince Edward Is...   \n",
       "2 1979-01-01                               Halifax, Nova Scotia   \n",
       "3 1979-01-01                          Saint John, New Brunswick   \n",
       "4 1979-01-01                                     Québec, Quebec   \n",
       "\n",
       "                                                TYPE  VALUE  \\\n",
       "0  Regular unleaded gasoline at full service fill...   26.0   \n",
       "1  Regular unleaded gasoline at full service fill...   24.6   \n",
       "2  Regular unleaded gasoline at full service fill...   23.4   \n",
       "3  Regular unleaded gasoline at full service fill...   23.2   \n",
       "4  Regular unleaded gasoline at full service fill...   22.6   \n",
       "\n",
       "                           City                    Province Month  Year  \n",
       "0                    St. John's   Newfoundland and Labrador   Jan  1979  \n",
       "1  Charlottetown and Summerside        Prince Edward Island   Jan  1979  \n",
       "2                       Halifax                 Nova Scotia   Jan  1979  \n",
       "3                    Saint John               New Brunswick   Jan  1979  \n",
       "4                        Québec                      Quebec   Jan  1979  "
      ]
     },
     "execution_count": 32,
     "metadata": {},
     "output_type": "execute_result"
    }
   ],
   "source": [
    "# price of heating fuel, vancouver, 1979-2021\n",
    "mult_loc_hhf_Van_79to21 = data[(data['Year'] <= 1979) | (data['Year'] == 2021) & (data['TYPE'] == \"Household heating fuel\") & (data['City']=='Vancouver')]\n",
    "mult_loc_hhf_Van_79to21.head()\n",
    "\n",
    "# could I optimize to show 1979-2021 in one line?"
   ]
  },
  {
   "cell_type": "code",
   "execution_count": 36,
   "metadata": {},
   "outputs": [
    {
     "data": {
      "text/html": [
       "<div>\n",
       "<style scoped>\n",
       "    .dataframe tbody tr th:only-of-type {\n",
       "        vertical-align: middle;\n",
       "    }\n",
       "\n",
       "    .dataframe tbody tr th {\n",
       "        vertical-align: top;\n",
       "    }\n",
       "\n",
       "    .dataframe thead th {\n",
       "        text-align: right;\n",
       "    }\n",
       "</style>\n",
       "<table border=\"1\" class=\"dataframe\">\n",
       "  <thead>\n",
       "    <tr style=\"text-align: right;\">\n",
       "      <th></th>\n",
       "      <th>DATE</th>\n",
       "      <th>GEO</th>\n",
       "      <th>TYPE</th>\n",
       "      <th>VALUE</th>\n",
       "      <th>City</th>\n",
       "      <th>Province</th>\n",
       "      <th>Month</th>\n",
       "      <th>Year</th>\n",
       "    </tr>\n",
       "  </thead>\n",
       "  <tbody>\n",
       "    <tr>\n",
       "      <th>41308</th>\n",
       "      <td>2021-01-01</td>\n",
       "      <td>Vancouver, British Columbia</td>\n",
       "      <td>Household heating fuel</td>\n",
       "      <td>112.4</td>\n",
       "      <td>Vancouver</td>\n",
       "      <td>British Columbia</td>\n",
       "      <td>Jan</td>\n",
       "      <td>2021</td>\n",
       "    </tr>\n",
       "    <tr>\n",
       "      <th>41377</th>\n",
       "      <td>2021-02-01</td>\n",
       "      <td>Vancouver, British Columbia</td>\n",
       "      <td>Household heating fuel</td>\n",
       "      <td>114.6</td>\n",
       "      <td>Vancouver</td>\n",
       "      <td>British Columbia</td>\n",
       "      <td>Feb</td>\n",
       "      <td>2021</td>\n",
       "    </tr>\n",
       "    <tr>\n",
       "      <th>41446</th>\n",
       "      <td>2021-03-01</td>\n",
       "      <td>Vancouver, British Columbia</td>\n",
       "      <td>Household heating fuel</td>\n",
       "      <td>123.8</td>\n",
       "      <td>Vancouver</td>\n",
       "      <td>British Columbia</td>\n",
       "      <td>Mar</td>\n",
       "      <td>2021</td>\n",
       "    </tr>\n",
       "    <tr>\n",
       "      <th>41515</th>\n",
       "      <td>2021-04-01</td>\n",
       "      <td>Vancouver, British Columbia</td>\n",
       "      <td>Household heating fuel</td>\n",
       "      <td>123.5</td>\n",
       "      <td>Vancouver</td>\n",
       "      <td>British Columbia</td>\n",
       "      <td>Apr</td>\n",
       "      <td>2021</td>\n",
       "    </tr>\n",
       "    <tr>\n",
       "      <th>41584</th>\n",
       "      <td>2021-05-01</td>\n",
       "      <td>Vancouver, British Columbia</td>\n",
       "      <td>Household heating fuel</td>\n",
       "      <td>128.4</td>\n",
       "      <td>Vancouver</td>\n",
       "      <td>British Columbia</td>\n",
       "      <td>May</td>\n",
       "      <td>2021</td>\n",
       "    </tr>\n",
       "    <tr>\n",
       "      <th>41653</th>\n",
       "      <td>2021-06-01</td>\n",
       "      <td>Vancouver, British Columbia</td>\n",
       "      <td>Household heating fuel</td>\n",
       "      <td>133.1</td>\n",
       "      <td>Vancouver</td>\n",
       "      <td>British Columbia</td>\n",
       "      <td>Jun</td>\n",
       "      <td>2021</td>\n",
       "    </tr>\n",
       "    <tr>\n",
       "      <th>41722</th>\n",
       "      <td>2021-07-01</td>\n",
       "      <td>Vancouver, British Columbia</td>\n",
       "      <td>Household heating fuel</td>\n",
       "      <td>135.2</td>\n",
       "      <td>Vancouver</td>\n",
       "      <td>British Columbia</td>\n",
       "      <td>Jul</td>\n",
       "      <td>2021</td>\n",
       "    </tr>\n",
       "    <tr>\n",
       "      <th>41791</th>\n",
       "      <td>2021-08-01</td>\n",
       "      <td>Vancouver, British Columbia</td>\n",
       "      <td>Household heating fuel</td>\n",
       "      <td>136.5</td>\n",
       "      <td>Vancouver</td>\n",
       "      <td>British Columbia</td>\n",
       "      <td>Aug</td>\n",
       "      <td>2021</td>\n",
       "    </tr>\n",
       "    <tr>\n",
       "      <th>41860</th>\n",
       "      <td>2021-09-01</td>\n",
       "      <td>Vancouver, British Columbia</td>\n",
       "      <td>Household heating fuel</td>\n",
       "      <td>140.9</td>\n",
       "      <td>Vancouver</td>\n",
       "      <td>British Columbia</td>\n",
       "      <td>Sep</td>\n",
       "      <td>2021</td>\n",
       "    </tr>\n",
       "    <tr>\n",
       "      <th>41929</th>\n",
       "      <td>2021-10-01</td>\n",
       "      <td>Vancouver, British Columbia</td>\n",
       "      <td>Household heating fuel</td>\n",
       "      <td>148.6</td>\n",
       "      <td>Vancouver</td>\n",
       "      <td>British Columbia</td>\n",
       "      <td>Oct</td>\n",
       "      <td>2021</td>\n",
       "    </tr>\n",
       "  </tbody>\n",
       "</table>\n",
       "</div>"
      ],
      "text/plain": [
       "            DATE                          GEO                    TYPE  VALUE  \\\n",
       "41308 2021-01-01  Vancouver, British Columbia  Household heating fuel  112.4   \n",
       "41377 2021-02-01  Vancouver, British Columbia  Household heating fuel  114.6   \n",
       "41446 2021-03-01  Vancouver, British Columbia  Household heating fuel  123.8   \n",
       "41515 2021-04-01  Vancouver, British Columbia  Household heating fuel  123.5   \n",
       "41584 2021-05-01  Vancouver, British Columbia  Household heating fuel  128.4   \n",
       "41653 2021-06-01  Vancouver, British Columbia  Household heating fuel  133.1   \n",
       "41722 2021-07-01  Vancouver, British Columbia  Household heating fuel  135.2   \n",
       "41791 2021-08-01  Vancouver, British Columbia  Household heating fuel  136.5   \n",
       "41860 2021-09-01  Vancouver, British Columbia  Household heating fuel  140.9   \n",
       "41929 2021-10-01  Vancouver, British Columbia  Household heating fuel  148.6   \n",
       "\n",
       "            City           Province Month  Year  \n",
       "41308  Vancouver   British Columbia   Jan  2021  \n",
       "41377  Vancouver   British Columbia   Feb  2021  \n",
       "41446  Vancouver   British Columbia   Mar  2021  \n",
       "41515  Vancouver   British Columbia   Apr  2021  \n",
       "41584  Vancouver   British Columbia   May  2021  \n",
       "41653  Vancouver   British Columbia   Jun  2021  \n",
       "41722  Vancouver   British Columbia   Jul  2021  \n",
       "41791  Vancouver   British Columbia   Aug  2021  \n",
       "41860  Vancouver   British Columbia   Sep  2021  \n",
       "41929  Vancouver   British Columbia   Oct  2021  "
      ]
     },
     "execution_count": 36,
     "metadata": {},
     "output_type": "execute_result"
    }
   ],
   "source": [
    "# isin version\n",
    "hhf_Van_79to21 = data[data['Year'].isin([1979, 2021]) \n",
    "                      & (data['TYPE'] == \"Household heating fuel\") \n",
    "                      & (data['City']=='Vancouver')]\n",
    "hhf_Van_79to21.head(10)\n",
    "\n",
    "# but by using isin, I believe the logic does not account for 1979-2021, it is either OR"
   ]
  },
  {
   "cell_type": "markdown",
   "metadata": {},
   "source": [
    "<details>\n",
    "<summary><strong>Solution</strong> (Click Here)</summary>\n",
    "    &emsp; &emsp; <code>\n",
    "exercise2b = data[( data['Year'] <=  1979) | ( data['Year'] ==  2021) & (data['TYPE'] == \"Household heating fuel\") & (data['City']=='Vancouver')]\n",
    "exercise2b\n",
    "</code>\n",
    "</details>\n"
   ]
  },
  {
   "cell_type": "markdown",
   "metadata": {},
   "source": [
    "<details>\n",
    "<summary><strong>Hint</strong> (Click Here)</summary>\n",
    "    &emsp; &emsp; <code>\n",
    "If we use '&' operator between the two years, it will return an empty data frame. This is because there was no data for the 'household heating fuel, in Vancouver, in 1979. Using 'or' operator is suitable because either one of two years that contains any information on 'household heating fuel' in Vancouver.\n",
    "</code>\n",
    "</details>\n"
   ]
  },
  {
   "cell_type": "markdown",
   "metadata": {},
   "source": [
    "### Filtering using `groupby()` method\n"
   ]
  },
  {
   "cell_type": "markdown",
   "metadata": {},
   "source": [
    "The role of `groupby()` is to analyze data by some categories. The simplest call is by a column name. For example, let’s use the 'GEO' column and `ngroups` function to calculate the number of groups (cities, provinces) in 'GEO' column.\n"
   ]
  },
  {
   "cell_type": "code",
   "execution_count": 37,
   "metadata": {},
   "outputs": [
    {
     "data": {
      "text/plain": [
       "18"
      ]
     },
     "execution_count": 37,
     "metadata": {},
     "output_type": "execute_result"
    }
   ],
   "source": [
    "geo = data.groupby('GEO')\n",
    "geo.ngroups"
   ]
  },
  {
   "cell_type": "markdown",
   "metadata": {},
   "source": [
    "Most commonly, we use `groupby()` to split the data into groups,this will apply some function to each of the groups (e.g. mean, median, min, max, count), then combine the results into a data structure. For example, let's select the 'VALUE' column and calculate the mean of the gasoline prices per year. First, we specify the 'Year\" column, following by the 'VALUE' column, and the `mean()` function.\n"
   ]
  },
  {
   "cell_type": "code",
   "execution_count": 38,
   "metadata": {},
   "outputs": [
    {
     "data": {
      "text/plain": [
       "Year\n",
       "1979     23.604444\n",
       "1980     28.068750\n",
       "1981     38.002604\n",
       "1982     44.701563\n",
       "1983     47.904688\n",
       "1984     50.442708\n",
       "1985     53.899479\n",
       "1986     48.405208\n",
       "1987     49.758333\n",
       "1988     49.217188\n",
       "1989     51.700000\n",
       "1990     55.048735\n",
       "1991     56.527041\n",
       "1992     54.633832\n",
       "1993     54.334734\n",
       "1994     54.247899\n",
       "1995     56.177451\n",
       "1996     58.134110\n",
       "1997     59.182062\n",
       "1998     56.247246\n",
       "1999     58.743362\n",
       "2000     72.207839\n",
       "2001     72.403107\n",
       "2002     70.312147\n",
       "2003     75.541667\n",
       "2004     82.960452\n",
       "2005     96.328743\n",
       "2006    101.209393\n",
       "2007    105.258263\n",
       "2008    123.340678\n",
       "2009     96.969068\n",
       "2010    106.369845\n",
       "2011    126.790607\n",
       "2012    130.380085\n",
       "2013    129.677273\n",
       "2014    133.169203\n",
       "2015    110.366908\n",
       "2016    101.790821\n",
       "2017    112.852657\n",
       "2018    129.408575\n",
       "2019    125.776329\n",
       "2020    107.617150\n",
       "2021    133.990580\n",
       "Name: VALUE, dtype: float64"
      ]
     },
     "execution_count": 38,
     "metadata": {},
     "output_type": "execute_result"
    }
   ],
   "source": [
    "group_year = data.groupby(['Year'])['VALUE'].mean()\n",
    "group_year"
   ]
  },
  {
   "cell_type": "markdown",
   "metadata": {},
   "source": [
    "## Exercise 3 a\n"
   ]
  },
  {
   "cell_type": "markdown",
   "metadata": {},
   "source": [
    "In the cell below, please use `groupby()` method to group by the maximum value of gasoline prices, for each month.\n"
   ]
  },
  {
   "cell_type": "code",
   "execution_count": 39,
   "metadata": {},
   "outputs": [],
   "source": [
    "# groupby to find max gas price by month\n",
    "exercise3b = data.groupby(['Year', 'City'])['VALUE'].median()"
   ]
  },
  {
   "cell_type": "code",
   "execution_count": 40,
   "metadata": {},
   "outputs": [
    {
     "data": {
      "text/plain": [
       "Year  City                        \n",
       "1979  Calgary                          19.15\n",
       "      Charlottetown and Summerside     25.45\n",
       "      Edmonton                         18.70\n",
       "      Halifax                          24.00\n",
       "      Montréal                         23.25\n",
       "                                       ...  \n",
       "2021  Vancouver                       151.10\n",
       "      Victoria                        148.80\n",
       "      Whitehorse                      142.25\n",
       "      Winnipeg                        127.70\n",
       "      Yellowknife                     138.65\n",
       "Name: VALUE, Length: 751, dtype: float64"
      ]
     },
     "execution_count": 40,
     "metadata": {},
     "output_type": "execute_result"
    }
   ],
   "source": [
    "exercise3b"
   ]
  },
  {
   "cell_type": "code",
   "execution_count": 47,
   "metadata": {},
   "outputs": [
    {
     "data": {
      "text/plain": [
       "Month\n",
       "Apr    187.8\n",
       "Aug    188.3\n",
       "Dec    158.5\n",
       "Feb    168.0\n",
       "Jan    162.0\n",
       "Jul    191.6\n",
       "Jun    183.2\n",
       "Mar    171.8\n",
       "May    189.3\n",
       "Nov    162.2\n",
       "Oct    184.9\n",
       "Sep    179.3\n",
       "Name: VALUE, dtype: float64"
      ]
     },
     "execution_count": 47,
     "metadata": {},
     "output_type": "execute_result"
    }
   ],
   "source": [
    "max_gas_monthly = data.groupby(['Month'])['VALUE'].max()\n",
    "max_gas_monthly"
   ]
  },
  {
   "cell_type": "markdown",
   "metadata": {},
   "source": [
    "<details>\n",
    "<summary><strong>Solution</strong> (Click Here)</summary>\n",
    "    &emsp; &emsp; <code>\n",
    "exercise3a = data.groupby(['Month'])['VALUE'].max()\n",
    "</code>\n",
    "</details>\n"
   ]
  },
  {
   "cell_type": "code",
   "execution_count": 55,
   "metadata": {},
   "outputs": [
    {
     "data": {
      "text/plain": [
       "Month  City                        \n",
       "Apr    Calgary                         59.4\n",
       "       Charlottetown and Summerside    54.2\n",
       "       Edmonton                        59.1\n",
       "       Halifax                         65.2\n",
       "       Montréal                        70.5\n",
       "                                       ... \n",
       "Sep    Vancouver                       72.7\n",
       "       Victoria                        75.8\n",
       "       Whitehorse                      78.1\n",
       "       Winnipeg                        73.3\n",
       "       Yellowknife                     82.8\n",
       "Name: VALUE, Length: 216, dtype: float64"
      ]
     },
     "execution_count": 55,
     "metadata": {},
     "output_type": "execute_result"
    }
   ],
   "source": [
    "# what if I wanted to do the same but also only in the year of 2021?\n",
    "max_gas_monthly_1999 = data.groupby(['Year', 'Month', 'City'])['VALUE'].max().loc[1999]\n",
    "max_gas_monthly_1999"
   ]
  },
  {
   "cell_type": "markdown",
   "metadata": {},
   "source": [
    "## Exercise 3 b\n"
   ]
  },
  {
   "cell_type": "markdown",
   "metadata": {},
   "source": [
    "In the cell below, please use `groupby()` method to group by the median value of gasoline prices, for each year and each city.\n"
   ]
  },
  {
   "cell_type": "code",
   "execution_count": 57,
   "metadata": {},
   "outputs": [
    {
     "data": {
      "text/plain": [
       "Year  City                        \n",
       "1979  Calgary                          19.15\n",
       "      Charlottetown and Summerside     25.45\n",
       "      Edmonton                         18.70\n",
       "      Halifax                          24.00\n",
       "      Montréal                         23.25\n",
       "                                       ...  \n",
       "2021  Vancouver                       151.10\n",
       "      Victoria                        148.80\n",
       "      Whitehorse                      142.25\n",
       "      Winnipeg                        127.70\n",
       "      Yellowknife                     138.65\n",
       "Name: VALUE, Length: 751, dtype: float64"
      ]
     },
     "execution_count": 57,
     "metadata": {},
     "output_type": "execute_result"
    }
   ],
   "source": [
    "# groupby, median gas prices, year and city\n",
    "median_gas_year_city = data.groupby(['Year', 'City'])['VALUE'].median()\n",
    "# add the use of: .loc[1999] for a specific year\n",
    "median_gas_year_city"
   ]
  },
  {
   "cell_type": "markdown",
   "metadata": {},
   "source": [
    "<details>\n",
    "<summary><strong>Solution</strong> (Click Here)</summary>\n",
    "    &emsp; &emsp; <code>\n",
    "exercise3b = data.groupby(['Year', 'City'])['VALUE'].median()\n",
    "</code>\n",
    "</details>\n"
   ]
  },
  {
   "cell_type": "markdown",
   "metadata": {},
   "source": [
    "<details>\n",
    "<summary><strong>Hint</strong> (Click Here)</summary>\n",
    "    &emsp; &emsp; <code>\n",
    "\n",
    "We can also reset the index of the new data output, by using `reset_index()`, and round up the output values to 2 decimal places.\n",
    "\n",
    "exercise3b = data.groupby(\\['Year', 'City'])\\['VALUE'].median().reset_index(name ='Value').round(2)\n",
    "\n",
    "</code>\n",
    "</details>\n"
   ]
  },
  {
   "cell_type": "markdown",
   "metadata": {},
   "source": [
    "## **Visualizing the data with *pandas* plotly.express**\n"
   ]
  },
  {
   "cell_type": "markdown",
   "metadata": {},
   "source": [
    "The *plotly.express* library (usually imported as px) contains functions that can create entire figures at once. *plotly.express* is a built-in part of the *plotly* library, and makes creation of most common figures very easy. For more information on *plotly.express*, please refer to [this](https://plotly.com/python/plotly-express/?utm_medium=Exinfluencer&utm_source=Exinfluencer&utm_content=000026UJ&utm_term=10006555&utm_id=NA-SkillsNetwork-Channel-SkillsNetworkCoursesIBMML0232ENSkillsNetwork30654641-2022-01-01) documentation.\n"
   ]
  },
  {
   "cell_type": "markdown",
   "metadata": {},
   "source": [
    "Here, we will plot the prices of gasoline in all cities during 1979 - 2021.\n"
   ]
  },
  {
   "cell_type": "code",
   "execution_count": 60,
   "metadata": {},
   "outputs": [],
   "source": [
    "# 79-21 gas prices canada by city\n",
    "# changed to max prices\n",
    "price_bycity = data.groupby(['Year', 'GEO'])['VALUE'].max().reset_index(name ='Value').round(2)"
   ]
  },
  {
   "cell_type": "code",
   "execution_count": 61,
   "metadata": {},
   "outputs": [
    {
     "data": {
      "application/vnd.plotly.v1+json": {
       "config": {
        "plotlyServerURL": "https://plot.ly"
       },
       "data": [
        {
         "hovertemplate": "GEO=Calgary, Alberta<br>Year=%{x}<br>Value=%{y}<extra></extra>",
         "legendgroup": "Calgary, Alberta",
         "line": {
          "color": "#FD3216",
          "dash": "solid"
         },
         "marker": {
          "symbol": "circle"
         },
         "mode": "markers+lines",
         "name": "Calgary, Alberta",
         "orientation": "v",
         "showlegend": true,
         "type": "scatter",
         "x": [
          1979,
          1980,
          1981,
          1982,
          1983,
          1984,
          1985,
          1986,
          1987,
          1988,
          1989,
          1990,
          1991,
          1992,
          1993,
          1994,
          1995,
          1996,
          1997,
          1998,
          1999,
          2000,
          2001,
          2002,
          2003,
          2004,
          2005,
          2006,
          2007,
          2008,
          2009,
          2010,
          2011,
          2012,
          2013,
          2014,
          2015,
          2016,
          2017,
          2018,
          2019,
          2020,
          2021
         ],
         "xaxis": "x",
         "y": [
          21.5,
          26.2,
          35,
          40.1,
          42.9,
          44.7,
          49,
          49.4,
          48.5,
          45.4,
          48.1,
          68.1,
          69.1,
          59,
          61.4,
          61,
          63.5,
          63.8,
          64.9,
          61.2,
          68.9,
          79.1,
          87.3,
          82.1,
          84.2,
          95.5,
          114.7,
          121.8,
          121.2,
          143.6,
          110.3,
          110.2,
          136.3,
          133.7,
          142.2,
          142.3,
          130.9,
          123.3,
          132.4,
          150,
          142.7,
          128.7,
          164.4
         ],
         "yaxis": "y"
        },
        {
         "hovertemplate": "GEO=Charlottetown and Summerside, Prince Edward Island<br>Year=%{x}<br>Value=%{y}<extra></extra>",
         "legendgroup": "Charlottetown and Summerside, Prince Edward Island",
         "line": {
          "color": "#00FE35",
          "dash": "solid"
         },
         "marker": {
          "symbol": "circle"
         },
         "mode": "markers+lines",
         "name": "Charlottetown and Summerside, Prince Edward Island",
         "orientation": "v",
         "showlegend": true,
         "type": "scatter",
         "x": [
          1979,
          1980,
          1981,
          1982,
          1983,
          1984,
          1985,
          1986,
          1987,
          1988,
          1989,
          1990,
          1991,
          1992,
          1993,
          1994,
          1995,
          1996,
          1997,
          1998,
          1999,
          2000,
          2001,
          2002,
          2003,
          2004,
          2005,
          2006,
          2007,
          2008,
          2009,
          2010,
          2011,
          2012,
          2013,
          2014,
          2015,
          2016,
          2017,
          2018,
          2019,
          2020,
          2021
         ],
         "xaxis": "x",
         "y": [
          27.8,
          34.6,
          46.1,
          52.9,
          55.3,
          60,
          61.1,
          61.8,
          54,
          53.8,
          54.9,
          68.5,
          75.3,
          65.5,
          62.5,
          63.2,
          65.6,
          66.6,
          68.6,
          65.6,
          66.5,
          83.4,
          84.6,
          82.9,
          90.2,
          100.7,
          128.6,
          127.1,
          123.2,
          155.3,
          113.4,
          118,
          138.2,
          146.4,
          147.2,
          154.6,
          128.4,
          113.9,
          124.1,
          143.1,
          136.6,
          129.9,
          152.2
         ],
         "yaxis": "y"
        },
        {
         "hovertemplate": "GEO=Edmonton, Alberta<br>Year=%{x}<br>Value=%{y}<extra></extra>",
         "legendgroup": "Edmonton, Alberta",
         "line": {
          "color": "#6A76FC",
          "dash": "solid"
         },
         "marker": {
          "symbol": "circle"
         },
         "mode": "markers+lines",
         "name": "Edmonton, Alberta",
         "orientation": "v",
         "showlegend": true,
         "type": "scatter",
         "x": [
          1979,
          1980,
          1981,
          1982,
          1983,
          1984,
          1985,
          1986,
          1987,
          1988,
          1989,
          1990,
          1991,
          1992,
          1993,
          1994,
          1995,
          1996,
          1997,
          1998,
          1999,
          2000,
          2001,
          2002,
          2003,
          2004,
          2005,
          2006,
          2007,
          2008,
          2009,
          2010,
          2011,
          2012,
          2013,
          2014,
          2015,
          2016,
          2017,
          2018,
          2019,
          2020,
          2021
         ],
         "xaxis": "x",
         "y": [
          20.9,
          25.5,
          34.6,
          39.2,
          41.8,
          43.4,
          46.8,
          47.1,
          47.8,
          45.1,
          47.8,
          67.1,
          69.4,
          57.4,
          57,
          59.2,
          62.2,
          62.3,
          64.4,
          59.6,
          68.2,
          79.6,
          81.6,
          80.2,
          85.9,
          97.2,
          112.9,
          120.7,
          121.1,
          142.4,
          108.9,
          110.7,
          133.8,
          132.6,
          136.1,
          137.6,
          125.9,
          121.2,
          128.8,
          149,
          137.5,
          121,
          159.6
         ],
         "yaxis": "y"
        },
        {
         "hovertemplate": "GEO=Halifax, Nova Scotia<br>Year=%{x}<br>Value=%{y}<extra></extra>",
         "legendgroup": "Halifax, Nova Scotia",
         "line": {
          "color": "#FED4C4",
          "dash": "solid"
         },
         "marker": {
          "symbol": "circle"
         },
         "mode": "markers+lines",
         "name": "Halifax, Nova Scotia",
         "orientation": "v",
         "showlegend": true,
         "type": "scatter",
         "x": [
          1979,
          1980,
          1981,
          1982,
          1983,
          1984,
          1985,
          1986,
          1987,
          1988,
          1989,
          1990,
          1991,
          1992,
          1993,
          1994,
          1995,
          1996,
          1997,
          1998,
          1999,
          2000,
          2001,
          2002,
          2003,
          2004,
          2005,
          2006,
          2007,
          2008,
          2009,
          2010,
          2011,
          2012,
          2013,
          2014,
          2015,
          2016,
          2017,
          2018,
          2019,
          2020,
          2021
         ],
         "xaxis": "x",
         "y": [
          26.3,
          31.5,
          40.9,
          49.9,
          52.2,
          56.9,
          59.9,
          59.9,
          52.7,
          51.6,
          52.4,
          72,
          76.4,
          66.5,
          63.4,
          66.8,
          68.1,
          71.4,
          73.3,
          69.8,
          78.1,
          91.2,
          90.4,
          88.1,
          95.9,
          106.4,
          128.3,
          124.2,
          123.9,
          158.3,
          116.1,
          126.1,
          145.3,
          157,
          145.7,
          147.8,
          128.1,
          113.9,
          124.8,
          139.2,
          136.4,
          121.5,
          151.6
         ],
         "yaxis": "y"
        },
        {
         "hovertemplate": "GEO=Montréal, Quebec<br>Year=%{x}<br>Value=%{y}<extra></extra>",
         "legendgroup": "Montréal, Quebec",
         "line": {
          "color": "#FE00CE",
          "dash": "solid"
         },
         "marker": {
          "symbol": "circle"
         },
         "mode": "markers+lines",
         "name": "Montréal, Quebec",
         "orientation": "v",
         "showlegend": true,
         "type": "scatter",
         "x": [
          1979,
          1980,
          1981,
          1982,
          1983,
          1984,
          1985,
          1986,
          1987,
          1988,
          1989,
          1990,
          1991,
          1992,
          1993,
          1994,
          1995,
          1996,
          1997,
          1998,
          1999,
          2000,
          2001,
          2002,
          2003,
          2004,
          2005,
          2006,
          2007,
          2008,
          2009,
          2010,
          2011,
          2012,
          2013,
          2014,
          2015,
          2016,
          2017,
          2018,
          2019,
          2020,
          2021
         ],
         "xaxis": "x",
         "y": [
          26.3,
          32.5,
          50.3,
          57.6,
          58.8,
          61,
          62,
          62.4,
          58,
          58.1,
          58.5,
          76.5,
          78.5,
          71.1,
          70.5,
          70.7,
          71.9,
          78.3,
          75.4,
          70.2,
          78.8,
          89.4,
          93.3,
          86.9,
          95.1,
          104.2,
          125.4,
          121.9,
          123.7,
          157,
          115.7,
          126.7,
          149.7,
          153.7,
          153.4,
          157.4,
          143.5,
          132.2,
          142.1,
          158.4,
          154.4,
          139.9,
          173
         ],
         "yaxis": "y"
        },
        {
         "hovertemplate": "GEO=Ottawa-Gatineau, Ontario part, Ontario/Quebec<br>Year=%{x}<br>Value=%{y}<extra></extra>",
         "legendgroup": "Ottawa-Gatineau, Ontario part, Ontario/Quebec",
         "line": {
          "color": "#0DF9FF",
          "dash": "solid"
         },
         "marker": {
          "symbol": "circle"
         },
         "mode": "markers+lines",
         "name": "Ottawa-Gatineau, Ontario part, Ontario/Quebec",
         "orientation": "v",
         "showlegend": true,
         "type": "scatter",
         "x": [
          1979,
          1980,
          1981,
          1982,
          1983,
          1984,
          1985,
          1986,
          1987,
          1988,
          1989,
          1990,
          1991,
          1992,
          1993,
          1994,
          1995,
          1996,
          1997,
          1998,
          1999,
          2000,
          2001,
          2002,
          2003,
          2004,
          2005,
          2006,
          2007,
          2008,
          2009,
          2010,
          2011,
          2012,
          2013,
          2014,
          2015,
          2016,
          2017,
          2018,
          2019,
          2020,
          2021
         ],
         "xaxis": "x",
         "y": [
          26.7,
          31.8,
          42.2,
          49,
          50.6,
          51.8,
          55.4,
          56,
          52.2,
          52.5,
          55.6,
          71.6,
          72.1,
          65.9,
          64.8,
          65.3,
          68.6,
          70.5,
          71.7,
          67.6,
          76.6,
          85.6,
          88.5,
          84.7,
          91.2,
          98.1,
          123.1,
          119.2,
          121.3,
          145.7,
          108,
          124.5,
          142.2,
          145.1,
          145.6,
          152.8,
          135.6,
          121.9,
          140.7,
          156.5,
          148,
          134.4,
          169.5
         ],
         "yaxis": "y"
        },
        {
         "hovertemplate": "GEO=Québec, Quebec<br>Year=%{x}<br>Value=%{y}<extra></extra>",
         "legendgroup": "Québec, Quebec",
         "line": {
          "color": "#F6F926",
          "dash": "solid"
         },
         "marker": {
          "symbol": "circle"
         },
         "mode": "markers+lines",
         "name": "Québec, Quebec",
         "orientation": "v",
         "showlegend": true,
         "type": "scatter",
         "x": [
          1979,
          1980,
          1981,
          1982,
          1983,
          1984,
          1985,
          1986,
          1987,
          1988,
          1989,
          1990,
          1991,
          1992,
          1993,
          1994,
          1995,
          1996,
          1997,
          1998,
          1999,
          2000,
          2001,
          2002,
          2003,
          2004,
          2005,
          2006,
          2007,
          2008,
          2009,
          2010,
          2011,
          2012,
          2013,
          2014,
          2015,
          2016,
          2017,
          2018,
          2019,
          2020,
          2021
         ],
         "xaxis": "x",
         "y": [
          26.6,
          32.8,
          50.6,
          57.3,
          57.9,
          59.9,
          61.9,
          62.7,
          57.9,
          56.8,
          57.9,
          75.7,
          78.1,
          71.1,
          70.3,
          70.5,
          71.8,
          78.9,
          71.6,
          66,
          76,
          85,
          93.1,
          84.3,
          93.9,
          103.1,
          125.2,
          123.4,
          123.7,
          157.5,
          115,
          123,
          143.9,
          150.5,
          153.2,
          154.9,
          135.8,
          121.4,
          137.9,
          153.4,
          150.3,
          134.6,
          172.3
         ],
         "yaxis": "y"
        },
        {
         "hovertemplate": "GEO=Regina, Saskatchewan<br>Year=%{x}<br>Value=%{y}<extra></extra>",
         "legendgroup": "Regina, Saskatchewan",
         "line": {
          "color": "#FF9616",
          "dash": "solid"
         },
         "marker": {
          "symbol": "circle"
         },
         "mode": "markers+lines",
         "name": "Regina, Saskatchewan",
         "orientation": "v",
         "showlegend": true,
         "type": "scatter",
         "x": [
          1979,
          1980,
          1981,
          1982,
          1983,
          1984,
          1985,
          1986,
          1987,
          1988,
          1989,
          1990,
          1991,
          1992,
          1993,
          1994,
          1995,
          1996,
          1997,
          1998,
          1999,
          2000,
          2001,
          2002,
          2003,
          2004,
          2005,
          2006,
          2007,
          2008,
          2009,
          2010,
          2011,
          2012,
          2013,
          2014,
          2015,
          2016,
          2017,
          2018,
          2019,
          2020,
          2021
         ],
         "xaxis": "x",
         "y": [
          26,
          31,
          41.7,
          44.2,
          42.2,
          46.3,
          48,
          47.1,
          50.4,
          50.4,
          54.2,
          65.3,
          61.8,
          63,
          64,
          68.2,
          70.1,
          71.6,
          73,
          66.4,
          76,
          86.4,
          93.9,
          88.1,
          94.9,
          100.5,
          118.8,
          128,
          126.8,
          148.7,
          118.4,
          117.2,
          145.1,
          143.2,
          144.8,
          146.2,
          129.1,
          123.9,
          126.9,
          139.9,
          144.9,
          128.6,
          162.1
         ],
         "yaxis": "y"
        },
        {
         "hovertemplate": "GEO=Saint John, New Brunswick<br>Year=%{x}<br>Value=%{y}<extra></extra>",
         "legendgroup": "Saint John, New Brunswick",
         "line": {
          "color": "#479B55",
          "dash": "solid"
         },
         "marker": {
          "symbol": "circle"
         },
         "mode": "markers+lines",
         "name": "Saint John, New Brunswick",
         "orientation": "v",
         "showlegend": true,
         "type": "scatter",
         "x": [
          1979,
          1980,
          1981,
          1982,
          1983,
          1984,
          1985,
          1986,
          1987,
          1988,
          1989,
          1990,
          1991,
          1992,
          1993,
          1994,
          1995,
          1996,
          1997,
          1998,
          1999,
          2000,
          2001,
          2002,
          2003,
          2004,
          2005,
          2006,
          2007,
          2008,
          2009,
          2010,
          2011,
          2012,
          2013,
          2014,
          2015,
          2016,
          2017,
          2018,
          2019,
          2020,
          2021
         ],
         "xaxis": "x",
         "y": [
          25.9,
          30.9,
          41.3,
          47.3,
          52.1,
          54.9,
          62.3,
          63.4,
          51.2,
          51.2,
          54.2,
          69.4,
          72.8,
          66.3,
          64.5,
          65.1,
          68.4,
          66.1,
          74.1,
          67.7,
          74.8,
          88.4,
          88.3,
          86.6,
          97.2,
          103.9,
          127.3,
          131,
          123.5,
          158.3,
          109.3,
          116.1,
          139.6,
          147.9,
          145.1,
          150.7,
          124.9,
          113,
          124.6,
          138.2,
          137.8,
          133.8,
          149.7
         ],
         "yaxis": "y"
        },
        {
         "hovertemplate": "GEO=Saskatoon, Saskatchewan<br>Year=%{x}<br>Value=%{y}<extra></extra>",
         "legendgroup": "Saskatoon, Saskatchewan",
         "line": {
          "color": "#EEA6FB",
          "dash": "solid"
         },
         "marker": {
          "symbol": "circle"
         },
         "mode": "markers+lines",
         "name": "Saskatoon, Saskatchewan",
         "orientation": "v",
         "showlegend": true,
         "type": "scatter",
         "x": [
          1979,
          1980,
          1981,
          1982,
          1983,
          1984,
          1985,
          1986,
          1987,
          1988,
          1989,
          1990,
          1991,
          1992,
          1993,
          1994,
          1995,
          1996,
          1997,
          1998,
          1999,
          2000,
          2001,
          2002,
          2003,
          2004,
          2005,
          2006,
          2007,
          2008,
          2009,
          2010,
          2011,
          2012,
          2013,
          2014,
          2015,
          2016,
          2017,
          2018,
          2019,
          2020,
          2021
         ],
         "xaxis": "x",
         "y": [
          26.3,
          31.2,
          41,
          43.9,
          43,
          46.8,
          50.1,
          50.6,
          51.2,
          51.2,
          54.9,
          72.8,
          73.6,
          63.7,
          63.9,
          67,
          70.8,
          72.1,
          70.7,
          67.2,
          74.8,
          86.2,
          93,
          89.2,
          92.6,
          102.8,
          121.6,
          127.1,
          126.1,
          147.6,
          118.4,
          117.5,
          144.8,
          143.7,
          144.3,
          145.7,
          130.8,
          124.3,
          126.1,
          143.7,
          146.5,
          129.6,
          161.7
         ],
         "yaxis": "y"
        },
        {
         "hovertemplate": "GEO=St. John's, Newfoundland and Labrador<br>Year=%{x}<br>Value=%{y}<extra></extra>",
         "legendgroup": "St. John's, Newfoundland and Labrador",
         "line": {
          "color": "#DC587D",
          "dash": "solid"
         },
         "marker": {
          "symbol": "circle"
         },
         "mode": "markers+lines",
         "name": "St. John's, Newfoundland and Labrador",
         "orientation": "v",
         "showlegend": true,
         "type": "scatter",
         "x": [
          1979,
          1980,
          1981,
          1982,
          1983,
          1984,
          1985,
          1986,
          1987,
          1988,
          1989,
          1990,
          1991,
          1992,
          1993,
          1994,
          1995,
          1996,
          1997,
          1998,
          1999,
          2000,
          2001,
          2002,
          2003,
          2004,
          2005,
          2006,
          2007,
          2008,
          2009,
          2010,
          2011,
          2012,
          2013,
          2014,
          2015,
          2016,
          2017,
          2018,
          2019,
          2020,
          2021
         ],
         "xaxis": "x",
         "y": [
          29.6,
          35.4,
          46.9,
          53.3,
          56.6,
          60.4,
          65.3,
          66.7,
          57.2,
          56.5,
          59.3,
          78,
          81.5,
          70.4,
          69.8,
          72.7,
          77.1,
          74.7,
          78.4,
          76.2,
          85.1,
          98.2,
          97.2,
          92.2,
          98.4,
          107.2,
          137.5,
          128.8,
          128,
          159.5,
          119.9,
          125.4,
          145.6,
          153.7,
          147.9,
          153.8,
          131.4,
          136.1,
          142.9,
          148.1,
          138.5,
          136.5,
          165.9
         ],
         "yaxis": "y"
        },
        {
         "hovertemplate": "GEO=Thunder Bay, Ontario<br>Year=%{x}<br>Value=%{y}<extra></extra>",
         "legendgroup": "Thunder Bay, Ontario",
         "line": {
          "color": "#D626FF",
          "dash": "solid"
         },
         "marker": {
          "symbol": "circle"
         },
         "mode": "markers+lines",
         "name": "Thunder Bay, Ontario",
         "orientation": "v",
         "showlegend": true,
         "type": "scatter",
         "x": [
          1979,
          1980,
          1981,
          1982,
          1983,
          1984,
          1985,
          1986,
          1987,
          1988,
          1989,
          1990,
          1991,
          1992,
          1993,
          1994,
          1995,
          1996,
          1997,
          1998,
          1999,
          2000,
          2001,
          2002,
          2003,
          2004,
          2005,
          2006,
          2007,
          2008,
          2009,
          2010,
          2011,
          2012,
          2013,
          2014,
          2015,
          2016,
          2017,
          2018,
          2019,
          2020,
          2021
         ],
         "xaxis": "x",
         "y": [
          26.6,
          31.9,
          42.3,
          47.7,
          50.7,
          51.4,
          55.5,
          56.5,
          52.7,
          53.4,
          55.1,
          72.3,
          72,
          65.4,
          66.8,
          69,
          73,
          75.9,
          77,
          70.6,
          79,
          89.4,
          95.1,
          87.9,
          94.2,
          103.4,
          127.8,
          126.6,
          126.4,
          152.9,
          119.8,
          134.4,
          157.3,
          154.2,
          153.2,
          158.5,
          145.4,
          139.2,
          149.2,
          163.6,
          163.6,
          148,
          176.3
         ],
         "yaxis": "y"
        },
        {
         "hovertemplate": "GEO=Toronto, Ontario<br>Year=%{x}<br>Value=%{y}<extra></extra>",
         "legendgroup": "Toronto, Ontario",
         "line": {
          "color": "#6E899C",
          "dash": "solid"
         },
         "marker": {
          "symbol": "circle"
         },
         "mode": "markers+lines",
         "name": "Toronto, Ontario",
         "orientation": "v",
         "showlegend": true,
         "type": "scatter",
         "x": [
          1979,
          1980,
          1981,
          1982,
          1983,
          1984,
          1985,
          1986,
          1987,
          1988,
          1989,
          1990,
          1991,
          1992,
          1993,
          1994,
          1995,
          1996,
          1997,
          1998,
          1999,
          2000,
          2001,
          2002,
          2003,
          2004,
          2005,
          2006,
          2007,
          2008,
          2009,
          2010,
          2011,
          2012,
          2013,
          2014,
          2015,
          2016,
          2017,
          2018,
          2019,
          2020,
          2021
         ],
         "xaxis": "x",
         "y": [
          26.7,
          31.9,
          43.3,
          48.4,
          50.7,
          51.6,
          53.8,
          54.1,
          51.3,
          50.4,
          53,
          70.6,
          64.4,
          65.5,
          64.3,
          63.3,
          68,
          71.5,
          70.9,
          66,
          78,
          88.2,
          90.9,
          82.9,
          91.4,
          97.4,
          119.9,
          117.3,
          117.6,
          144.8,
          112.9,
          123.8,
          148.1,
          150.3,
          147.6,
          156.8,
          138.6,
          123.5,
          140.7,
          156.4,
          147.6,
          138.4,
          170.7
         ],
         "yaxis": "y"
        },
        {
         "hovertemplate": "GEO=Vancouver, British Columbia<br>Year=%{x}<br>Value=%{y}<extra></extra>",
         "legendgroup": "Vancouver, British Columbia",
         "line": {
          "color": "#00B5F7",
          "dash": "solid"
         },
         "marker": {
          "symbol": "circle"
         },
         "mode": "markers+lines",
         "name": "Vancouver, British Columbia",
         "orientation": "v",
         "showlegend": true,
         "type": "scatter",
         "x": [
          1979,
          1980,
          1981,
          1982,
          1983,
          1984,
          1985,
          1986,
          1987,
          1988,
          1989,
          1990,
          1991,
          1992,
          1993,
          1994,
          1995,
          1996,
          1997,
          1998,
          1999,
          2000,
          2001,
          2002,
          2003,
          2004,
          2005,
          2006,
          2007,
          2008,
          2009,
          2010,
          2011,
          2012,
          2013,
          2014,
          2015,
          2016,
          2017,
          2018,
          2019,
          2020,
          2021
         ],
         "xaxis": "x",
         "y": [
          25.4,
          31.7,
          42.6,
          47.8,
          51.7,
          54.6,
          57.8,
          58.7,
          53.1,
          52,
          56.1,
          75.2,
          73.2,
          64.2,
          65,
          68.7,
          71,
          76.8,
          73.7,
          66.5,
          72.7,
          89.2,
          89.8,
          89.9,
          101.1,
          108.5,
          126.5,
          130.2,
          137.9,
          161.2,
          128.6,
          135.5,
          155.7,
          161.1,
          162.3,
          167.4,
          151.3,
          146.6,
          160.8,
          179.6,
          189.3,
          168,
          191.6
         ],
         "yaxis": "y"
        },
        {
         "hovertemplate": "GEO=Winnipeg, Manitoba<br>Year=%{x}<br>Value=%{y}<extra></extra>",
         "legendgroup": "Winnipeg, Manitoba",
         "line": {
          "color": "#B68E00",
          "dash": "solid"
         },
         "marker": {
          "symbol": "circle"
         },
         "mode": "markers+lines",
         "name": "Winnipeg, Manitoba",
         "orientation": "v",
         "showlegend": true,
         "type": "scatter",
         "x": [
          1979,
          1980,
          1981,
          1982,
          1983,
          1984,
          1985,
          1986,
          1987,
          1988,
          1989,
          1990,
          1991,
          1992,
          1993,
          1994,
          1995,
          1996,
          1997,
          1998,
          1999,
          2000,
          2001,
          2002,
          2003,
          2004,
          2005,
          2006,
          2007,
          2008,
          2009,
          2010,
          2011,
          2012,
          2013,
          2014,
          2015,
          2016,
          2017,
          2018,
          2019,
          2020,
          2021
         ],
         "xaxis": "x",
         "y": [
          25.5,
          30.6,
          39.9,
          46,
          49.5,
          50.9,
          55.5,
          56,
          49.2,
          49.4,
          52.1,
          69.9,
          69.9,
          60.6,
          60.7,
          64.8,
          67.8,
          69.8,
          69.4,
          64.7,
          73.8,
          82,
          86.3,
          79,
          86,
          96.8,
          119.6,
          123.9,
          122.5,
          146.3,
          113.8,
          111.3,
          140,
          139.4,
          147.7,
          144,
          125.8,
          129.8,
          125.6,
          142.4,
          143.5,
          126.7,
          162
         ],
         "yaxis": "y"
        },
        {
         "hovertemplate": "GEO=Victoria, British Columbia<br>Year=%{x}<br>Value=%{y}<extra></extra>",
         "legendgroup": "Victoria, British Columbia",
         "line": {
          "color": "#C9FBE5",
          "dash": "solid"
         },
         "marker": {
          "symbol": "circle"
         },
         "mode": "markers+lines",
         "name": "Victoria, British Columbia",
         "orientation": "v",
         "showlegend": true,
         "type": "scatter",
         "x": [
          1980,
          1981,
          1982,
          1983,
          1984,
          1985,
          1986,
          1987,
          1988,
          1989,
          1990,
          1991,
          1992,
          1993,
          1994,
          1995,
          1996,
          1997,
          1998,
          1999,
          2000,
          2001,
          2002,
          2003,
          2004,
          2005,
          2006,
          2007,
          2008,
          2009,
          2010,
          2011,
          2012,
          2013,
          2014,
          2015,
          2016,
          2017,
          2018,
          2019,
          2020,
          2021
         ],
         "xaxis": "x",
         "y": [
          29.3,
          39.8,
          45.3,
          48.5,
          52.7,
          57.2,
          60.3,
          51.5,
          50.2,
          54.4,
          73.1,
          74.8,
          61.8,
          61.5,
          65.6,
          66.7,
          71.9,
          73.2,
          66.1,
          75.8,
          91.5,
          93.6,
          89,
          101.6,
          109.6,
          127,
          130.6,
          134.8,
          163,
          122.3,
          127.7,
          149.9,
          148.8,
          152.6,
          153.9,
          143.7,
          138.7,
          151.1,
          172.3,
          179.9,
          162.7,
          187.1
         ],
         "yaxis": "y"
        },
        {
         "hovertemplate": "GEO=Whitehorse, Yukon<br>Year=%{x}<br>Value=%{y}<extra></extra>",
         "legendgroup": "Whitehorse, Yukon",
         "line": {
          "color": "#FF0092",
          "dash": "solid"
         },
         "marker": {
          "symbol": "circle"
         },
         "mode": "markers+lines",
         "name": "Whitehorse, Yukon",
         "orientation": "v",
         "showlegend": true,
         "type": "scatter",
         "x": [
          1990,
          1991,
          1992,
          1993,
          1994,
          1995,
          1996,
          1997,
          1998,
          1999,
          2000,
          2001,
          2002,
          2003,
          2004,
          2005,
          2006,
          2007,
          2008,
          2009,
          2010,
          2011,
          2012,
          2013,
          2014,
          2015,
          2016,
          2017,
          2018,
          2019,
          2020,
          2021
         ],
         "xaxis": "x",
         "y": [
          73.4,
          76.8,
          67.4,
          66.5,
          68.7,
          72.9,
          78.1,
          78.3,
          77.7,
          80.3,
          95,
          96.4,
          94.1,
          101.8,
          109.9,
          126.4,
          128.3,
          127,
          152.4,
          115.3,
          122.4,
          145.4,
          145.9,
          157.8,
          153.2,
          136.3,
          131.7,
          137.2,
          155.4,
          153.4,
          153.4,
          166.4
         ],
         "yaxis": "y"
        },
        {
         "hovertemplate": "GEO=Yellowknife, Northwest Territories<br>Year=%{x}<br>Value=%{y}<extra></extra>",
         "legendgroup": "Yellowknife, Northwest Territories",
         "line": {
          "color": "#22FFA7",
          "dash": "solid"
         },
         "marker": {
          "symbol": "circle"
         },
         "mode": "markers+lines",
         "name": "Yellowknife, Northwest Territories",
         "orientation": "v",
         "showlegend": true,
         "type": "scatter",
         "x": [
          1990,
          1991,
          1992,
          1993,
          1994,
          1995,
          1996,
          1997,
          1998,
          1999,
          2000,
          2001,
          2002,
          2003,
          2004,
          2005,
          2006,
          2007,
          2008,
          2009,
          2010,
          2011,
          2012,
          2013,
          2014,
          2015,
          2016,
          2017,
          2018,
          2019,
          2020,
          2021
         ],
         "xaxis": "x",
         "y": [
          79.2,
          83.5,
          72.4,
          72.4,
          75.9,
          78.4,
          80.9,
          80.6,
          80.4,
          84.8,
          96.6,
          101.6,
          100.4,
          107,
          111.4,
          131.2,
          133.5,
          141.6,
          163,
          130.9,
          134.9,
          150.4,
          149.9,
          149.9,
          152.2,
          147.8,
          130.9,
          136.4,
          159.4,
          158.2,
          145.2,
          166.1
         ],
         "yaxis": "y"
        }
       ],
       "layout": {
        "legend": {
         "title": {
          "text": "GEO"
         },
         "tracegroupgap": 0
        },
        "margin": {
         "t": 60
        },
        "template": {
         "data": {
          "bar": [
           {
            "error_x": {
             "color": "#2a3f5f"
            },
            "error_y": {
             "color": "#2a3f5f"
            },
            "marker": {
             "line": {
              "color": "#E5ECF6",
              "width": 0.5
             },
             "pattern": {
              "fillmode": "overlay",
              "size": 10,
              "solidity": 0.2
             }
            },
            "type": "bar"
           }
          ],
          "barpolar": [
           {
            "marker": {
             "line": {
              "color": "#E5ECF6",
              "width": 0.5
             },
             "pattern": {
              "fillmode": "overlay",
              "size": 10,
              "solidity": 0.2
             }
            },
            "type": "barpolar"
           }
          ],
          "carpet": [
           {
            "aaxis": {
             "endlinecolor": "#2a3f5f",
             "gridcolor": "white",
             "linecolor": "white",
             "minorgridcolor": "white",
             "startlinecolor": "#2a3f5f"
            },
            "baxis": {
             "endlinecolor": "#2a3f5f",
             "gridcolor": "white",
             "linecolor": "white",
             "minorgridcolor": "white",
             "startlinecolor": "#2a3f5f"
            },
            "type": "carpet"
           }
          ],
          "choropleth": [
           {
            "colorbar": {
             "outlinewidth": 0,
             "ticks": ""
            },
            "type": "choropleth"
           }
          ],
          "contour": [
           {
            "colorbar": {
             "outlinewidth": 0,
             "ticks": ""
            },
            "colorscale": [
             [
              0,
              "#0d0887"
             ],
             [
              0.1111111111111111,
              "#46039f"
             ],
             [
              0.2222222222222222,
              "#7201a8"
             ],
             [
              0.3333333333333333,
              "#9c179e"
             ],
             [
              0.4444444444444444,
              "#bd3786"
             ],
             [
              0.5555555555555556,
              "#d8576b"
             ],
             [
              0.6666666666666666,
              "#ed7953"
             ],
             [
              0.7777777777777778,
              "#fb9f3a"
             ],
             [
              0.8888888888888888,
              "#fdca26"
             ],
             [
              1,
              "#f0f921"
             ]
            ],
            "type": "contour"
           }
          ],
          "contourcarpet": [
           {
            "colorbar": {
             "outlinewidth": 0,
             "ticks": ""
            },
            "type": "contourcarpet"
           }
          ],
          "heatmap": [
           {
            "colorbar": {
             "outlinewidth": 0,
             "ticks": ""
            },
            "colorscale": [
             [
              0,
              "#0d0887"
             ],
             [
              0.1111111111111111,
              "#46039f"
             ],
             [
              0.2222222222222222,
              "#7201a8"
             ],
             [
              0.3333333333333333,
              "#9c179e"
             ],
             [
              0.4444444444444444,
              "#bd3786"
             ],
             [
              0.5555555555555556,
              "#d8576b"
             ],
             [
              0.6666666666666666,
              "#ed7953"
             ],
             [
              0.7777777777777778,
              "#fb9f3a"
             ],
             [
              0.8888888888888888,
              "#fdca26"
             ],
             [
              1,
              "#f0f921"
             ]
            ],
            "type": "heatmap"
           }
          ],
          "heatmapgl": [
           {
            "colorbar": {
             "outlinewidth": 0,
             "ticks": ""
            },
            "colorscale": [
             [
              0,
              "#0d0887"
             ],
             [
              0.1111111111111111,
              "#46039f"
             ],
             [
              0.2222222222222222,
              "#7201a8"
             ],
             [
              0.3333333333333333,
              "#9c179e"
             ],
             [
              0.4444444444444444,
              "#bd3786"
             ],
             [
              0.5555555555555556,
              "#d8576b"
             ],
             [
              0.6666666666666666,
              "#ed7953"
             ],
             [
              0.7777777777777778,
              "#fb9f3a"
             ],
             [
              0.8888888888888888,
              "#fdca26"
             ],
             [
              1,
              "#f0f921"
             ]
            ],
            "type": "heatmapgl"
           }
          ],
          "histogram": [
           {
            "marker": {
             "pattern": {
              "fillmode": "overlay",
              "size": 10,
              "solidity": 0.2
             }
            },
            "type": "histogram"
           }
          ],
          "histogram2d": [
           {
            "colorbar": {
             "outlinewidth": 0,
             "ticks": ""
            },
            "colorscale": [
             [
              0,
              "#0d0887"
             ],
             [
              0.1111111111111111,
              "#46039f"
             ],
             [
              0.2222222222222222,
              "#7201a8"
             ],
             [
              0.3333333333333333,
              "#9c179e"
             ],
             [
              0.4444444444444444,
              "#bd3786"
             ],
             [
              0.5555555555555556,
              "#d8576b"
             ],
             [
              0.6666666666666666,
              "#ed7953"
             ],
             [
              0.7777777777777778,
              "#fb9f3a"
             ],
             [
              0.8888888888888888,
              "#fdca26"
             ],
             [
              1,
              "#f0f921"
             ]
            ],
            "type": "histogram2d"
           }
          ],
          "histogram2dcontour": [
           {
            "colorbar": {
             "outlinewidth": 0,
             "ticks": ""
            },
            "colorscale": [
             [
              0,
              "#0d0887"
             ],
             [
              0.1111111111111111,
              "#46039f"
             ],
             [
              0.2222222222222222,
              "#7201a8"
             ],
             [
              0.3333333333333333,
              "#9c179e"
             ],
             [
              0.4444444444444444,
              "#bd3786"
             ],
             [
              0.5555555555555556,
              "#d8576b"
             ],
             [
              0.6666666666666666,
              "#ed7953"
             ],
             [
              0.7777777777777778,
              "#fb9f3a"
             ],
             [
              0.8888888888888888,
              "#fdca26"
             ],
             [
              1,
              "#f0f921"
             ]
            ],
            "type": "histogram2dcontour"
           }
          ],
          "mesh3d": [
           {
            "colorbar": {
             "outlinewidth": 0,
             "ticks": ""
            },
            "type": "mesh3d"
           }
          ],
          "parcoords": [
           {
            "line": {
             "colorbar": {
              "outlinewidth": 0,
              "ticks": ""
             }
            },
            "type": "parcoords"
           }
          ],
          "pie": [
           {
            "automargin": true,
            "type": "pie"
           }
          ],
          "scatter": [
           {
            "fillpattern": {
             "fillmode": "overlay",
             "size": 10,
             "solidity": 0.2
            },
            "type": "scatter"
           }
          ],
          "scatter3d": [
           {
            "line": {
             "colorbar": {
              "outlinewidth": 0,
              "ticks": ""
             }
            },
            "marker": {
             "colorbar": {
              "outlinewidth": 0,
              "ticks": ""
             }
            },
            "type": "scatter3d"
           }
          ],
          "scattercarpet": [
           {
            "marker": {
             "colorbar": {
              "outlinewidth": 0,
              "ticks": ""
             }
            },
            "type": "scattercarpet"
           }
          ],
          "scattergeo": [
           {
            "marker": {
             "colorbar": {
              "outlinewidth": 0,
              "ticks": ""
             }
            },
            "type": "scattergeo"
           }
          ],
          "scattergl": [
           {
            "marker": {
             "colorbar": {
              "outlinewidth": 0,
              "ticks": ""
             }
            },
            "type": "scattergl"
           }
          ],
          "scattermapbox": [
           {
            "marker": {
             "colorbar": {
              "outlinewidth": 0,
              "ticks": ""
             }
            },
            "type": "scattermapbox"
           }
          ],
          "scatterpolar": [
           {
            "marker": {
             "colorbar": {
              "outlinewidth": 0,
              "ticks": ""
             }
            },
            "type": "scatterpolar"
           }
          ],
          "scatterpolargl": [
           {
            "marker": {
             "colorbar": {
              "outlinewidth": 0,
              "ticks": ""
             }
            },
            "type": "scatterpolargl"
           }
          ],
          "scatterternary": [
           {
            "marker": {
             "colorbar": {
              "outlinewidth": 0,
              "ticks": ""
             }
            },
            "type": "scatterternary"
           }
          ],
          "surface": [
           {
            "colorbar": {
             "outlinewidth": 0,
             "ticks": ""
            },
            "colorscale": [
             [
              0,
              "#0d0887"
             ],
             [
              0.1111111111111111,
              "#46039f"
             ],
             [
              0.2222222222222222,
              "#7201a8"
             ],
             [
              0.3333333333333333,
              "#9c179e"
             ],
             [
              0.4444444444444444,
              "#bd3786"
             ],
             [
              0.5555555555555556,
              "#d8576b"
             ],
             [
              0.6666666666666666,
              "#ed7953"
             ],
             [
              0.7777777777777778,
              "#fb9f3a"
             ],
             [
              0.8888888888888888,
              "#fdca26"
             ],
             [
              1,
              "#f0f921"
             ]
            ],
            "type": "surface"
           }
          ],
          "table": [
           {
            "cells": {
             "fill": {
              "color": "#EBF0F8"
             },
             "line": {
              "color": "white"
             }
            },
            "header": {
             "fill": {
              "color": "#C8D4E3"
             },
             "line": {
              "color": "white"
             }
            },
            "type": "table"
           }
          ]
         },
         "layout": {
          "annotationdefaults": {
           "arrowcolor": "#2a3f5f",
           "arrowhead": 0,
           "arrowwidth": 1
          },
          "autotypenumbers": "strict",
          "coloraxis": {
           "colorbar": {
            "outlinewidth": 0,
            "ticks": ""
           }
          },
          "colorscale": {
           "diverging": [
            [
             0,
             "#8e0152"
            ],
            [
             0.1,
             "#c51b7d"
            ],
            [
             0.2,
             "#de77ae"
            ],
            [
             0.3,
             "#f1b6da"
            ],
            [
             0.4,
             "#fde0ef"
            ],
            [
             0.5,
             "#f7f7f7"
            ],
            [
             0.6,
             "#e6f5d0"
            ],
            [
             0.7,
             "#b8e186"
            ],
            [
             0.8,
             "#7fbc41"
            ],
            [
             0.9,
             "#4d9221"
            ],
            [
             1,
             "#276419"
            ]
           ],
           "sequential": [
            [
             0,
             "#0d0887"
            ],
            [
             0.1111111111111111,
             "#46039f"
            ],
            [
             0.2222222222222222,
             "#7201a8"
            ],
            [
             0.3333333333333333,
             "#9c179e"
            ],
            [
             0.4444444444444444,
             "#bd3786"
            ],
            [
             0.5555555555555556,
             "#d8576b"
            ],
            [
             0.6666666666666666,
             "#ed7953"
            ],
            [
             0.7777777777777778,
             "#fb9f3a"
            ],
            [
             0.8888888888888888,
             "#fdca26"
            ],
            [
             1,
             "#f0f921"
            ]
           ],
           "sequentialminus": [
            [
             0,
             "#0d0887"
            ],
            [
             0.1111111111111111,
             "#46039f"
            ],
            [
             0.2222222222222222,
             "#7201a8"
            ],
            [
             0.3333333333333333,
             "#9c179e"
            ],
            [
             0.4444444444444444,
             "#bd3786"
            ],
            [
             0.5555555555555556,
             "#d8576b"
            ],
            [
             0.6666666666666666,
             "#ed7953"
            ],
            [
             0.7777777777777778,
             "#fb9f3a"
            ],
            [
             0.8888888888888888,
             "#fdca26"
            ],
            [
             1,
             "#f0f921"
            ]
           ]
          },
          "colorway": [
           "#636efa",
           "#EF553B",
           "#00cc96",
           "#ab63fa",
           "#FFA15A",
           "#19d3f3",
           "#FF6692",
           "#B6E880",
           "#FF97FF",
           "#FECB52"
          ],
          "font": {
           "color": "#2a3f5f"
          },
          "geo": {
           "bgcolor": "white",
           "lakecolor": "white",
           "landcolor": "#E5ECF6",
           "showlakes": true,
           "showland": true,
           "subunitcolor": "white"
          },
          "hoverlabel": {
           "align": "left"
          },
          "hovermode": "closest",
          "mapbox": {
           "style": "light"
          },
          "paper_bgcolor": "white",
          "plot_bgcolor": "#E5ECF6",
          "polar": {
           "angularaxis": {
            "gridcolor": "white",
            "linecolor": "white",
            "ticks": ""
           },
           "bgcolor": "#E5ECF6",
           "radialaxis": {
            "gridcolor": "white",
            "linecolor": "white",
            "ticks": ""
           }
          },
          "scene": {
           "xaxis": {
            "backgroundcolor": "#E5ECF6",
            "gridcolor": "white",
            "gridwidth": 2,
            "linecolor": "white",
            "showbackground": true,
            "ticks": "",
            "zerolinecolor": "white"
           },
           "yaxis": {
            "backgroundcolor": "#E5ECF6",
            "gridcolor": "white",
            "gridwidth": 2,
            "linecolor": "white",
            "showbackground": true,
            "ticks": "",
            "zerolinecolor": "white"
           },
           "zaxis": {
            "backgroundcolor": "#E5ECF6",
            "gridcolor": "white",
            "gridwidth": 2,
            "linecolor": "white",
            "showbackground": true,
            "ticks": "",
            "zerolinecolor": "white"
           }
          },
          "shapedefaults": {
           "line": {
            "color": "#2a3f5f"
           }
          },
          "ternary": {
           "aaxis": {
            "gridcolor": "white",
            "linecolor": "white",
            "ticks": ""
           },
           "baxis": {
            "gridcolor": "white",
            "linecolor": "white",
            "ticks": ""
           },
           "bgcolor": "#E5ECF6",
           "caxis": {
            "gridcolor": "white",
            "linecolor": "white",
            "ticks": ""
           }
          },
          "title": {
           "x": 0.05
          },
          "xaxis": {
           "automargin": true,
           "gridcolor": "white",
           "linecolor": "white",
           "ticks": "",
           "title": {
            "standoff": 15
           },
           "zerolinecolor": "white",
           "zerolinewidth": 2
          },
          "yaxis": {
           "automargin": true,
           "gridcolor": "white",
           "linecolor": "white",
           "ticks": "",
           "title": {
            "standoff": 15
           },
           "zerolinecolor": "white",
           "zerolinewidth": 2
          }
         }
        },
        "title": {
         "text": "Gasoline Price Trend per City"
        },
        "xaxis": {
         "anchor": "y",
         "domain": [
          0,
          1
         ],
         "title": {
          "text": "Year"
         }
        },
        "yaxis": {
         "anchor": "x",
         "domain": [
          0,
          1
         ],
         "title": {
          "text": "Annual Average Price, Cents per Litre"
         }
        }
       }
      },
      "text/html": [
       "<div>                            <div id=\"cc2d54c8-5637-413f-a771-62651e74885c\" class=\"plotly-graph-div\" style=\"height:525px; width:100%;\"></div>            <script type=\"text/javascript\">                require([\"plotly\"], function(Plotly) {                    window.PLOTLYENV=window.PLOTLYENV || {};                                    if (document.getElementById(\"cc2d54c8-5637-413f-a771-62651e74885c\")) {                    Plotly.newPlot(                        \"cc2d54c8-5637-413f-a771-62651e74885c\",                        [{\"hovertemplate\":\"GEO=Calgary, Alberta<br>Year=%{x}<br>Value=%{y}<extra></extra>\",\"legendgroup\":\"Calgary, Alberta\",\"line\":{\"color\":\"#FD3216\",\"dash\":\"solid\"},\"marker\":{\"symbol\":\"circle\"},\"mode\":\"markers+lines\",\"name\":\"Calgary, Alberta\",\"orientation\":\"v\",\"showlegend\":true,\"x\":[1979,1980,1981,1982,1983,1984,1985,1986,1987,1988,1989,1990,1991,1992,1993,1994,1995,1996,1997,1998,1999,2000,2001,2002,2003,2004,2005,2006,2007,2008,2009,2010,2011,2012,2013,2014,2015,2016,2017,2018,2019,2020,2021],\"xaxis\":\"x\",\"y\":[21.5,26.2,35.0,40.1,42.9,44.7,49.0,49.4,48.5,45.4,48.1,68.1,69.1,59.0,61.4,61.0,63.5,63.8,64.9,61.2,68.9,79.1,87.3,82.1,84.2,95.5,114.7,121.8,121.2,143.6,110.3,110.2,136.3,133.7,142.2,142.3,130.9,123.3,132.4,150.0,142.7,128.7,164.4],\"yaxis\":\"y\",\"type\":\"scatter\"},{\"hovertemplate\":\"GEO=Charlottetown and Summerside, Prince Edward Island<br>Year=%{x}<br>Value=%{y}<extra></extra>\",\"legendgroup\":\"Charlottetown and Summerside, Prince Edward Island\",\"line\":{\"color\":\"#00FE35\",\"dash\":\"solid\"},\"marker\":{\"symbol\":\"circle\"},\"mode\":\"markers+lines\",\"name\":\"Charlottetown and Summerside, Prince Edward Island\",\"orientation\":\"v\",\"showlegend\":true,\"x\":[1979,1980,1981,1982,1983,1984,1985,1986,1987,1988,1989,1990,1991,1992,1993,1994,1995,1996,1997,1998,1999,2000,2001,2002,2003,2004,2005,2006,2007,2008,2009,2010,2011,2012,2013,2014,2015,2016,2017,2018,2019,2020,2021],\"xaxis\":\"x\",\"y\":[27.8,34.6,46.1,52.9,55.3,60.0,61.1,61.8,54.0,53.8,54.9,68.5,75.3,65.5,62.5,63.2,65.6,66.6,68.6,65.6,66.5,83.4,84.6,82.9,90.2,100.7,128.6,127.1,123.2,155.3,113.4,118.0,138.2,146.4,147.2,154.6,128.4,113.9,124.1,143.1,136.6,129.9,152.2],\"yaxis\":\"y\",\"type\":\"scatter\"},{\"hovertemplate\":\"GEO=Edmonton, Alberta<br>Year=%{x}<br>Value=%{y}<extra></extra>\",\"legendgroup\":\"Edmonton, Alberta\",\"line\":{\"color\":\"#6A76FC\",\"dash\":\"solid\"},\"marker\":{\"symbol\":\"circle\"},\"mode\":\"markers+lines\",\"name\":\"Edmonton, Alberta\",\"orientation\":\"v\",\"showlegend\":true,\"x\":[1979,1980,1981,1982,1983,1984,1985,1986,1987,1988,1989,1990,1991,1992,1993,1994,1995,1996,1997,1998,1999,2000,2001,2002,2003,2004,2005,2006,2007,2008,2009,2010,2011,2012,2013,2014,2015,2016,2017,2018,2019,2020,2021],\"xaxis\":\"x\",\"y\":[20.9,25.5,34.6,39.2,41.8,43.4,46.8,47.1,47.8,45.1,47.8,67.1,69.4,57.4,57.0,59.2,62.2,62.3,64.4,59.6,68.2,79.6,81.6,80.2,85.9,97.2,112.9,120.7,121.1,142.4,108.9,110.7,133.8,132.6,136.1,137.6,125.9,121.2,128.8,149.0,137.5,121.0,159.6],\"yaxis\":\"y\",\"type\":\"scatter\"},{\"hovertemplate\":\"GEO=Halifax, Nova Scotia<br>Year=%{x}<br>Value=%{y}<extra></extra>\",\"legendgroup\":\"Halifax, Nova Scotia\",\"line\":{\"color\":\"#FED4C4\",\"dash\":\"solid\"},\"marker\":{\"symbol\":\"circle\"},\"mode\":\"markers+lines\",\"name\":\"Halifax, Nova Scotia\",\"orientation\":\"v\",\"showlegend\":true,\"x\":[1979,1980,1981,1982,1983,1984,1985,1986,1987,1988,1989,1990,1991,1992,1993,1994,1995,1996,1997,1998,1999,2000,2001,2002,2003,2004,2005,2006,2007,2008,2009,2010,2011,2012,2013,2014,2015,2016,2017,2018,2019,2020,2021],\"xaxis\":\"x\",\"y\":[26.3,31.5,40.9,49.9,52.2,56.9,59.9,59.9,52.7,51.6,52.4,72.0,76.4,66.5,63.4,66.8,68.1,71.4,73.3,69.8,78.1,91.2,90.4,88.1,95.9,106.4,128.3,124.2,123.9,158.3,116.1,126.1,145.3,157.0,145.7,147.8,128.1,113.9,124.8,139.2,136.4,121.5,151.6],\"yaxis\":\"y\",\"type\":\"scatter\"},{\"hovertemplate\":\"GEO=Montr\\u00e9al, Quebec<br>Year=%{x}<br>Value=%{y}<extra></extra>\",\"legendgroup\":\"Montr\\u00e9al, Quebec\",\"line\":{\"color\":\"#FE00CE\",\"dash\":\"solid\"},\"marker\":{\"symbol\":\"circle\"},\"mode\":\"markers+lines\",\"name\":\"Montr\\u00e9al, Quebec\",\"orientation\":\"v\",\"showlegend\":true,\"x\":[1979,1980,1981,1982,1983,1984,1985,1986,1987,1988,1989,1990,1991,1992,1993,1994,1995,1996,1997,1998,1999,2000,2001,2002,2003,2004,2005,2006,2007,2008,2009,2010,2011,2012,2013,2014,2015,2016,2017,2018,2019,2020,2021],\"xaxis\":\"x\",\"y\":[26.3,32.5,50.3,57.6,58.8,61.0,62.0,62.4,58.0,58.1,58.5,76.5,78.5,71.1,70.5,70.7,71.9,78.3,75.4,70.2,78.8,89.4,93.3,86.9,95.1,104.2,125.4,121.9,123.7,157.0,115.7,126.7,149.7,153.7,153.4,157.4,143.5,132.2,142.1,158.4,154.4,139.9,173.0],\"yaxis\":\"y\",\"type\":\"scatter\"},{\"hovertemplate\":\"GEO=Ottawa-Gatineau, Ontario part, Ontario/Quebec<br>Year=%{x}<br>Value=%{y}<extra></extra>\",\"legendgroup\":\"Ottawa-Gatineau, Ontario part, Ontario/Quebec\",\"line\":{\"color\":\"#0DF9FF\",\"dash\":\"solid\"},\"marker\":{\"symbol\":\"circle\"},\"mode\":\"markers+lines\",\"name\":\"Ottawa-Gatineau, Ontario part, Ontario/Quebec\",\"orientation\":\"v\",\"showlegend\":true,\"x\":[1979,1980,1981,1982,1983,1984,1985,1986,1987,1988,1989,1990,1991,1992,1993,1994,1995,1996,1997,1998,1999,2000,2001,2002,2003,2004,2005,2006,2007,2008,2009,2010,2011,2012,2013,2014,2015,2016,2017,2018,2019,2020,2021],\"xaxis\":\"x\",\"y\":[26.7,31.8,42.2,49.0,50.6,51.8,55.4,56.0,52.2,52.5,55.6,71.6,72.1,65.9,64.8,65.3,68.6,70.5,71.7,67.6,76.6,85.6,88.5,84.7,91.2,98.1,123.1,119.2,121.3,145.7,108.0,124.5,142.2,145.1,145.6,152.8,135.6,121.9,140.7,156.5,148.0,134.4,169.5],\"yaxis\":\"y\",\"type\":\"scatter\"},{\"hovertemplate\":\"GEO=Qu\\u00e9bec, Quebec<br>Year=%{x}<br>Value=%{y}<extra></extra>\",\"legendgroup\":\"Qu\\u00e9bec, Quebec\",\"line\":{\"color\":\"#F6F926\",\"dash\":\"solid\"},\"marker\":{\"symbol\":\"circle\"},\"mode\":\"markers+lines\",\"name\":\"Qu\\u00e9bec, Quebec\",\"orientation\":\"v\",\"showlegend\":true,\"x\":[1979,1980,1981,1982,1983,1984,1985,1986,1987,1988,1989,1990,1991,1992,1993,1994,1995,1996,1997,1998,1999,2000,2001,2002,2003,2004,2005,2006,2007,2008,2009,2010,2011,2012,2013,2014,2015,2016,2017,2018,2019,2020,2021],\"xaxis\":\"x\",\"y\":[26.6,32.8,50.6,57.3,57.9,59.9,61.9,62.7,57.9,56.8,57.9,75.7,78.1,71.1,70.3,70.5,71.8,78.9,71.6,66.0,76.0,85.0,93.1,84.3,93.9,103.1,125.2,123.4,123.7,157.5,115.0,123.0,143.9,150.5,153.2,154.9,135.8,121.4,137.9,153.4,150.3,134.6,172.3],\"yaxis\":\"y\",\"type\":\"scatter\"},{\"hovertemplate\":\"GEO=Regina, Saskatchewan<br>Year=%{x}<br>Value=%{y}<extra></extra>\",\"legendgroup\":\"Regina, Saskatchewan\",\"line\":{\"color\":\"#FF9616\",\"dash\":\"solid\"},\"marker\":{\"symbol\":\"circle\"},\"mode\":\"markers+lines\",\"name\":\"Regina, Saskatchewan\",\"orientation\":\"v\",\"showlegend\":true,\"x\":[1979,1980,1981,1982,1983,1984,1985,1986,1987,1988,1989,1990,1991,1992,1993,1994,1995,1996,1997,1998,1999,2000,2001,2002,2003,2004,2005,2006,2007,2008,2009,2010,2011,2012,2013,2014,2015,2016,2017,2018,2019,2020,2021],\"xaxis\":\"x\",\"y\":[26.0,31.0,41.7,44.2,42.2,46.3,48.0,47.1,50.4,50.4,54.2,65.3,61.8,63.0,64.0,68.2,70.1,71.6,73.0,66.4,76.0,86.4,93.9,88.1,94.9,100.5,118.8,128.0,126.8,148.7,118.4,117.2,145.1,143.2,144.8,146.2,129.1,123.9,126.9,139.9,144.9,128.6,162.1],\"yaxis\":\"y\",\"type\":\"scatter\"},{\"hovertemplate\":\"GEO=Saint John, New Brunswick<br>Year=%{x}<br>Value=%{y}<extra></extra>\",\"legendgroup\":\"Saint John, New Brunswick\",\"line\":{\"color\":\"#479B55\",\"dash\":\"solid\"},\"marker\":{\"symbol\":\"circle\"},\"mode\":\"markers+lines\",\"name\":\"Saint John, New Brunswick\",\"orientation\":\"v\",\"showlegend\":true,\"x\":[1979,1980,1981,1982,1983,1984,1985,1986,1987,1988,1989,1990,1991,1992,1993,1994,1995,1996,1997,1998,1999,2000,2001,2002,2003,2004,2005,2006,2007,2008,2009,2010,2011,2012,2013,2014,2015,2016,2017,2018,2019,2020,2021],\"xaxis\":\"x\",\"y\":[25.9,30.9,41.3,47.3,52.1,54.9,62.3,63.4,51.2,51.2,54.2,69.4,72.8,66.3,64.5,65.1,68.4,66.1,74.1,67.7,74.8,88.4,88.3,86.6,97.2,103.9,127.3,131.0,123.5,158.3,109.3,116.1,139.6,147.9,145.1,150.7,124.9,113.0,124.6,138.2,137.8,133.8,149.7],\"yaxis\":\"y\",\"type\":\"scatter\"},{\"hovertemplate\":\"GEO=Saskatoon, Saskatchewan<br>Year=%{x}<br>Value=%{y}<extra></extra>\",\"legendgroup\":\"Saskatoon, Saskatchewan\",\"line\":{\"color\":\"#EEA6FB\",\"dash\":\"solid\"},\"marker\":{\"symbol\":\"circle\"},\"mode\":\"markers+lines\",\"name\":\"Saskatoon, Saskatchewan\",\"orientation\":\"v\",\"showlegend\":true,\"x\":[1979,1980,1981,1982,1983,1984,1985,1986,1987,1988,1989,1990,1991,1992,1993,1994,1995,1996,1997,1998,1999,2000,2001,2002,2003,2004,2005,2006,2007,2008,2009,2010,2011,2012,2013,2014,2015,2016,2017,2018,2019,2020,2021],\"xaxis\":\"x\",\"y\":[26.3,31.2,41.0,43.9,43.0,46.8,50.1,50.6,51.2,51.2,54.9,72.8,73.6,63.7,63.9,67.0,70.8,72.1,70.7,67.2,74.8,86.2,93.0,89.2,92.6,102.8,121.6,127.1,126.1,147.6,118.4,117.5,144.8,143.7,144.3,145.7,130.8,124.3,126.1,143.7,146.5,129.6,161.7],\"yaxis\":\"y\",\"type\":\"scatter\"},{\"hovertemplate\":\"GEO=St. John's, Newfoundland and Labrador<br>Year=%{x}<br>Value=%{y}<extra></extra>\",\"legendgroup\":\"St. John's, Newfoundland and Labrador\",\"line\":{\"color\":\"#DC587D\",\"dash\":\"solid\"},\"marker\":{\"symbol\":\"circle\"},\"mode\":\"markers+lines\",\"name\":\"St. John's, Newfoundland and Labrador\",\"orientation\":\"v\",\"showlegend\":true,\"x\":[1979,1980,1981,1982,1983,1984,1985,1986,1987,1988,1989,1990,1991,1992,1993,1994,1995,1996,1997,1998,1999,2000,2001,2002,2003,2004,2005,2006,2007,2008,2009,2010,2011,2012,2013,2014,2015,2016,2017,2018,2019,2020,2021],\"xaxis\":\"x\",\"y\":[29.6,35.4,46.9,53.3,56.6,60.4,65.3,66.7,57.2,56.5,59.3,78.0,81.5,70.4,69.8,72.7,77.1,74.7,78.4,76.2,85.1,98.2,97.2,92.2,98.4,107.2,137.5,128.8,128.0,159.5,119.9,125.4,145.6,153.7,147.9,153.8,131.4,136.1,142.9,148.1,138.5,136.5,165.9],\"yaxis\":\"y\",\"type\":\"scatter\"},{\"hovertemplate\":\"GEO=Thunder Bay, Ontario<br>Year=%{x}<br>Value=%{y}<extra></extra>\",\"legendgroup\":\"Thunder Bay, Ontario\",\"line\":{\"color\":\"#D626FF\",\"dash\":\"solid\"},\"marker\":{\"symbol\":\"circle\"},\"mode\":\"markers+lines\",\"name\":\"Thunder Bay, Ontario\",\"orientation\":\"v\",\"showlegend\":true,\"x\":[1979,1980,1981,1982,1983,1984,1985,1986,1987,1988,1989,1990,1991,1992,1993,1994,1995,1996,1997,1998,1999,2000,2001,2002,2003,2004,2005,2006,2007,2008,2009,2010,2011,2012,2013,2014,2015,2016,2017,2018,2019,2020,2021],\"xaxis\":\"x\",\"y\":[26.6,31.9,42.3,47.7,50.7,51.4,55.5,56.5,52.7,53.4,55.1,72.3,72.0,65.4,66.8,69.0,73.0,75.9,77.0,70.6,79.0,89.4,95.1,87.9,94.2,103.4,127.8,126.6,126.4,152.9,119.8,134.4,157.3,154.2,153.2,158.5,145.4,139.2,149.2,163.6,163.6,148.0,176.3],\"yaxis\":\"y\",\"type\":\"scatter\"},{\"hovertemplate\":\"GEO=Toronto, Ontario<br>Year=%{x}<br>Value=%{y}<extra></extra>\",\"legendgroup\":\"Toronto, Ontario\",\"line\":{\"color\":\"#6E899C\",\"dash\":\"solid\"},\"marker\":{\"symbol\":\"circle\"},\"mode\":\"markers+lines\",\"name\":\"Toronto, Ontario\",\"orientation\":\"v\",\"showlegend\":true,\"x\":[1979,1980,1981,1982,1983,1984,1985,1986,1987,1988,1989,1990,1991,1992,1993,1994,1995,1996,1997,1998,1999,2000,2001,2002,2003,2004,2005,2006,2007,2008,2009,2010,2011,2012,2013,2014,2015,2016,2017,2018,2019,2020,2021],\"xaxis\":\"x\",\"y\":[26.7,31.9,43.3,48.4,50.7,51.6,53.8,54.1,51.3,50.4,53.0,70.6,64.4,65.5,64.3,63.3,68.0,71.5,70.9,66.0,78.0,88.2,90.9,82.9,91.4,97.4,119.9,117.3,117.6,144.8,112.9,123.8,148.1,150.3,147.6,156.8,138.6,123.5,140.7,156.4,147.6,138.4,170.7],\"yaxis\":\"y\",\"type\":\"scatter\"},{\"hovertemplate\":\"GEO=Vancouver, British Columbia<br>Year=%{x}<br>Value=%{y}<extra></extra>\",\"legendgroup\":\"Vancouver, British Columbia\",\"line\":{\"color\":\"#00B5F7\",\"dash\":\"solid\"},\"marker\":{\"symbol\":\"circle\"},\"mode\":\"markers+lines\",\"name\":\"Vancouver, British Columbia\",\"orientation\":\"v\",\"showlegend\":true,\"x\":[1979,1980,1981,1982,1983,1984,1985,1986,1987,1988,1989,1990,1991,1992,1993,1994,1995,1996,1997,1998,1999,2000,2001,2002,2003,2004,2005,2006,2007,2008,2009,2010,2011,2012,2013,2014,2015,2016,2017,2018,2019,2020,2021],\"xaxis\":\"x\",\"y\":[25.4,31.7,42.6,47.8,51.7,54.6,57.8,58.7,53.1,52.0,56.1,75.2,73.2,64.2,65.0,68.7,71.0,76.8,73.7,66.5,72.7,89.2,89.8,89.9,101.1,108.5,126.5,130.2,137.9,161.2,128.6,135.5,155.7,161.1,162.3,167.4,151.3,146.6,160.8,179.6,189.3,168.0,191.6],\"yaxis\":\"y\",\"type\":\"scatter\"},{\"hovertemplate\":\"GEO=Winnipeg, Manitoba<br>Year=%{x}<br>Value=%{y}<extra></extra>\",\"legendgroup\":\"Winnipeg, Manitoba\",\"line\":{\"color\":\"#B68E00\",\"dash\":\"solid\"},\"marker\":{\"symbol\":\"circle\"},\"mode\":\"markers+lines\",\"name\":\"Winnipeg, Manitoba\",\"orientation\":\"v\",\"showlegend\":true,\"x\":[1979,1980,1981,1982,1983,1984,1985,1986,1987,1988,1989,1990,1991,1992,1993,1994,1995,1996,1997,1998,1999,2000,2001,2002,2003,2004,2005,2006,2007,2008,2009,2010,2011,2012,2013,2014,2015,2016,2017,2018,2019,2020,2021],\"xaxis\":\"x\",\"y\":[25.5,30.6,39.9,46.0,49.5,50.9,55.5,56.0,49.2,49.4,52.1,69.9,69.9,60.6,60.7,64.8,67.8,69.8,69.4,64.7,73.8,82.0,86.3,79.0,86.0,96.8,119.6,123.9,122.5,146.3,113.8,111.3,140.0,139.4,147.7,144.0,125.8,129.8,125.6,142.4,143.5,126.7,162.0],\"yaxis\":\"y\",\"type\":\"scatter\"},{\"hovertemplate\":\"GEO=Victoria, British Columbia<br>Year=%{x}<br>Value=%{y}<extra></extra>\",\"legendgroup\":\"Victoria, British Columbia\",\"line\":{\"color\":\"#C9FBE5\",\"dash\":\"solid\"},\"marker\":{\"symbol\":\"circle\"},\"mode\":\"markers+lines\",\"name\":\"Victoria, British Columbia\",\"orientation\":\"v\",\"showlegend\":true,\"x\":[1980,1981,1982,1983,1984,1985,1986,1987,1988,1989,1990,1991,1992,1993,1994,1995,1996,1997,1998,1999,2000,2001,2002,2003,2004,2005,2006,2007,2008,2009,2010,2011,2012,2013,2014,2015,2016,2017,2018,2019,2020,2021],\"xaxis\":\"x\",\"y\":[29.3,39.8,45.3,48.5,52.7,57.2,60.3,51.5,50.2,54.4,73.1,74.8,61.8,61.5,65.6,66.7,71.9,73.2,66.1,75.8,91.5,93.6,89.0,101.6,109.6,127.0,130.6,134.8,163.0,122.3,127.7,149.9,148.8,152.6,153.9,143.7,138.7,151.1,172.3,179.9,162.7,187.1],\"yaxis\":\"y\",\"type\":\"scatter\"},{\"hovertemplate\":\"GEO=Whitehorse, Yukon<br>Year=%{x}<br>Value=%{y}<extra></extra>\",\"legendgroup\":\"Whitehorse, Yukon\",\"line\":{\"color\":\"#FF0092\",\"dash\":\"solid\"},\"marker\":{\"symbol\":\"circle\"},\"mode\":\"markers+lines\",\"name\":\"Whitehorse, Yukon\",\"orientation\":\"v\",\"showlegend\":true,\"x\":[1990,1991,1992,1993,1994,1995,1996,1997,1998,1999,2000,2001,2002,2003,2004,2005,2006,2007,2008,2009,2010,2011,2012,2013,2014,2015,2016,2017,2018,2019,2020,2021],\"xaxis\":\"x\",\"y\":[73.4,76.8,67.4,66.5,68.7,72.9,78.1,78.3,77.7,80.3,95.0,96.4,94.1,101.8,109.9,126.4,128.3,127.0,152.4,115.3,122.4,145.4,145.9,157.8,153.2,136.3,131.7,137.2,155.4,153.4,153.4,166.4],\"yaxis\":\"y\",\"type\":\"scatter\"},{\"hovertemplate\":\"GEO=Yellowknife, Northwest Territories<br>Year=%{x}<br>Value=%{y}<extra></extra>\",\"legendgroup\":\"Yellowknife, Northwest Territories\",\"line\":{\"color\":\"#22FFA7\",\"dash\":\"solid\"},\"marker\":{\"symbol\":\"circle\"},\"mode\":\"markers+lines\",\"name\":\"Yellowknife, Northwest Territories\",\"orientation\":\"v\",\"showlegend\":true,\"x\":[1990,1991,1992,1993,1994,1995,1996,1997,1998,1999,2000,2001,2002,2003,2004,2005,2006,2007,2008,2009,2010,2011,2012,2013,2014,2015,2016,2017,2018,2019,2020,2021],\"xaxis\":\"x\",\"y\":[79.2,83.5,72.4,72.4,75.9,78.4,80.9,80.6,80.4,84.8,96.6,101.6,100.4,107.0,111.4,131.2,133.5,141.6,163.0,130.9,134.9,150.4,149.9,149.9,152.2,147.8,130.9,136.4,159.4,158.2,145.2,166.1],\"yaxis\":\"y\",\"type\":\"scatter\"}],                        {\"template\":{\"data\":{\"histogram2dcontour\":[{\"type\":\"histogram2dcontour\",\"colorbar\":{\"outlinewidth\":0,\"ticks\":\"\"},\"colorscale\":[[0.0,\"#0d0887\"],[0.1111111111111111,\"#46039f\"],[0.2222222222222222,\"#7201a8\"],[0.3333333333333333,\"#9c179e\"],[0.4444444444444444,\"#bd3786\"],[0.5555555555555556,\"#d8576b\"],[0.6666666666666666,\"#ed7953\"],[0.7777777777777778,\"#fb9f3a\"],[0.8888888888888888,\"#fdca26\"],[1.0,\"#f0f921\"]]}],\"choropleth\":[{\"type\":\"choropleth\",\"colorbar\":{\"outlinewidth\":0,\"ticks\":\"\"}}],\"histogram2d\":[{\"type\":\"histogram2d\",\"colorbar\":{\"outlinewidth\":0,\"ticks\":\"\"},\"colorscale\":[[0.0,\"#0d0887\"],[0.1111111111111111,\"#46039f\"],[0.2222222222222222,\"#7201a8\"],[0.3333333333333333,\"#9c179e\"],[0.4444444444444444,\"#bd3786\"],[0.5555555555555556,\"#d8576b\"],[0.6666666666666666,\"#ed7953\"],[0.7777777777777778,\"#fb9f3a\"],[0.8888888888888888,\"#fdca26\"],[1.0,\"#f0f921\"]]}],\"heatmap\":[{\"type\":\"heatmap\",\"colorbar\":{\"outlinewidth\":0,\"ticks\":\"\"},\"colorscale\":[[0.0,\"#0d0887\"],[0.1111111111111111,\"#46039f\"],[0.2222222222222222,\"#7201a8\"],[0.3333333333333333,\"#9c179e\"],[0.4444444444444444,\"#bd3786\"],[0.5555555555555556,\"#d8576b\"],[0.6666666666666666,\"#ed7953\"],[0.7777777777777778,\"#fb9f3a\"],[0.8888888888888888,\"#fdca26\"],[1.0,\"#f0f921\"]]}],\"heatmapgl\":[{\"type\":\"heatmapgl\",\"colorbar\":{\"outlinewidth\":0,\"ticks\":\"\"},\"colorscale\":[[0.0,\"#0d0887\"],[0.1111111111111111,\"#46039f\"],[0.2222222222222222,\"#7201a8\"],[0.3333333333333333,\"#9c179e\"],[0.4444444444444444,\"#bd3786\"],[0.5555555555555556,\"#d8576b\"],[0.6666666666666666,\"#ed7953\"],[0.7777777777777778,\"#fb9f3a\"],[0.8888888888888888,\"#fdca26\"],[1.0,\"#f0f921\"]]}],\"contourcarpet\":[{\"type\":\"contourcarpet\",\"colorbar\":{\"outlinewidth\":0,\"ticks\":\"\"}}],\"contour\":[{\"type\":\"contour\",\"colorbar\":{\"outlinewidth\":0,\"ticks\":\"\"},\"colorscale\":[[0.0,\"#0d0887\"],[0.1111111111111111,\"#46039f\"],[0.2222222222222222,\"#7201a8\"],[0.3333333333333333,\"#9c179e\"],[0.4444444444444444,\"#bd3786\"],[0.5555555555555556,\"#d8576b\"],[0.6666666666666666,\"#ed7953\"],[0.7777777777777778,\"#fb9f3a\"],[0.8888888888888888,\"#fdca26\"],[1.0,\"#f0f921\"]]}],\"surface\":[{\"type\":\"surface\",\"colorbar\":{\"outlinewidth\":0,\"ticks\":\"\"},\"colorscale\":[[0.0,\"#0d0887\"],[0.1111111111111111,\"#46039f\"],[0.2222222222222222,\"#7201a8\"],[0.3333333333333333,\"#9c179e\"],[0.4444444444444444,\"#bd3786\"],[0.5555555555555556,\"#d8576b\"],[0.6666666666666666,\"#ed7953\"],[0.7777777777777778,\"#fb9f3a\"],[0.8888888888888888,\"#fdca26\"],[1.0,\"#f0f921\"]]}],\"mesh3d\":[{\"type\":\"mesh3d\",\"colorbar\":{\"outlinewidth\":0,\"ticks\":\"\"}}],\"scatter\":[{\"fillpattern\":{\"fillmode\":\"overlay\",\"size\":10,\"solidity\":0.2},\"type\":\"scatter\"}],\"parcoords\":[{\"type\":\"parcoords\",\"line\":{\"colorbar\":{\"outlinewidth\":0,\"ticks\":\"\"}}}],\"scatterpolargl\":[{\"type\":\"scatterpolargl\",\"marker\":{\"colorbar\":{\"outlinewidth\":0,\"ticks\":\"\"}}}],\"bar\":[{\"error_x\":{\"color\":\"#2a3f5f\"},\"error_y\":{\"color\":\"#2a3f5f\"},\"marker\":{\"line\":{\"color\":\"#E5ECF6\",\"width\":0.5},\"pattern\":{\"fillmode\":\"overlay\",\"size\":10,\"solidity\":0.2}},\"type\":\"bar\"}],\"scattergeo\":[{\"type\":\"scattergeo\",\"marker\":{\"colorbar\":{\"outlinewidth\":0,\"ticks\":\"\"}}}],\"scatterpolar\":[{\"type\":\"scatterpolar\",\"marker\":{\"colorbar\":{\"outlinewidth\":0,\"ticks\":\"\"}}}],\"histogram\":[{\"marker\":{\"pattern\":{\"fillmode\":\"overlay\",\"size\":10,\"solidity\":0.2}},\"type\":\"histogram\"}],\"scattergl\":[{\"type\":\"scattergl\",\"marker\":{\"colorbar\":{\"outlinewidth\":0,\"ticks\":\"\"}}}],\"scatter3d\":[{\"type\":\"scatter3d\",\"line\":{\"colorbar\":{\"outlinewidth\":0,\"ticks\":\"\"}},\"marker\":{\"colorbar\":{\"outlinewidth\":0,\"ticks\":\"\"}}}],\"scattermapbox\":[{\"type\":\"scattermapbox\",\"marker\":{\"colorbar\":{\"outlinewidth\":0,\"ticks\":\"\"}}}],\"scatterternary\":[{\"type\":\"scatterternary\",\"marker\":{\"colorbar\":{\"outlinewidth\":0,\"ticks\":\"\"}}}],\"scattercarpet\":[{\"type\":\"scattercarpet\",\"marker\":{\"colorbar\":{\"outlinewidth\":0,\"ticks\":\"\"}}}],\"carpet\":[{\"aaxis\":{\"endlinecolor\":\"#2a3f5f\",\"gridcolor\":\"white\",\"linecolor\":\"white\",\"minorgridcolor\":\"white\",\"startlinecolor\":\"#2a3f5f\"},\"baxis\":{\"endlinecolor\":\"#2a3f5f\",\"gridcolor\":\"white\",\"linecolor\":\"white\",\"minorgridcolor\":\"white\",\"startlinecolor\":\"#2a3f5f\"},\"type\":\"carpet\"}],\"table\":[{\"cells\":{\"fill\":{\"color\":\"#EBF0F8\"},\"line\":{\"color\":\"white\"}},\"header\":{\"fill\":{\"color\":\"#C8D4E3\"},\"line\":{\"color\":\"white\"}},\"type\":\"table\"}],\"barpolar\":[{\"marker\":{\"line\":{\"color\":\"#E5ECF6\",\"width\":0.5},\"pattern\":{\"fillmode\":\"overlay\",\"size\":10,\"solidity\":0.2}},\"type\":\"barpolar\"}],\"pie\":[{\"automargin\":true,\"type\":\"pie\"}]},\"layout\":{\"autotypenumbers\":\"strict\",\"colorway\":[\"#636efa\",\"#EF553B\",\"#00cc96\",\"#ab63fa\",\"#FFA15A\",\"#19d3f3\",\"#FF6692\",\"#B6E880\",\"#FF97FF\",\"#FECB52\"],\"font\":{\"color\":\"#2a3f5f\"},\"hovermode\":\"closest\",\"hoverlabel\":{\"align\":\"left\"},\"paper_bgcolor\":\"white\",\"plot_bgcolor\":\"#E5ECF6\",\"polar\":{\"bgcolor\":\"#E5ECF6\",\"angularaxis\":{\"gridcolor\":\"white\",\"linecolor\":\"white\",\"ticks\":\"\"},\"radialaxis\":{\"gridcolor\":\"white\",\"linecolor\":\"white\",\"ticks\":\"\"}},\"ternary\":{\"bgcolor\":\"#E5ECF6\",\"aaxis\":{\"gridcolor\":\"white\",\"linecolor\":\"white\",\"ticks\":\"\"},\"baxis\":{\"gridcolor\":\"white\",\"linecolor\":\"white\",\"ticks\":\"\"},\"caxis\":{\"gridcolor\":\"white\",\"linecolor\":\"white\",\"ticks\":\"\"}},\"coloraxis\":{\"colorbar\":{\"outlinewidth\":0,\"ticks\":\"\"}},\"colorscale\":{\"sequential\":[[0.0,\"#0d0887\"],[0.1111111111111111,\"#46039f\"],[0.2222222222222222,\"#7201a8\"],[0.3333333333333333,\"#9c179e\"],[0.4444444444444444,\"#bd3786\"],[0.5555555555555556,\"#d8576b\"],[0.6666666666666666,\"#ed7953\"],[0.7777777777777778,\"#fb9f3a\"],[0.8888888888888888,\"#fdca26\"],[1.0,\"#f0f921\"]],\"sequentialminus\":[[0.0,\"#0d0887\"],[0.1111111111111111,\"#46039f\"],[0.2222222222222222,\"#7201a8\"],[0.3333333333333333,\"#9c179e\"],[0.4444444444444444,\"#bd3786\"],[0.5555555555555556,\"#d8576b\"],[0.6666666666666666,\"#ed7953\"],[0.7777777777777778,\"#fb9f3a\"],[0.8888888888888888,\"#fdca26\"],[1.0,\"#f0f921\"]],\"diverging\":[[0,\"#8e0152\"],[0.1,\"#c51b7d\"],[0.2,\"#de77ae\"],[0.3,\"#f1b6da\"],[0.4,\"#fde0ef\"],[0.5,\"#f7f7f7\"],[0.6,\"#e6f5d0\"],[0.7,\"#b8e186\"],[0.8,\"#7fbc41\"],[0.9,\"#4d9221\"],[1,\"#276419\"]]},\"xaxis\":{\"gridcolor\":\"white\",\"linecolor\":\"white\",\"ticks\":\"\",\"title\":{\"standoff\":15},\"zerolinecolor\":\"white\",\"automargin\":true,\"zerolinewidth\":2},\"yaxis\":{\"gridcolor\":\"white\",\"linecolor\":\"white\",\"ticks\":\"\",\"title\":{\"standoff\":15},\"zerolinecolor\":\"white\",\"automargin\":true,\"zerolinewidth\":2},\"scene\":{\"xaxis\":{\"backgroundcolor\":\"#E5ECF6\",\"gridcolor\":\"white\",\"linecolor\":\"white\",\"showbackground\":true,\"ticks\":\"\",\"zerolinecolor\":\"white\",\"gridwidth\":2},\"yaxis\":{\"backgroundcolor\":\"#E5ECF6\",\"gridcolor\":\"white\",\"linecolor\":\"white\",\"showbackground\":true,\"ticks\":\"\",\"zerolinecolor\":\"white\",\"gridwidth\":2},\"zaxis\":{\"backgroundcolor\":\"#E5ECF6\",\"gridcolor\":\"white\",\"linecolor\":\"white\",\"showbackground\":true,\"ticks\":\"\",\"zerolinecolor\":\"white\",\"gridwidth\":2}},\"shapedefaults\":{\"line\":{\"color\":\"#2a3f5f\"}},\"annotationdefaults\":{\"arrowcolor\":\"#2a3f5f\",\"arrowhead\":0,\"arrowwidth\":1},\"geo\":{\"bgcolor\":\"white\",\"landcolor\":\"#E5ECF6\",\"subunitcolor\":\"white\",\"showland\":true,\"showlakes\":true,\"lakecolor\":\"white\"},\"title\":{\"x\":0.05},\"mapbox\":{\"style\":\"light\"}}},\"xaxis\":{\"anchor\":\"y\",\"domain\":[0.0,1.0],\"title\":{\"text\":\"Year\"}},\"yaxis\":{\"anchor\":\"x\",\"domain\":[0.0,1.0],\"title\":{\"text\":\"Annual Average Price, Cents per Litre\"}},\"legend\":{\"title\":{\"text\":\"GEO\"},\"tracegroupgap\":0},\"margin\":{\"t\":60},\"title\":{\"text\":\"Gasoline Price Trend per City\"}},                        {\"responsive\": true}                    ).then(function(){\n",
       "                            \n",
       "var gd = document.getElementById('cc2d54c8-5637-413f-a771-62651e74885c');\n",
       "var x = new MutationObserver(function (mutations, observer) {{\n",
       "        var display = window.getComputedStyle(gd).display;\n",
       "        if (!display || display === 'none') {{\n",
       "            console.log([gd, 'removed!']);\n",
       "            Plotly.purge(gd);\n",
       "            observer.disconnect();\n",
       "        }}\n",
       "}});\n",
       "\n",
       "// Listen for the removal of the full notebook cells\n",
       "var notebookContainer = gd.closest('#notebook-container');\n",
       "if (notebookContainer) {{\n",
       "    x.observe(notebookContainer, {childList: true});\n",
       "}}\n",
       "\n",
       "// Listen for the clearing of the current output cell\n",
       "var outputEl = gd.closest('.output');\n",
       "if (outputEl) {{\n",
       "    x.observe(outputEl, {childList: true});\n",
       "}}\n",
       "\n",
       "                        })                };                });            </script>        </div>"
      ]
     },
     "metadata": {},
     "output_type": "display_data"
    }
   ],
   "source": [
    "fig = px.line(price_bycity\n",
    "                   ,x='Year', y = \"Value\", \n",
    "                   color = \"GEO\", color_discrete_sequence=px.colors.qualitative.Light24)\n",
    "fig.update_traces(mode='markers+lines')\n",
    "fig.update_layout(\n",
    "    title=\"Gasoline Price Trend per City\",\n",
    "    xaxis_title=\"Year\",\n",
    "    yaxis_title=\"Annual Average Price, Cents per Litre\")\n",
    "fig.show()"
   ]
  },
  {
   "cell_type": "markdown",
   "metadata": {},
   "source": [
    "Here, we will plot the average monthly prices of gasoline in Toronto for the year of 2021.\n"
   ]
  },
  {
   "cell_type": "code",
   "execution_count": 62,
   "metadata": {},
   "outputs": [],
   "source": [
    "# specific to Toronto in one year\n",
    "# average gas prices, monthly\n",
    "\n",
    "# ESSENTIALLY we first make the mon_trend script to handle any specifics on what to look at\n",
    "# THEN we pass into our group_month and make a groupby for math portions, such as min, max, median, etc.\n",
    "mon_trend = data[(data['Year'] ==  2021) & (data['GEO'] == \"Toronto, Ontario\")]\n",
    "group_month = mon_trend.groupby(['Month'])['VALUE'].mean().reset_index().sort_values(by=\"VALUE\")"
   ]
  },
  {
   "cell_type": "code",
   "execution_count": 63,
   "metadata": {},
   "outputs": [
    {
     "data": {
      "application/vnd.plotly.v1+json": {
       "config": {
        "plotlyServerURL": "https://plot.ly"
       },
       "data": [
        {
         "hovertemplate": "Month=%{x}<br>VALUE=%{y}<extra></extra>",
         "legendgroup": "",
         "line": {
          "color": "#636efa",
          "dash": "solid"
         },
         "marker": {
          "symbol": "circle"
         },
         "mode": "markers+lines",
         "name": "",
         "orientation": "v",
         "showlegend": false,
         "type": "scatter",
         "x": [
          "Jan",
          "Feb",
          "Mar",
          "Apr",
          "May",
          "Jun",
          "Jul",
          "Aug",
          "Sep",
          "Oct"
         ],
         "xaxis": "x",
         "y": [
          120.75,
          125.875,
          131.07500000000002,
          133.375,
          136.875,
          138.975,
          141.425,
          142.225,
          143.925,
          151.325
         ],
         "yaxis": "y"
        }
       ],
       "layout": {
        "legend": {
         "tracegroupgap": 0
        },
        "margin": {
         "t": 60
        },
        "template": {
         "data": {
          "bar": [
           {
            "error_x": {
             "color": "#2a3f5f"
            },
            "error_y": {
             "color": "#2a3f5f"
            },
            "marker": {
             "line": {
              "color": "#E5ECF6",
              "width": 0.5
             },
             "pattern": {
              "fillmode": "overlay",
              "size": 10,
              "solidity": 0.2
             }
            },
            "type": "bar"
           }
          ],
          "barpolar": [
           {
            "marker": {
             "line": {
              "color": "#E5ECF6",
              "width": 0.5
             },
             "pattern": {
              "fillmode": "overlay",
              "size": 10,
              "solidity": 0.2
             }
            },
            "type": "barpolar"
           }
          ],
          "carpet": [
           {
            "aaxis": {
             "endlinecolor": "#2a3f5f",
             "gridcolor": "white",
             "linecolor": "white",
             "minorgridcolor": "white",
             "startlinecolor": "#2a3f5f"
            },
            "baxis": {
             "endlinecolor": "#2a3f5f",
             "gridcolor": "white",
             "linecolor": "white",
             "minorgridcolor": "white",
             "startlinecolor": "#2a3f5f"
            },
            "type": "carpet"
           }
          ],
          "choropleth": [
           {
            "colorbar": {
             "outlinewidth": 0,
             "ticks": ""
            },
            "type": "choropleth"
           }
          ],
          "contour": [
           {
            "colorbar": {
             "outlinewidth": 0,
             "ticks": ""
            },
            "colorscale": [
             [
              0,
              "#0d0887"
             ],
             [
              0.1111111111111111,
              "#46039f"
             ],
             [
              0.2222222222222222,
              "#7201a8"
             ],
             [
              0.3333333333333333,
              "#9c179e"
             ],
             [
              0.4444444444444444,
              "#bd3786"
             ],
             [
              0.5555555555555556,
              "#d8576b"
             ],
             [
              0.6666666666666666,
              "#ed7953"
             ],
             [
              0.7777777777777778,
              "#fb9f3a"
             ],
             [
              0.8888888888888888,
              "#fdca26"
             ],
             [
              1,
              "#f0f921"
             ]
            ],
            "type": "contour"
           }
          ],
          "contourcarpet": [
           {
            "colorbar": {
             "outlinewidth": 0,
             "ticks": ""
            },
            "type": "contourcarpet"
           }
          ],
          "heatmap": [
           {
            "colorbar": {
             "outlinewidth": 0,
             "ticks": ""
            },
            "colorscale": [
             [
              0,
              "#0d0887"
             ],
             [
              0.1111111111111111,
              "#46039f"
             ],
             [
              0.2222222222222222,
              "#7201a8"
             ],
             [
              0.3333333333333333,
              "#9c179e"
             ],
             [
              0.4444444444444444,
              "#bd3786"
             ],
             [
              0.5555555555555556,
              "#d8576b"
             ],
             [
              0.6666666666666666,
              "#ed7953"
             ],
             [
              0.7777777777777778,
              "#fb9f3a"
             ],
             [
              0.8888888888888888,
              "#fdca26"
             ],
             [
              1,
              "#f0f921"
             ]
            ],
            "type": "heatmap"
           }
          ],
          "heatmapgl": [
           {
            "colorbar": {
             "outlinewidth": 0,
             "ticks": ""
            },
            "colorscale": [
             [
              0,
              "#0d0887"
             ],
             [
              0.1111111111111111,
              "#46039f"
             ],
             [
              0.2222222222222222,
              "#7201a8"
             ],
             [
              0.3333333333333333,
              "#9c179e"
             ],
             [
              0.4444444444444444,
              "#bd3786"
             ],
             [
              0.5555555555555556,
              "#d8576b"
             ],
             [
              0.6666666666666666,
              "#ed7953"
             ],
             [
              0.7777777777777778,
              "#fb9f3a"
             ],
             [
              0.8888888888888888,
              "#fdca26"
             ],
             [
              1,
              "#f0f921"
             ]
            ],
            "type": "heatmapgl"
           }
          ],
          "histogram": [
           {
            "marker": {
             "pattern": {
              "fillmode": "overlay",
              "size": 10,
              "solidity": 0.2
             }
            },
            "type": "histogram"
           }
          ],
          "histogram2d": [
           {
            "colorbar": {
             "outlinewidth": 0,
             "ticks": ""
            },
            "colorscale": [
             [
              0,
              "#0d0887"
             ],
             [
              0.1111111111111111,
              "#46039f"
             ],
             [
              0.2222222222222222,
              "#7201a8"
             ],
             [
              0.3333333333333333,
              "#9c179e"
             ],
             [
              0.4444444444444444,
              "#bd3786"
             ],
             [
              0.5555555555555556,
              "#d8576b"
             ],
             [
              0.6666666666666666,
              "#ed7953"
             ],
             [
              0.7777777777777778,
              "#fb9f3a"
             ],
             [
              0.8888888888888888,
              "#fdca26"
             ],
             [
              1,
              "#f0f921"
             ]
            ],
            "type": "histogram2d"
           }
          ],
          "histogram2dcontour": [
           {
            "colorbar": {
             "outlinewidth": 0,
             "ticks": ""
            },
            "colorscale": [
             [
              0,
              "#0d0887"
             ],
             [
              0.1111111111111111,
              "#46039f"
             ],
             [
              0.2222222222222222,
              "#7201a8"
             ],
             [
              0.3333333333333333,
              "#9c179e"
             ],
             [
              0.4444444444444444,
              "#bd3786"
             ],
             [
              0.5555555555555556,
              "#d8576b"
             ],
             [
              0.6666666666666666,
              "#ed7953"
             ],
             [
              0.7777777777777778,
              "#fb9f3a"
             ],
             [
              0.8888888888888888,
              "#fdca26"
             ],
             [
              1,
              "#f0f921"
             ]
            ],
            "type": "histogram2dcontour"
           }
          ],
          "mesh3d": [
           {
            "colorbar": {
             "outlinewidth": 0,
             "ticks": ""
            },
            "type": "mesh3d"
           }
          ],
          "parcoords": [
           {
            "line": {
             "colorbar": {
              "outlinewidth": 0,
              "ticks": ""
             }
            },
            "type": "parcoords"
           }
          ],
          "pie": [
           {
            "automargin": true,
            "type": "pie"
           }
          ],
          "scatter": [
           {
            "fillpattern": {
             "fillmode": "overlay",
             "size": 10,
             "solidity": 0.2
            },
            "type": "scatter"
           }
          ],
          "scatter3d": [
           {
            "line": {
             "colorbar": {
              "outlinewidth": 0,
              "ticks": ""
             }
            },
            "marker": {
             "colorbar": {
              "outlinewidth": 0,
              "ticks": ""
             }
            },
            "type": "scatter3d"
           }
          ],
          "scattercarpet": [
           {
            "marker": {
             "colorbar": {
              "outlinewidth": 0,
              "ticks": ""
             }
            },
            "type": "scattercarpet"
           }
          ],
          "scattergeo": [
           {
            "marker": {
             "colorbar": {
              "outlinewidth": 0,
              "ticks": ""
             }
            },
            "type": "scattergeo"
           }
          ],
          "scattergl": [
           {
            "marker": {
             "colorbar": {
              "outlinewidth": 0,
              "ticks": ""
             }
            },
            "type": "scattergl"
           }
          ],
          "scattermapbox": [
           {
            "marker": {
             "colorbar": {
              "outlinewidth": 0,
              "ticks": ""
             }
            },
            "type": "scattermapbox"
           }
          ],
          "scatterpolar": [
           {
            "marker": {
             "colorbar": {
              "outlinewidth": 0,
              "ticks": ""
             }
            },
            "type": "scatterpolar"
           }
          ],
          "scatterpolargl": [
           {
            "marker": {
             "colorbar": {
              "outlinewidth": 0,
              "ticks": ""
             }
            },
            "type": "scatterpolargl"
           }
          ],
          "scatterternary": [
           {
            "marker": {
             "colorbar": {
              "outlinewidth": 0,
              "ticks": ""
             }
            },
            "type": "scatterternary"
           }
          ],
          "surface": [
           {
            "colorbar": {
             "outlinewidth": 0,
             "ticks": ""
            },
            "colorscale": [
             [
              0,
              "#0d0887"
             ],
             [
              0.1111111111111111,
              "#46039f"
             ],
             [
              0.2222222222222222,
              "#7201a8"
             ],
             [
              0.3333333333333333,
              "#9c179e"
             ],
             [
              0.4444444444444444,
              "#bd3786"
             ],
             [
              0.5555555555555556,
              "#d8576b"
             ],
             [
              0.6666666666666666,
              "#ed7953"
             ],
             [
              0.7777777777777778,
              "#fb9f3a"
             ],
             [
              0.8888888888888888,
              "#fdca26"
             ],
             [
              1,
              "#f0f921"
             ]
            ],
            "type": "surface"
           }
          ],
          "table": [
           {
            "cells": {
             "fill": {
              "color": "#EBF0F8"
             },
             "line": {
              "color": "white"
             }
            },
            "header": {
             "fill": {
              "color": "#C8D4E3"
             },
             "line": {
              "color": "white"
             }
            },
            "type": "table"
           }
          ]
         },
         "layout": {
          "annotationdefaults": {
           "arrowcolor": "#2a3f5f",
           "arrowhead": 0,
           "arrowwidth": 1
          },
          "autotypenumbers": "strict",
          "coloraxis": {
           "colorbar": {
            "outlinewidth": 0,
            "ticks": ""
           }
          },
          "colorscale": {
           "diverging": [
            [
             0,
             "#8e0152"
            ],
            [
             0.1,
             "#c51b7d"
            ],
            [
             0.2,
             "#de77ae"
            ],
            [
             0.3,
             "#f1b6da"
            ],
            [
             0.4,
             "#fde0ef"
            ],
            [
             0.5,
             "#f7f7f7"
            ],
            [
             0.6,
             "#e6f5d0"
            ],
            [
             0.7,
             "#b8e186"
            ],
            [
             0.8,
             "#7fbc41"
            ],
            [
             0.9,
             "#4d9221"
            ],
            [
             1,
             "#276419"
            ]
           ],
           "sequential": [
            [
             0,
             "#0d0887"
            ],
            [
             0.1111111111111111,
             "#46039f"
            ],
            [
             0.2222222222222222,
             "#7201a8"
            ],
            [
             0.3333333333333333,
             "#9c179e"
            ],
            [
             0.4444444444444444,
             "#bd3786"
            ],
            [
             0.5555555555555556,
             "#d8576b"
            ],
            [
             0.6666666666666666,
             "#ed7953"
            ],
            [
             0.7777777777777778,
             "#fb9f3a"
            ],
            [
             0.8888888888888888,
             "#fdca26"
            ],
            [
             1,
             "#f0f921"
            ]
           ],
           "sequentialminus": [
            [
             0,
             "#0d0887"
            ],
            [
             0.1111111111111111,
             "#46039f"
            ],
            [
             0.2222222222222222,
             "#7201a8"
            ],
            [
             0.3333333333333333,
             "#9c179e"
            ],
            [
             0.4444444444444444,
             "#bd3786"
            ],
            [
             0.5555555555555556,
             "#d8576b"
            ],
            [
             0.6666666666666666,
             "#ed7953"
            ],
            [
             0.7777777777777778,
             "#fb9f3a"
            ],
            [
             0.8888888888888888,
             "#fdca26"
            ],
            [
             1,
             "#f0f921"
            ]
           ]
          },
          "colorway": [
           "#636efa",
           "#EF553B",
           "#00cc96",
           "#ab63fa",
           "#FFA15A",
           "#19d3f3",
           "#FF6692",
           "#B6E880",
           "#FF97FF",
           "#FECB52"
          ],
          "font": {
           "color": "#2a3f5f"
          },
          "geo": {
           "bgcolor": "white",
           "lakecolor": "white",
           "landcolor": "#E5ECF6",
           "showlakes": true,
           "showland": true,
           "subunitcolor": "white"
          },
          "hoverlabel": {
           "align": "left"
          },
          "hovermode": "closest",
          "mapbox": {
           "style": "light"
          },
          "paper_bgcolor": "white",
          "plot_bgcolor": "#E5ECF6",
          "polar": {
           "angularaxis": {
            "gridcolor": "white",
            "linecolor": "white",
            "ticks": ""
           },
           "bgcolor": "#E5ECF6",
           "radialaxis": {
            "gridcolor": "white",
            "linecolor": "white",
            "ticks": ""
           }
          },
          "scene": {
           "xaxis": {
            "backgroundcolor": "#E5ECF6",
            "gridcolor": "white",
            "gridwidth": 2,
            "linecolor": "white",
            "showbackground": true,
            "ticks": "",
            "zerolinecolor": "white"
           },
           "yaxis": {
            "backgroundcolor": "#E5ECF6",
            "gridcolor": "white",
            "gridwidth": 2,
            "linecolor": "white",
            "showbackground": true,
            "ticks": "",
            "zerolinecolor": "white"
           },
           "zaxis": {
            "backgroundcolor": "#E5ECF6",
            "gridcolor": "white",
            "gridwidth": 2,
            "linecolor": "white",
            "showbackground": true,
            "ticks": "",
            "zerolinecolor": "white"
           }
          },
          "shapedefaults": {
           "line": {
            "color": "#2a3f5f"
           }
          },
          "ternary": {
           "aaxis": {
            "gridcolor": "white",
            "linecolor": "white",
            "ticks": ""
           },
           "baxis": {
            "gridcolor": "white",
            "linecolor": "white",
            "ticks": ""
           },
           "bgcolor": "#E5ECF6",
           "caxis": {
            "gridcolor": "white",
            "linecolor": "white",
            "ticks": ""
           }
          },
          "title": {
           "x": 0.05
          },
          "xaxis": {
           "automargin": true,
           "gridcolor": "white",
           "linecolor": "white",
           "ticks": "",
           "title": {
            "standoff": 15
           },
           "zerolinecolor": "white",
           "zerolinewidth": 2
          },
          "yaxis": {
           "automargin": true,
           "gridcolor": "white",
           "linecolor": "white",
           "ticks": "",
           "title": {
            "standoff": 15
           },
           "zerolinecolor": "white",
           "zerolinewidth": 2
          }
         }
        },
        "title": {
         "text": "Toronto Average Monthly Gasoline Price in 2021"
        },
        "xaxis": {
         "anchor": "y",
         "domain": [
          0,
          1
         ],
         "title": {
          "text": "Month"
         }
        },
        "yaxis": {
         "anchor": "x",
         "domain": [
          0,
          1
         ],
         "title": {
          "text": "Monthly Price, Cents per Litre"
         }
        }
       }
      },
      "text/html": [
       "<div>                            <div id=\"99e453e4-80e8-4c2a-8a03-16bdb089aa66\" class=\"plotly-graph-div\" style=\"height:525px; width:100%;\"></div>            <script type=\"text/javascript\">                require([\"plotly\"], function(Plotly) {                    window.PLOTLYENV=window.PLOTLYENV || {};                                    if (document.getElementById(\"99e453e4-80e8-4c2a-8a03-16bdb089aa66\")) {                    Plotly.newPlot(                        \"99e453e4-80e8-4c2a-8a03-16bdb089aa66\",                        [{\"hovertemplate\":\"Month=%{x}<br>VALUE=%{y}<extra></extra>\",\"legendgroup\":\"\",\"line\":{\"color\":\"#636efa\",\"dash\":\"solid\"},\"marker\":{\"symbol\":\"circle\"},\"mode\":\"markers+lines\",\"name\":\"\",\"orientation\":\"v\",\"showlegend\":false,\"x\":[\"Jan\",\"Feb\",\"Mar\",\"Apr\",\"May\",\"Jun\",\"Jul\",\"Aug\",\"Sep\",\"Oct\"],\"xaxis\":\"x\",\"y\":[120.75,125.875,131.07500000000002,133.375,136.875,138.975,141.425,142.225,143.925,151.325],\"yaxis\":\"y\",\"type\":\"scatter\"}],                        {\"template\":{\"data\":{\"histogram2dcontour\":[{\"type\":\"histogram2dcontour\",\"colorbar\":{\"outlinewidth\":0,\"ticks\":\"\"},\"colorscale\":[[0.0,\"#0d0887\"],[0.1111111111111111,\"#46039f\"],[0.2222222222222222,\"#7201a8\"],[0.3333333333333333,\"#9c179e\"],[0.4444444444444444,\"#bd3786\"],[0.5555555555555556,\"#d8576b\"],[0.6666666666666666,\"#ed7953\"],[0.7777777777777778,\"#fb9f3a\"],[0.8888888888888888,\"#fdca26\"],[1.0,\"#f0f921\"]]}],\"choropleth\":[{\"type\":\"choropleth\",\"colorbar\":{\"outlinewidth\":0,\"ticks\":\"\"}}],\"histogram2d\":[{\"type\":\"histogram2d\",\"colorbar\":{\"outlinewidth\":0,\"ticks\":\"\"},\"colorscale\":[[0.0,\"#0d0887\"],[0.1111111111111111,\"#46039f\"],[0.2222222222222222,\"#7201a8\"],[0.3333333333333333,\"#9c179e\"],[0.4444444444444444,\"#bd3786\"],[0.5555555555555556,\"#d8576b\"],[0.6666666666666666,\"#ed7953\"],[0.7777777777777778,\"#fb9f3a\"],[0.8888888888888888,\"#fdca26\"],[1.0,\"#f0f921\"]]}],\"heatmap\":[{\"type\":\"heatmap\",\"colorbar\":{\"outlinewidth\":0,\"ticks\":\"\"},\"colorscale\":[[0.0,\"#0d0887\"],[0.1111111111111111,\"#46039f\"],[0.2222222222222222,\"#7201a8\"],[0.3333333333333333,\"#9c179e\"],[0.4444444444444444,\"#bd3786\"],[0.5555555555555556,\"#d8576b\"],[0.6666666666666666,\"#ed7953\"],[0.7777777777777778,\"#fb9f3a\"],[0.8888888888888888,\"#fdca26\"],[1.0,\"#f0f921\"]]}],\"heatmapgl\":[{\"type\":\"heatmapgl\",\"colorbar\":{\"outlinewidth\":0,\"ticks\":\"\"},\"colorscale\":[[0.0,\"#0d0887\"],[0.1111111111111111,\"#46039f\"],[0.2222222222222222,\"#7201a8\"],[0.3333333333333333,\"#9c179e\"],[0.4444444444444444,\"#bd3786\"],[0.5555555555555556,\"#d8576b\"],[0.6666666666666666,\"#ed7953\"],[0.7777777777777778,\"#fb9f3a\"],[0.8888888888888888,\"#fdca26\"],[1.0,\"#f0f921\"]]}],\"contourcarpet\":[{\"type\":\"contourcarpet\",\"colorbar\":{\"outlinewidth\":0,\"ticks\":\"\"}}],\"contour\":[{\"type\":\"contour\",\"colorbar\":{\"outlinewidth\":0,\"ticks\":\"\"},\"colorscale\":[[0.0,\"#0d0887\"],[0.1111111111111111,\"#46039f\"],[0.2222222222222222,\"#7201a8\"],[0.3333333333333333,\"#9c179e\"],[0.4444444444444444,\"#bd3786\"],[0.5555555555555556,\"#d8576b\"],[0.6666666666666666,\"#ed7953\"],[0.7777777777777778,\"#fb9f3a\"],[0.8888888888888888,\"#fdca26\"],[1.0,\"#f0f921\"]]}],\"surface\":[{\"type\":\"surface\",\"colorbar\":{\"outlinewidth\":0,\"ticks\":\"\"},\"colorscale\":[[0.0,\"#0d0887\"],[0.1111111111111111,\"#46039f\"],[0.2222222222222222,\"#7201a8\"],[0.3333333333333333,\"#9c179e\"],[0.4444444444444444,\"#bd3786\"],[0.5555555555555556,\"#d8576b\"],[0.6666666666666666,\"#ed7953\"],[0.7777777777777778,\"#fb9f3a\"],[0.8888888888888888,\"#fdca26\"],[1.0,\"#f0f921\"]]}],\"mesh3d\":[{\"type\":\"mesh3d\",\"colorbar\":{\"outlinewidth\":0,\"ticks\":\"\"}}],\"scatter\":[{\"fillpattern\":{\"fillmode\":\"overlay\",\"size\":10,\"solidity\":0.2},\"type\":\"scatter\"}],\"parcoords\":[{\"type\":\"parcoords\",\"line\":{\"colorbar\":{\"outlinewidth\":0,\"ticks\":\"\"}}}],\"scatterpolargl\":[{\"type\":\"scatterpolargl\",\"marker\":{\"colorbar\":{\"outlinewidth\":0,\"ticks\":\"\"}}}],\"bar\":[{\"error_x\":{\"color\":\"#2a3f5f\"},\"error_y\":{\"color\":\"#2a3f5f\"},\"marker\":{\"line\":{\"color\":\"#E5ECF6\",\"width\":0.5},\"pattern\":{\"fillmode\":\"overlay\",\"size\":10,\"solidity\":0.2}},\"type\":\"bar\"}],\"scattergeo\":[{\"type\":\"scattergeo\",\"marker\":{\"colorbar\":{\"outlinewidth\":0,\"ticks\":\"\"}}}],\"scatterpolar\":[{\"type\":\"scatterpolar\",\"marker\":{\"colorbar\":{\"outlinewidth\":0,\"ticks\":\"\"}}}],\"histogram\":[{\"marker\":{\"pattern\":{\"fillmode\":\"overlay\",\"size\":10,\"solidity\":0.2}},\"type\":\"histogram\"}],\"scattergl\":[{\"type\":\"scattergl\",\"marker\":{\"colorbar\":{\"outlinewidth\":0,\"ticks\":\"\"}}}],\"scatter3d\":[{\"type\":\"scatter3d\",\"line\":{\"colorbar\":{\"outlinewidth\":0,\"ticks\":\"\"}},\"marker\":{\"colorbar\":{\"outlinewidth\":0,\"ticks\":\"\"}}}],\"scattermapbox\":[{\"type\":\"scattermapbox\",\"marker\":{\"colorbar\":{\"outlinewidth\":0,\"ticks\":\"\"}}}],\"scatterternary\":[{\"type\":\"scatterternary\",\"marker\":{\"colorbar\":{\"outlinewidth\":0,\"ticks\":\"\"}}}],\"scattercarpet\":[{\"type\":\"scattercarpet\",\"marker\":{\"colorbar\":{\"outlinewidth\":0,\"ticks\":\"\"}}}],\"carpet\":[{\"aaxis\":{\"endlinecolor\":\"#2a3f5f\",\"gridcolor\":\"white\",\"linecolor\":\"white\",\"minorgridcolor\":\"white\",\"startlinecolor\":\"#2a3f5f\"},\"baxis\":{\"endlinecolor\":\"#2a3f5f\",\"gridcolor\":\"white\",\"linecolor\":\"white\",\"minorgridcolor\":\"white\",\"startlinecolor\":\"#2a3f5f\"},\"type\":\"carpet\"}],\"table\":[{\"cells\":{\"fill\":{\"color\":\"#EBF0F8\"},\"line\":{\"color\":\"white\"}},\"header\":{\"fill\":{\"color\":\"#C8D4E3\"},\"line\":{\"color\":\"white\"}},\"type\":\"table\"}],\"barpolar\":[{\"marker\":{\"line\":{\"color\":\"#E5ECF6\",\"width\":0.5},\"pattern\":{\"fillmode\":\"overlay\",\"size\":10,\"solidity\":0.2}},\"type\":\"barpolar\"}],\"pie\":[{\"automargin\":true,\"type\":\"pie\"}]},\"layout\":{\"autotypenumbers\":\"strict\",\"colorway\":[\"#636efa\",\"#EF553B\",\"#00cc96\",\"#ab63fa\",\"#FFA15A\",\"#19d3f3\",\"#FF6692\",\"#B6E880\",\"#FF97FF\",\"#FECB52\"],\"font\":{\"color\":\"#2a3f5f\"},\"hovermode\":\"closest\",\"hoverlabel\":{\"align\":\"left\"},\"paper_bgcolor\":\"white\",\"plot_bgcolor\":\"#E5ECF6\",\"polar\":{\"bgcolor\":\"#E5ECF6\",\"angularaxis\":{\"gridcolor\":\"white\",\"linecolor\":\"white\",\"ticks\":\"\"},\"radialaxis\":{\"gridcolor\":\"white\",\"linecolor\":\"white\",\"ticks\":\"\"}},\"ternary\":{\"bgcolor\":\"#E5ECF6\",\"aaxis\":{\"gridcolor\":\"white\",\"linecolor\":\"white\",\"ticks\":\"\"},\"baxis\":{\"gridcolor\":\"white\",\"linecolor\":\"white\",\"ticks\":\"\"},\"caxis\":{\"gridcolor\":\"white\",\"linecolor\":\"white\",\"ticks\":\"\"}},\"coloraxis\":{\"colorbar\":{\"outlinewidth\":0,\"ticks\":\"\"}},\"colorscale\":{\"sequential\":[[0.0,\"#0d0887\"],[0.1111111111111111,\"#46039f\"],[0.2222222222222222,\"#7201a8\"],[0.3333333333333333,\"#9c179e\"],[0.4444444444444444,\"#bd3786\"],[0.5555555555555556,\"#d8576b\"],[0.6666666666666666,\"#ed7953\"],[0.7777777777777778,\"#fb9f3a\"],[0.8888888888888888,\"#fdca26\"],[1.0,\"#f0f921\"]],\"sequentialminus\":[[0.0,\"#0d0887\"],[0.1111111111111111,\"#46039f\"],[0.2222222222222222,\"#7201a8\"],[0.3333333333333333,\"#9c179e\"],[0.4444444444444444,\"#bd3786\"],[0.5555555555555556,\"#d8576b\"],[0.6666666666666666,\"#ed7953\"],[0.7777777777777778,\"#fb9f3a\"],[0.8888888888888888,\"#fdca26\"],[1.0,\"#f0f921\"]],\"diverging\":[[0,\"#8e0152\"],[0.1,\"#c51b7d\"],[0.2,\"#de77ae\"],[0.3,\"#f1b6da\"],[0.4,\"#fde0ef\"],[0.5,\"#f7f7f7\"],[0.6,\"#e6f5d0\"],[0.7,\"#b8e186\"],[0.8,\"#7fbc41\"],[0.9,\"#4d9221\"],[1,\"#276419\"]]},\"xaxis\":{\"gridcolor\":\"white\",\"linecolor\":\"white\",\"ticks\":\"\",\"title\":{\"standoff\":15},\"zerolinecolor\":\"white\",\"automargin\":true,\"zerolinewidth\":2},\"yaxis\":{\"gridcolor\":\"white\",\"linecolor\":\"white\",\"ticks\":\"\",\"title\":{\"standoff\":15},\"zerolinecolor\":\"white\",\"automargin\":true,\"zerolinewidth\":2},\"scene\":{\"xaxis\":{\"backgroundcolor\":\"#E5ECF6\",\"gridcolor\":\"white\",\"linecolor\":\"white\",\"showbackground\":true,\"ticks\":\"\",\"zerolinecolor\":\"white\",\"gridwidth\":2},\"yaxis\":{\"backgroundcolor\":\"#E5ECF6\",\"gridcolor\":\"white\",\"linecolor\":\"white\",\"showbackground\":true,\"ticks\":\"\",\"zerolinecolor\":\"white\",\"gridwidth\":2},\"zaxis\":{\"backgroundcolor\":\"#E5ECF6\",\"gridcolor\":\"white\",\"linecolor\":\"white\",\"showbackground\":true,\"ticks\":\"\",\"zerolinecolor\":\"white\",\"gridwidth\":2}},\"shapedefaults\":{\"line\":{\"color\":\"#2a3f5f\"}},\"annotationdefaults\":{\"arrowcolor\":\"#2a3f5f\",\"arrowhead\":0,\"arrowwidth\":1},\"geo\":{\"bgcolor\":\"white\",\"landcolor\":\"#E5ECF6\",\"subunitcolor\":\"white\",\"showland\":true,\"showlakes\":true,\"lakecolor\":\"white\"},\"title\":{\"x\":0.05},\"mapbox\":{\"style\":\"light\"}}},\"xaxis\":{\"anchor\":\"y\",\"domain\":[0.0,1.0],\"title\":{\"text\":\"Month\"}},\"yaxis\":{\"anchor\":\"x\",\"domain\":[0.0,1.0],\"title\":{\"text\":\"Monthly Price, Cents per Litre\"}},\"legend\":{\"tracegroupgap\":0},\"margin\":{\"t\":60},\"title\":{\"text\":\"Toronto Average Monthly Gasoline Price in 2021\"}},                        {\"responsive\": true}                    ).then(function(){\n",
       "                            \n",
       "var gd = document.getElementById('99e453e4-80e8-4c2a-8a03-16bdb089aa66');\n",
       "var x = new MutationObserver(function (mutations, observer) {{\n",
       "        var display = window.getComputedStyle(gd).display;\n",
       "        if (!display || display === 'none') {{\n",
       "            console.log([gd, 'removed!']);\n",
       "            Plotly.purge(gd);\n",
       "            observer.disconnect();\n",
       "        }}\n",
       "}});\n",
       "\n",
       "// Listen for the removal of the full notebook cells\n",
       "var notebookContainer = gd.closest('#notebook-container');\n",
       "if (notebookContainer) {{\n",
       "    x.observe(notebookContainer, {childList: true});\n",
       "}}\n",
       "\n",
       "// Listen for the clearing of the current output cell\n",
       "var outputEl = gd.closest('.output');\n",
       "if (outputEl) {{\n",
       "    x.observe(outputEl, {childList: true});\n",
       "}}\n",
       "\n",
       "                        })                };                });            </script>        </div>"
      ]
     },
     "metadata": {},
     "output_type": "display_data"
    }
   ],
   "source": [
    "fig = px.line(group_month,\n",
    "                   x='Month', y = \"VALUE\")\n",
    "fig.update_traces(mode='markers+lines')\n",
    "fig.update_layou\n",
    "    title=\"Toronto Average Monthly Gasoline Price in 2021\",\n",
    "    xaxis_title=\"Month\",\n",
    "    yaxis_title=\"Monthly Price, Cents per Litre\")\n",
    "fig.show()"
   ]
  },
  {
   "cell_type": "markdown",
   "metadata": {},
   "source": [
    "## Exercise 4\n"
   ]
  },
  {
   "cell_type": "markdown",
   "metadata": {},
   "source": [
    "In the cell below, use *plotly.express* or other libraries, to plot the annual average gasoline price, per year, per gasoline type.\n"
   ]
  },
  {
   "cell_type": "code",
   "execution_count": 83,
   "metadata": {},
   "outputs": [],
   "source": [
    "# yearly gas prices, by type\n",
    "# once we pass the year and type in groupby\n",
    "# we take the values mean or average and reset\n",
    "\n",
    "### NEW TASK: Toronto + Montreal 1999-2005 data\n",
    "\n",
    "# mon_trend2 = data[(data['Year'] ==  1999) & (data['GEO'] == \"Toronto, Ontario\")]\n",
    "# this script above worked, but on a graph it is very plain to show one year of data... \n",
    "\n",
    "# using .between argument to pass a range of years\n",
    "# also including .isin for cities\n",
    "\n",
    "mon_trend2 = data[data['Year'].between(1999, 2005) & data['GEO'].isin([\"Toronto, Ontario\", \"Montreal, Quebec\"])]\n"
   ]
  },
  {
   "cell_type": "code",
   "execution_count": 84,
   "metadata": {},
   "outputs": [],
   "source": [
    "# IF ONLY WANTED ONE CITY\n",
    "# mon_trend2 = data[data['Year'].between(1999, 2005) & (data['GEO'] == \"Toronto, Ontario\")]"
   ]
  },
  {
   "cell_type": "code",
   "execution_count": 85,
   "metadata": {},
   "outputs": [],
   "source": [
    "# pulling it together, passing mon_trend2 to type_gas to then plot\n",
    "type_gas = mon_trend2.groupby(['Year', 'TYPE'])['VALUE'].mean().reset_index(name='Type').round(2)"
   ]
  },
  {
   "cell_type": "code",
   "execution_count": 86,
   "metadata": {},
   "outputs": [
    {
     "data": {
      "application/vnd.plotly.v1+json": {
       "config": {
        "plotlyServerURL": "https://plot.ly"
       },
       "data": [
        {
         "hovertemplate": "TYPE=Diesel fuel at full service filling stations<br>Year=%{x}<br>Type=%{y}<extra></extra>",
         "legendgroup": "Diesel fuel at full service filling stations",
         "line": {
          "color": "#FD3216",
          "dash": "solid"
         },
         "marker": {
          "symbol": "circle"
         },
         "mode": "markers+lines",
         "name": "Diesel fuel at full service filling stations",
         "orientation": "v",
         "showlegend": true,
         "type": "scatter",
         "x": [
          1999,
          2000,
          2001,
          2002,
          2003,
          2004,
          2005
         ],
         "xaxis": "x",
         "y": [
          50.94,
          67.32,
          66.67,
          62.1,
          68.79,
          74.39,
          89.72
         ],
         "yaxis": "y"
        },
        {
         "hovertemplate": "TYPE=Diesel fuel at self service filling stations<br>Year=%{x}<br>Type=%{y}<extra></extra>",
         "legendgroup": "Diesel fuel at self service filling stations",
         "line": {
          "color": "#00FE35",
          "dash": "solid"
         },
         "marker": {
          "symbol": "circle"
         },
         "mode": "markers+lines",
         "name": "Diesel fuel at self service filling stations",
         "orientation": "v",
         "showlegend": true,
         "type": "scatter",
         "x": [
          1999,
          2000,
          2001,
          2002,
          2003,
          2004,
          2005
         ],
         "xaxis": "x",
         "y": [
          51.54,
          67.68,
          68.51,
          61.16,
          67.56,
          74.16,
          89.45
         ],
         "yaxis": "y"
        },
        {
         "hovertemplate": "TYPE=Household heating fuel<br>Year=%{x}<br>Type=%{y}<extra></extra>",
         "legendgroup": "Household heating fuel",
         "line": {
          "color": "#6A76FC",
          "dash": "solid"
         },
         "marker": {
          "symbol": "circle"
         },
         "mode": "markers+lines",
         "name": "Household heating fuel",
         "orientation": "v",
         "showlegend": true,
         "type": "scatter",
         "x": [
          1999,
          2000,
          2001,
          2002,
          2003,
          2004,
          2005
         ],
         "xaxis": "x",
         "y": [
          39.13,
          54.31,
          55.87,
          50.81,
          57.92,
          63.99,
          77.99
         ],
         "yaxis": "y"
        },
        {
         "hovertemplate": "TYPE=Premium unleaded gasoline at full service filling stations<br>Year=%{x}<br>Type=%{y}<extra></extra>",
         "legendgroup": "Premium unleaded gasoline at full service filling stations",
         "line": {
          "color": "#FED4C4",
          "dash": "solid"
         },
         "marker": {
          "symbol": "circle"
         },
         "mode": "markers+lines",
         "name": "Premium unleaded gasoline at full service filling stations",
         "orientation": "v",
         "showlegend": true,
         "type": "scatter",
         "x": [
          1999,
          2000,
          2001,
          2002,
          2003,
          2004,
          2005
         ],
         "xaxis": "x",
         "y": [
          70.42,
          83.21,
          79.47,
          78.59,
          83.25,
          89.81,
          101.34
         ],
         "yaxis": "y"
        },
        {
         "hovertemplate": "TYPE=Premium unleaded gasoline at self service filling stations<br>Year=%{x}<br>Type=%{y}<extra></extra>",
         "legendgroup": "Premium unleaded gasoline at self service filling stations",
         "line": {
          "color": "#FE00CE",
          "dash": "solid"
         },
         "marker": {
          "symbol": "circle"
         },
         "mode": "markers+lines",
         "name": "Premium unleaded gasoline at self service filling stations",
         "orientation": "v",
         "showlegend": true,
         "type": "scatter",
         "x": [
          1999,
          2000,
          2001,
          2002,
          2003,
          2004,
          2005
         ],
         "xaxis": "x",
         "y": [
          67.39,
          80.93,
          77.46,
          77.2,
          80.93,
          86.91,
          99.78
         ],
         "yaxis": "y"
        },
        {
         "hovertemplate": "TYPE=Regular unleaded gasoline at full service filling stations<br>Year=%{x}<br>Type=%{y}<extra></extra>",
         "legendgroup": "Regular unleaded gasoline at full service filling stations",
         "line": {
          "color": "#0DF9FF",
          "dash": "solid"
         },
         "marker": {
          "symbol": "circle"
         },
         "mode": "markers+lines",
         "name": "Regular unleaded gasoline at full service filling stations",
         "orientation": "v",
         "showlegend": true,
         "type": "scatter",
         "x": [
          1999,
          2000,
          2001,
          2002,
          2003,
          2004,
          2005
         ],
         "xaxis": "x",
         "y": [
          59.52,
          72.42,
          69.28,
          69.3,
          72.73,
          78.89,
          89.6
         ],
         "yaxis": "y"
        },
        {
         "hovertemplate": "TYPE=Regular unleaded gasoline at self service filling stations<br>Year=%{x}<br>Type=%{y}<extra></extra>",
         "legendgroup": "Regular unleaded gasoline at self service filling stations",
         "line": {
          "color": "#F6F926",
          "dash": "solid"
         },
         "marker": {
          "symbol": "circle"
         },
         "mode": "markers+lines",
         "name": "Regular unleaded gasoline at self service filling stations",
         "orientation": "v",
         "showlegend": true,
         "type": "scatter",
         "x": [
          1999,
          2000,
          2001,
          2002,
          2003,
          2004,
          2005
         ],
         "xaxis": "x",
         "y": [
          57.48,
          70.82,
          67.77,
          67.31,
          70.92,
          76.65,
          89.02
         ],
         "yaxis": "y"
        }
       ],
       "layout": {
        "legend": {
         "title": {
          "text": "TYPE"
         },
         "tracegroupgap": 0
        },
        "margin": {
         "t": 60
        },
        "template": {
         "data": {
          "bar": [
           {
            "error_x": {
             "color": "#2a3f5f"
            },
            "error_y": {
             "color": "#2a3f5f"
            },
            "marker": {
             "line": {
              "color": "#E5ECF6",
              "width": 0.5
             },
             "pattern": {
              "fillmode": "overlay",
              "size": 10,
              "solidity": 0.2
             }
            },
            "type": "bar"
           }
          ],
          "barpolar": [
           {
            "marker": {
             "line": {
              "color": "#E5ECF6",
              "width": 0.5
             },
             "pattern": {
              "fillmode": "overlay",
              "size": 10,
              "solidity": 0.2
             }
            },
            "type": "barpolar"
           }
          ],
          "carpet": [
           {
            "aaxis": {
             "endlinecolor": "#2a3f5f",
             "gridcolor": "white",
             "linecolor": "white",
             "minorgridcolor": "white",
             "startlinecolor": "#2a3f5f"
            },
            "baxis": {
             "endlinecolor": "#2a3f5f",
             "gridcolor": "white",
             "linecolor": "white",
             "minorgridcolor": "white",
             "startlinecolor": "#2a3f5f"
            },
            "type": "carpet"
           }
          ],
          "choropleth": [
           {
            "colorbar": {
             "outlinewidth": 0,
             "ticks": ""
            },
            "type": "choropleth"
           }
          ],
          "contour": [
           {
            "colorbar": {
             "outlinewidth": 0,
             "ticks": ""
            },
            "colorscale": [
             [
              0,
              "#0d0887"
             ],
             [
              0.1111111111111111,
              "#46039f"
             ],
             [
              0.2222222222222222,
              "#7201a8"
             ],
             [
              0.3333333333333333,
              "#9c179e"
             ],
             [
              0.4444444444444444,
              "#bd3786"
             ],
             [
              0.5555555555555556,
              "#d8576b"
             ],
             [
              0.6666666666666666,
              "#ed7953"
             ],
             [
              0.7777777777777778,
              "#fb9f3a"
             ],
             [
              0.8888888888888888,
              "#fdca26"
             ],
             [
              1,
              "#f0f921"
             ]
            ],
            "type": "contour"
           }
          ],
          "contourcarpet": [
           {
            "colorbar": {
             "outlinewidth": 0,
             "ticks": ""
            },
            "type": "contourcarpet"
           }
          ],
          "heatmap": [
           {
            "colorbar": {
             "outlinewidth": 0,
             "ticks": ""
            },
            "colorscale": [
             [
              0,
              "#0d0887"
             ],
             [
              0.1111111111111111,
              "#46039f"
             ],
             [
              0.2222222222222222,
              "#7201a8"
             ],
             [
              0.3333333333333333,
              "#9c179e"
             ],
             [
              0.4444444444444444,
              "#bd3786"
             ],
             [
              0.5555555555555556,
              "#d8576b"
             ],
             [
              0.6666666666666666,
              "#ed7953"
             ],
             [
              0.7777777777777778,
              "#fb9f3a"
             ],
             [
              0.8888888888888888,
              "#fdca26"
             ],
             [
              1,
              "#f0f921"
             ]
            ],
            "type": "heatmap"
           }
          ],
          "heatmapgl": [
           {
            "colorbar": {
             "outlinewidth": 0,
             "ticks": ""
            },
            "colorscale": [
             [
              0,
              "#0d0887"
             ],
             [
              0.1111111111111111,
              "#46039f"
             ],
             [
              0.2222222222222222,
              "#7201a8"
             ],
             [
              0.3333333333333333,
              "#9c179e"
             ],
             [
              0.4444444444444444,
              "#bd3786"
             ],
             [
              0.5555555555555556,
              "#d8576b"
             ],
             [
              0.6666666666666666,
              "#ed7953"
             ],
             [
              0.7777777777777778,
              "#fb9f3a"
             ],
             [
              0.8888888888888888,
              "#fdca26"
             ],
             [
              1,
              "#f0f921"
             ]
            ],
            "type": "heatmapgl"
           }
          ],
          "histogram": [
           {
            "marker": {
             "pattern": {
              "fillmode": "overlay",
              "size": 10,
              "solidity": 0.2
             }
            },
            "type": "histogram"
           }
          ],
          "histogram2d": [
           {
            "colorbar": {
             "outlinewidth": 0,
             "ticks": ""
            },
            "colorscale": [
             [
              0,
              "#0d0887"
             ],
             [
              0.1111111111111111,
              "#46039f"
             ],
             [
              0.2222222222222222,
              "#7201a8"
             ],
             [
              0.3333333333333333,
              "#9c179e"
             ],
             [
              0.4444444444444444,
              "#bd3786"
             ],
             [
              0.5555555555555556,
              "#d8576b"
             ],
             [
              0.6666666666666666,
              "#ed7953"
             ],
             [
              0.7777777777777778,
              "#fb9f3a"
             ],
             [
              0.8888888888888888,
              "#fdca26"
             ],
             [
              1,
              "#f0f921"
             ]
            ],
            "type": "histogram2d"
           }
          ],
          "histogram2dcontour": [
           {
            "colorbar": {
             "outlinewidth": 0,
             "ticks": ""
            },
            "colorscale": [
             [
              0,
              "#0d0887"
             ],
             [
              0.1111111111111111,
              "#46039f"
             ],
             [
              0.2222222222222222,
              "#7201a8"
             ],
             [
              0.3333333333333333,
              "#9c179e"
             ],
             [
              0.4444444444444444,
              "#bd3786"
             ],
             [
              0.5555555555555556,
              "#d8576b"
             ],
             [
              0.6666666666666666,
              "#ed7953"
             ],
             [
              0.7777777777777778,
              "#fb9f3a"
             ],
             [
              0.8888888888888888,
              "#fdca26"
             ],
             [
              1,
              "#f0f921"
             ]
            ],
            "type": "histogram2dcontour"
           }
          ],
          "mesh3d": [
           {
            "colorbar": {
             "outlinewidth": 0,
             "ticks": ""
            },
            "type": "mesh3d"
           }
          ],
          "parcoords": [
           {
            "line": {
             "colorbar": {
              "outlinewidth": 0,
              "ticks": ""
             }
            },
            "type": "parcoords"
           }
          ],
          "pie": [
           {
            "automargin": true,
            "type": "pie"
           }
          ],
          "scatter": [
           {
            "fillpattern": {
             "fillmode": "overlay",
             "size": 10,
             "solidity": 0.2
            },
            "type": "scatter"
           }
          ],
          "scatter3d": [
           {
            "line": {
             "colorbar": {
              "outlinewidth": 0,
              "ticks": ""
             }
            },
            "marker": {
             "colorbar": {
              "outlinewidth": 0,
              "ticks": ""
             }
            },
            "type": "scatter3d"
           }
          ],
          "scattercarpet": [
           {
            "marker": {
             "colorbar": {
              "outlinewidth": 0,
              "ticks": ""
             }
            },
            "type": "scattercarpet"
           }
          ],
          "scattergeo": [
           {
            "marker": {
             "colorbar": {
              "outlinewidth": 0,
              "ticks": ""
             }
            },
            "type": "scattergeo"
           }
          ],
          "scattergl": [
           {
            "marker": {
             "colorbar": {
              "outlinewidth": 0,
              "ticks": ""
             }
            },
            "type": "scattergl"
           }
          ],
          "scattermapbox": [
           {
            "marker": {
             "colorbar": {
              "outlinewidth": 0,
              "ticks": ""
             }
            },
            "type": "scattermapbox"
           }
          ],
          "scatterpolar": [
           {
            "marker": {
             "colorbar": {
              "outlinewidth": 0,
              "ticks": ""
             }
            },
            "type": "scatterpolar"
           }
          ],
          "scatterpolargl": [
           {
            "marker": {
             "colorbar": {
              "outlinewidth": 0,
              "ticks": ""
             }
            },
            "type": "scatterpolargl"
           }
          ],
          "scatterternary": [
           {
            "marker": {
             "colorbar": {
              "outlinewidth": 0,
              "ticks": ""
             }
            },
            "type": "scatterternary"
           }
          ],
          "surface": [
           {
            "colorbar": {
             "outlinewidth": 0,
             "ticks": ""
            },
            "colorscale": [
             [
              0,
              "#0d0887"
             ],
             [
              0.1111111111111111,
              "#46039f"
             ],
             [
              0.2222222222222222,
              "#7201a8"
             ],
             [
              0.3333333333333333,
              "#9c179e"
             ],
             [
              0.4444444444444444,
              "#bd3786"
             ],
             [
              0.5555555555555556,
              "#d8576b"
             ],
             [
              0.6666666666666666,
              "#ed7953"
             ],
             [
              0.7777777777777778,
              "#fb9f3a"
             ],
             [
              0.8888888888888888,
              "#fdca26"
             ],
             [
              1,
              "#f0f921"
             ]
            ],
            "type": "surface"
           }
          ],
          "table": [
           {
            "cells": {
             "fill": {
              "color": "#EBF0F8"
             },
             "line": {
              "color": "white"
             }
            },
            "header": {
             "fill": {
              "color": "#C8D4E3"
             },
             "line": {
              "color": "white"
             }
            },
            "type": "table"
           }
          ]
         },
         "layout": {
          "annotationdefaults": {
           "arrowcolor": "#2a3f5f",
           "arrowhead": 0,
           "arrowwidth": 1
          },
          "autotypenumbers": "strict",
          "coloraxis": {
           "colorbar": {
            "outlinewidth": 0,
            "ticks": ""
           }
          },
          "colorscale": {
           "diverging": [
            [
             0,
             "#8e0152"
            ],
            [
             0.1,
             "#c51b7d"
            ],
            [
             0.2,
             "#de77ae"
            ],
            [
             0.3,
             "#f1b6da"
            ],
            [
             0.4,
             "#fde0ef"
            ],
            [
             0.5,
             "#f7f7f7"
            ],
            [
             0.6,
             "#e6f5d0"
            ],
            [
             0.7,
             "#b8e186"
            ],
            [
             0.8,
             "#7fbc41"
            ],
            [
             0.9,
             "#4d9221"
            ],
            [
             1,
             "#276419"
            ]
           ],
           "sequential": [
            [
             0,
             "#0d0887"
            ],
            [
             0.1111111111111111,
             "#46039f"
            ],
            [
             0.2222222222222222,
             "#7201a8"
            ],
            [
             0.3333333333333333,
             "#9c179e"
            ],
            [
             0.4444444444444444,
             "#bd3786"
            ],
            [
             0.5555555555555556,
             "#d8576b"
            ],
            [
             0.6666666666666666,
             "#ed7953"
            ],
            [
             0.7777777777777778,
             "#fb9f3a"
            ],
            [
             0.8888888888888888,
             "#fdca26"
            ],
            [
             1,
             "#f0f921"
            ]
           ],
           "sequentialminus": [
            [
             0,
             "#0d0887"
            ],
            [
             0.1111111111111111,
             "#46039f"
            ],
            [
             0.2222222222222222,
             "#7201a8"
            ],
            [
             0.3333333333333333,
             "#9c179e"
            ],
            [
             0.4444444444444444,
             "#bd3786"
            ],
            [
             0.5555555555555556,
             "#d8576b"
            ],
            [
             0.6666666666666666,
             "#ed7953"
            ],
            [
             0.7777777777777778,
             "#fb9f3a"
            ],
            [
             0.8888888888888888,
             "#fdca26"
            ],
            [
             1,
             "#f0f921"
            ]
           ]
          },
          "colorway": [
           "#636efa",
           "#EF553B",
           "#00cc96",
           "#ab63fa",
           "#FFA15A",
           "#19d3f3",
           "#FF6692",
           "#B6E880",
           "#FF97FF",
           "#FECB52"
          ],
          "font": {
           "color": "#2a3f5f"
          },
          "geo": {
           "bgcolor": "white",
           "lakecolor": "white",
           "landcolor": "#E5ECF6",
           "showlakes": true,
           "showland": true,
           "subunitcolor": "white"
          },
          "hoverlabel": {
           "align": "left"
          },
          "hovermode": "closest",
          "mapbox": {
           "style": "light"
          },
          "paper_bgcolor": "white",
          "plot_bgcolor": "#E5ECF6",
          "polar": {
           "angularaxis": {
            "gridcolor": "white",
            "linecolor": "white",
            "ticks": ""
           },
           "bgcolor": "#E5ECF6",
           "radialaxis": {
            "gridcolor": "white",
            "linecolor": "white",
            "ticks": ""
           }
          },
          "scene": {
           "xaxis": {
            "backgroundcolor": "#E5ECF6",
            "gridcolor": "white",
            "gridwidth": 2,
            "linecolor": "white",
            "showbackground": true,
            "ticks": "",
            "zerolinecolor": "white"
           },
           "yaxis": {
            "backgroundcolor": "#E5ECF6",
            "gridcolor": "white",
            "gridwidth": 2,
            "linecolor": "white",
            "showbackground": true,
            "ticks": "",
            "zerolinecolor": "white"
           },
           "zaxis": {
            "backgroundcolor": "#E5ECF6",
            "gridcolor": "white",
            "gridwidth": 2,
            "linecolor": "white",
            "showbackground": true,
            "ticks": "",
            "zerolinecolor": "white"
           }
          },
          "shapedefaults": {
           "line": {
            "color": "#2a3f5f"
           }
          },
          "ternary": {
           "aaxis": {
            "gridcolor": "white",
            "linecolor": "white",
            "ticks": ""
           },
           "baxis": {
            "gridcolor": "white",
            "linecolor": "white",
            "ticks": ""
           },
           "bgcolor": "#E5ECF6",
           "caxis": {
            "gridcolor": "white",
            "linecolor": "white",
            "ticks": ""
           }
          },
          "title": {
           "x": 0.05
          },
          "xaxis": {
           "automargin": true,
           "gridcolor": "white",
           "linecolor": "white",
           "ticks": "",
           "title": {
            "standoff": 15
           },
           "zerolinecolor": "white",
           "zerolinewidth": 2
          },
          "yaxis": {
           "automargin": true,
           "gridcolor": "white",
           "linecolor": "white",
           "ticks": "",
           "title": {
            "standoff": 15
           },
           "zerolinecolor": "white",
           "zerolinewidth": 2
          }
         }
        },
        "title": {
         "text": "Fuel Type Price Trend, Montreal and Toronto (1999-2005)"
        },
        "xaxis": {
         "anchor": "y",
         "domain": [
          0,
          1
         ],
         "title": {
          "text": "Year"
         }
        },
        "yaxis": {
         "anchor": "x",
         "domain": [
          0,
          1
         ],
         "title": {
          "text": "Annual Average Price, Cents per Litre"
         }
        }
       }
      },
      "text/html": [
       "<div>                            <div id=\"aa374e26-36df-4484-ae8b-4d15d7d34948\" class=\"plotly-graph-div\" style=\"height:525px; width:100%;\"></div>            <script type=\"text/javascript\">                require([\"plotly\"], function(Plotly) {                    window.PLOTLYENV=window.PLOTLYENV || {};                                    if (document.getElementById(\"aa374e26-36df-4484-ae8b-4d15d7d34948\")) {                    Plotly.newPlot(                        \"aa374e26-36df-4484-ae8b-4d15d7d34948\",                        [{\"hovertemplate\":\"TYPE=Diesel fuel at full service filling stations<br>Year=%{x}<br>Type=%{y}<extra></extra>\",\"legendgroup\":\"Diesel fuel at full service filling stations\",\"line\":{\"color\":\"#FD3216\",\"dash\":\"solid\"},\"marker\":{\"symbol\":\"circle\"},\"mode\":\"markers+lines\",\"name\":\"Diesel fuel at full service filling stations\",\"orientation\":\"v\",\"showlegend\":true,\"x\":[1999,2000,2001,2002,2003,2004,2005],\"xaxis\":\"x\",\"y\":[50.94,67.32,66.67,62.1,68.79,74.39,89.72],\"yaxis\":\"y\",\"type\":\"scatter\"},{\"hovertemplate\":\"TYPE=Diesel fuel at self service filling stations<br>Year=%{x}<br>Type=%{y}<extra></extra>\",\"legendgroup\":\"Diesel fuel at self service filling stations\",\"line\":{\"color\":\"#00FE35\",\"dash\":\"solid\"},\"marker\":{\"symbol\":\"circle\"},\"mode\":\"markers+lines\",\"name\":\"Diesel fuel at self service filling stations\",\"orientation\":\"v\",\"showlegend\":true,\"x\":[1999,2000,2001,2002,2003,2004,2005],\"xaxis\":\"x\",\"y\":[51.54,67.68,68.51,61.16,67.56,74.16,89.45],\"yaxis\":\"y\",\"type\":\"scatter\"},{\"hovertemplate\":\"TYPE=Household heating fuel<br>Year=%{x}<br>Type=%{y}<extra></extra>\",\"legendgroup\":\"Household heating fuel\",\"line\":{\"color\":\"#6A76FC\",\"dash\":\"solid\"},\"marker\":{\"symbol\":\"circle\"},\"mode\":\"markers+lines\",\"name\":\"Household heating fuel\",\"orientation\":\"v\",\"showlegend\":true,\"x\":[1999,2000,2001,2002,2003,2004,2005],\"xaxis\":\"x\",\"y\":[39.13,54.31,55.87,50.81,57.92,63.99,77.99],\"yaxis\":\"y\",\"type\":\"scatter\"},{\"hovertemplate\":\"TYPE=Premium unleaded gasoline at full service filling stations<br>Year=%{x}<br>Type=%{y}<extra></extra>\",\"legendgroup\":\"Premium unleaded gasoline at full service filling stations\",\"line\":{\"color\":\"#FED4C4\",\"dash\":\"solid\"},\"marker\":{\"symbol\":\"circle\"},\"mode\":\"markers+lines\",\"name\":\"Premium unleaded gasoline at full service filling stations\",\"orientation\":\"v\",\"showlegend\":true,\"x\":[1999,2000,2001,2002,2003,2004,2005],\"xaxis\":\"x\",\"y\":[70.42,83.21,79.47,78.59,83.25,89.81,101.34],\"yaxis\":\"y\",\"type\":\"scatter\"},{\"hovertemplate\":\"TYPE=Premium unleaded gasoline at self service filling stations<br>Year=%{x}<br>Type=%{y}<extra></extra>\",\"legendgroup\":\"Premium unleaded gasoline at self service filling stations\",\"line\":{\"color\":\"#FE00CE\",\"dash\":\"solid\"},\"marker\":{\"symbol\":\"circle\"},\"mode\":\"markers+lines\",\"name\":\"Premium unleaded gasoline at self service filling stations\",\"orientation\":\"v\",\"showlegend\":true,\"x\":[1999,2000,2001,2002,2003,2004,2005],\"xaxis\":\"x\",\"y\":[67.39,80.93,77.46,77.2,80.93,86.91,99.78],\"yaxis\":\"y\",\"type\":\"scatter\"},{\"hovertemplate\":\"TYPE=Regular unleaded gasoline at full service filling stations<br>Year=%{x}<br>Type=%{y}<extra></extra>\",\"legendgroup\":\"Regular unleaded gasoline at full service filling stations\",\"line\":{\"color\":\"#0DF9FF\",\"dash\":\"solid\"},\"marker\":{\"symbol\":\"circle\"},\"mode\":\"markers+lines\",\"name\":\"Regular unleaded gasoline at full service filling stations\",\"orientation\":\"v\",\"showlegend\":true,\"x\":[1999,2000,2001,2002,2003,2004,2005],\"xaxis\":\"x\",\"y\":[59.52,72.42,69.28,69.3,72.73,78.89,89.6],\"yaxis\":\"y\",\"type\":\"scatter\"},{\"hovertemplate\":\"TYPE=Regular unleaded gasoline at self service filling stations<br>Year=%{x}<br>Type=%{y}<extra></extra>\",\"legendgroup\":\"Regular unleaded gasoline at self service filling stations\",\"line\":{\"color\":\"#F6F926\",\"dash\":\"solid\"},\"marker\":{\"symbol\":\"circle\"},\"mode\":\"markers+lines\",\"name\":\"Regular unleaded gasoline at self service filling stations\",\"orientation\":\"v\",\"showlegend\":true,\"x\":[1999,2000,2001,2002,2003,2004,2005],\"xaxis\":\"x\",\"y\":[57.48,70.82,67.77,67.31,70.92,76.65,89.02],\"yaxis\":\"y\",\"type\":\"scatter\"}],                        {\"template\":{\"data\":{\"histogram2dcontour\":[{\"type\":\"histogram2dcontour\",\"colorbar\":{\"outlinewidth\":0,\"ticks\":\"\"},\"colorscale\":[[0.0,\"#0d0887\"],[0.1111111111111111,\"#46039f\"],[0.2222222222222222,\"#7201a8\"],[0.3333333333333333,\"#9c179e\"],[0.4444444444444444,\"#bd3786\"],[0.5555555555555556,\"#d8576b\"],[0.6666666666666666,\"#ed7953\"],[0.7777777777777778,\"#fb9f3a\"],[0.8888888888888888,\"#fdca26\"],[1.0,\"#f0f921\"]]}],\"choropleth\":[{\"type\":\"choropleth\",\"colorbar\":{\"outlinewidth\":0,\"ticks\":\"\"}}],\"histogram2d\":[{\"type\":\"histogram2d\",\"colorbar\":{\"outlinewidth\":0,\"ticks\":\"\"},\"colorscale\":[[0.0,\"#0d0887\"],[0.1111111111111111,\"#46039f\"],[0.2222222222222222,\"#7201a8\"],[0.3333333333333333,\"#9c179e\"],[0.4444444444444444,\"#bd3786\"],[0.5555555555555556,\"#d8576b\"],[0.6666666666666666,\"#ed7953\"],[0.7777777777777778,\"#fb9f3a\"],[0.8888888888888888,\"#fdca26\"],[1.0,\"#f0f921\"]]}],\"heatmap\":[{\"type\":\"heatmap\",\"colorbar\":{\"outlinewidth\":0,\"ticks\":\"\"},\"colorscale\":[[0.0,\"#0d0887\"],[0.1111111111111111,\"#46039f\"],[0.2222222222222222,\"#7201a8\"],[0.3333333333333333,\"#9c179e\"],[0.4444444444444444,\"#bd3786\"],[0.5555555555555556,\"#d8576b\"],[0.6666666666666666,\"#ed7953\"],[0.7777777777777778,\"#fb9f3a\"],[0.8888888888888888,\"#fdca26\"],[1.0,\"#f0f921\"]]}],\"heatmapgl\":[{\"type\":\"heatmapgl\",\"colorbar\":{\"outlinewidth\":0,\"ticks\":\"\"},\"colorscale\":[[0.0,\"#0d0887\"],[0.1111111111111111,\"#46039f\"],[0.2222222222222222,\"#7201a8\"],[0.3333333333333333,\"#9c179e\"],[0.4444444444444444,\"#bd3786\"],[0.5555555555555556,\"#d8576b\"],[0.6666666666666666,\"#ed7953\"],[0.7777777777777778,\"#fb9f3a\"],[0.8888888888888888,\"#fdca26\"],[1.0,\"#f0f921\"]]}],\"contourcarpet\":[{\"type\":\"contourcarpet\",\"colorbar\":{\"outlinewidth\":0,\"ticks\":\"\"}}],\"contour\":[{\"type\":\"contour\",\"colorbar\":{\"outlinewidth\":0,\"ticks\":\"\"},\"colorscale\":[[0.0,\"#0d0887\"],[0.1111111111111111,\"#46039f\"],[0.2222222222222222,\"#7201a8\"],[0.3333333333333333,\"#9c179e\"],[0.4444444444444444,\"#bd3786\"],[0.5555555555555556,\"#d8576b\"],[0.6666666666666666,\"#ed7953\"],[0.7777777777777778,\"#fb9f3a\"],[0.8888888888888888,\"#fdca26\"],[1.0,\"#f0f921\"]]}],\"surface\":[{\"type\":\"surface\",\"colorbar\":{\"outlinewidth\":0,\"ticks\":\"\"},\"colorscale\":[[0.0,\"#0d0887\"],[0.1111111111111111,\"#46039f\"],[0.2222222222222222,\"#7201a8\"],[0.3333333333333333,\"#9c179e\"],[0.4444444444444444,\"#bd3786\"],[0.5555555555555556,\"#d8576b\"],[0.6666666666666666,\"#ed7953\"],[0.7777777777777778,\"#fb9f3a\"],[0.8888888888888888,\"#fdca26\"],[1.0,\"#f0f921\"]]}],\"mesh3d\":[{\"type\":\"mesh3d\",\"colorbar\":{\"outlinewidth\":0,\"ticks\":\"\"}}],\"scatter\":[{\"fillpattern\":{\"fillmode\":\"overlay\",\"size\":10,\"solidity\":0.2},\"type\":\"scatter\"}],\"parcoords\":[{\"type\":\"parcoords\",\"line\":{\"colorbar\":{\"outlinewidth\":0,\"ticks\":\"\"}}}],\"scatterpolargl\":[{\"type\":\"scatterpolargl\",\"marker\":{\"colorbar\":{\"outlinewidth\":0,\"ticks\":\"\"}}}],\"bar\":[{\"error_x\":{\"color\":\"#2a3f5f\"},\"error_y\":{\"color\":\"#2a3f5f\"},\"marker\":{\"line\":{\"color\":\"#E5ECF6\",\"width\":0.5},\"pattern\":{\"fillmode\":\"overlay\",\"size\":10,\"solidity\":0.2}},\"type\":\"bar\"}],\"scattergeo\":[{\"type\":\"scattergeo\",\"marker\":{\"colorbar\":{\"outlinewidth\":0,\"ticks\":\"\"}}}],\"scatterpolar\":[{\"type\":\"scatterpolar\",\"marker\":{\"colorbar\":{\"outlinewidth\":0,\"ticks\":\"\"}}}],\"histogram\":[{\"marker\":{\"pattern\":{\"fillmode\":\"overlay\",\"size\":10,\"solidity\":0.2}},\"type\":\"histogram\"}],\"scattergl\":[{\"type\":\"scattergl\",\"marker\":{\"colorbar\":{\"outlinewidth\":0,\"ticks\":\"\"}}}],\"scatter3d\":[{\"type\":\"scatter3d\",\"line\":{\"colorbar\":{\"outlinewidth\":0,\"ticks\":\"\"}},\"marker\":{\"colorbar\":{\"outlinewidth\":0,\"ticks\":\"\"}}}],\"scattermapbox\":[{\"type\":\"scattermapbox\",\"marker\":{\"colorbar\":{\"outlinewidth\":0,\"ticks\":\"\"}}}],\"scatterternary\":[{\"type\":\"scatterternary\",\"marker\":{\"colorbar\":{\"outlinewidth\":0,\"ticks\":\"\"}}}],\"scattercarpet\":[{\"type\":\"scattercarpet\",\"marker\":{\"colorbar\":{\"outlinewidth\":0,\"ticks\":\"\"}}}],\"carpet\":[{\"aaxis\":{\"endlinecolor\":\"#2a3f5f\",\"gridcolor\":\"white\",\"linecolor\":\"white\",\"minorgridcolor\":\"white\",\"startlinecolor\":\"#2a3f5f\"},\"baxis\":{\"endlinecolor\":\"#2a3f5f\",\"gridcolor\":\"white\",\"linecolor\":\"white\",\"minorgridcolor\":\"white\",\"startlinecolor\":\"#2a3f5f\"},\"type\":\"carpet\"}],\"table\":[{\"cells\":{\"fill\":{\"color\":\"#EBF0F8\"},\"line\":{\"color\":\"white\"}},\"header\":{\"fill\":{\"color\":\"#C8D4E3\"},\"line\":{\"color\":\"white\"}},\"type\":\"table\"}],\"barpolar\":[{\"marker\":{\"line\":{\"color\":\"#E5ECF6\",\"width\":0.5},\"pattern\":{\"fillmode\":\"overlay\",\"size\":10,\"solidity\":0.2}},\"type\":\"barpolar\"}],\"pie\":[{\"automargin\":true,\"type\":\"pie\"}]},\"layout\":{\"autotypenumbers\":\"strict\",\"colorway\":[\"#636efa\",\"#EF553B\",\"#00cc96\",\"#ab63fa\",\"#FFA15A\",\"#19d3f3\",\"#FF6692\",\"#B6E880\",\"#FF97FF\",\"#FECB52\"],\"font\":{\"color\":\"#2a3f5f\"},\"hovermode\":\"closest\",\"hoverlabel\":{\"align\":\"left\"},\"paper_bgcolor\":\"white\",\"plot_bgcolor\":\"#E5ECF6\",\"polar\":{\"bgcolor\":\"#E5ECF6\",\"angularaxis\":{\"gridcolor\":\"white\",\"linecolor\":\"white\",\"ticks\":\"\"},\"radialaxis\":{\"gridcolor\":\"white\",\"linecolor\":\"white\",\"ticks\":\"\"}},\"ternary\":{\"bgcolor\":\"#E5ECF6\",\"aaxis\":{\"gridcolor\":\"white\",\"linecolor\":\"white\",\"ticks\":\"\"},\"baxis\":{\"gridcolor\":\"white\",\"linecolor\":\"white\",\"ticks\":\"\"},\"caxis\":{\"gridcolor\":\"white\",\"linecolor\":\"white\",\"ticks\":\"\"}},\"coloraxis\":{\"colorbar\":{\"outlinewidth\":0,\"ticks\":\"\"}},\"colorscale\":{\"sequential\":[[0.0,\"#0d0887\"],[0.1111111111111111,\"#46039f\"],[0.2222222222222222,\"#7201a8\"],[0.3333333333333333,\"#9c179e\"],[0.4444444444444444,\"#bd3786\"],[0.5555555555555556,\"#d8576b\"],[0.6666666666666666,\"#ed7953\"],[0.7777777777777778,\"#fb9f3a\"],[0.8888888888888888,\"#fdca26\"],[1.0,\"#f0f921\"]],\"sequentialminus\":[[0.0,\"#0d0887\"],[0.1111111111111111,\"#46039f\"],[0.2222222222222222,\"#7201a8\"],[0.3333333333333333,\"#9c179e\"],[0.4444444444444444,\"#bd3786\"],[0.5555555555555556,\"#d8576b\"],[0.6666666666666666,\"#ed7953\"],[0.7777777777777778,\"#fb9f3a\"],[0.8888888888888888,\"#fdca26\"],[1.0,\"#f0f921\"]],\"diverging\":[[0,\"#8e0152\"],[0.1,\"#c51b7d\"],[0.2,\"#de77ae\"],[0.3,\"#f1b6da\"],[0.4,\"#fde0ef\"],[0.5,\"#f7f7f7\"],[0.6,\"#e6f5d0\"],[0.7,\"#b8e186\"],[0.8,\"#7fbc41\"],[0.9,\"#4d9221\"],[1,\"#276419\"]]},\"xaxis\":{\"gridcolor\":\"white\",\"linecolor\":\"white\",\"ticks\":\"\",\"title\":{\"standoff\":15},\"zerolinecolor\":\"white\",\"automargin\":true,\"zerolinewidth\":2},\"yaxis\":{\"gridcolor\":\"white\",\"linecolor\":\"white\",\"ticks\":\"\",\"title\":{\"standoff\":15},\"zerolinecolor\":\"white\",\"automargin\":true,\"zerolinewidth\":2},\"scene\":{\"xaxis\":{\"backgroundcolor\":\"#E5ECF6\",\"gridcolor\":\"white\",\"linecolor\":\"white\",\"showbackground\":true,\"ticks\":\"\",\"zerolinecolor\":\"white\",\"gridwidth\":2},\"yaxis\":{\"backgroundcolor\":\"#E5ECF6\",\"gridcolor\":\"white\",\"linecolor\":\"white\",\"showbackground\":true,\"ticks\":\"\",\"zerolinecolor\":\"white\",\"gridwidth\":2},\"zaxis\":{\"backgroundcolor\":\"#E5ECF6\",\"gridcolor\":\"white\",\"linecolor\":\"white\",\"showbackground\":true,\"ticks\":\"\",\"zerolinecolor\":\"white\",\"gridwidth\":2}},\"shapedefaults\":{\"line\":{\"color\":\"#2a3f5f\"}},\"annotationdefaults\":{\"arrowcolor\":\"#2a3f5f\",\"arrowhead\":0,\"arrowwidth\":1},\"geo\":{\"bgcolor\":\"white\",\"landcolor\":\"#E5ECF6\",\"subunitcolor\":\"white\",\"showland\":true,\"showlakes\":true,\"lakecolor\":\"white\"},\"title\":{\"x\":0.05},\"mapbox\":{\"style\":\"light\"}}},\"xaxis\":{\"anchor\":\"y\",\"domain\":[0.0,1.0],\"title\":{\"text\":\"Year\"}},\"yaxis\":{\"anchor\":\"x\",\"domain\":[0.0,1.0],\"title\":{\"text\":\"Annual Average Price, Cents per Litre\"}},\"legend\":{\"title\":{\"text\":\"TYPE\"},\"tracegroupgap\":0},\"margin\":{\"t\":60},\"title\":{\"text\":\"Fuel Type Price Trend, Montreal and Toronto (1999-2005)\"}},                        {\"responsive\": true}                    ).then(function(){\n",
       "                            \n",
       "var gd = document.getElementById('aa374e26-36df-4484-ae8b-4d15d7d34948');\n",
       "var x = new MutationObserver(function (mutations, observer) {{\n",
       "        var display = window.getComputedStyle(gd).display;\n",
       "        if (!display || display === 'none') {{\n",
       "            console.log([gd, 'removed!']);\n",
       "            Plotly.purge(gd);\n",
       "            observer.disconnect();\n",
       "        }}\n",
       "}});\n",
       "\n",
       "// Listen for the removal of the full notebook cells\n",
       "var notebookContainer = gd.closest('#notebook-container');\n",
       "if (notebookContainer) {{\n",
       "    x.observe(notebookContainer, {childList: true});\n",
       "}}\n",
       "\n",
       "// Listen for the clearing of the current output cell\n",
       "var outputEl = gd.closest('.output');\n",
       "if (outputEl) {{\n",
       "    x.observe(outputEl, {childList: true});\n",
       "}}\n",
       "\n",
       "                        })                };                });            </script>        </div>"
      ]
     },
     "metadata": {},
     "output_type": "display_data"
    }
   ],
   "source": [
    "# actual plot area\n",
    "# pass out type_gas var and then set visual parameters\n",
    "fig = px.line(type_gas,\n",
    "                   x='Year', y = \"Type\", \n",
    "                   color = \"TYPE\", color_discrete_sequence=px.colors.qualitative.Light24)\n",
    "fig.update_traces(mode='markers+lines')\n",
    "fig.update_layout(\n",
    "    title=\"Fuel Type Price Trend, Montreal and Toronto (1999-2005)\",\n",
    "    xaxis_title=\"Year\",\n",
    "    yaxis_title=\"Annual Average Price, Cents per Litre\")\n",
    "fig.show()"
   ]
  },
  {
   "cell_type": "markdown",
   "metadata": {},
   "source": [
    "<details>\n",
    "<summary><strong>Solution</strong> (Click Here)</summary>\n",
    "    &emsp; &emsp; <code>\n",
    "type_gas = data.groupby(['Year', 'TYPE'])['VALUE'].mean().reset_index(name ='Type').round(2)\n",
    "fig = px.line(type_gas,\n",
    "                   x='Year', y = \"Type\", \n",
    "                   color = \"TYPE\", color_discrete_sequence=px.colors.qualitative.Light24)\n",
    "fig.update_traces(mode='markers+lines')\n",
    "fig.update_layout(\n",
    "    title=\"Fuel Type Price Trend\",\n",
    "    xaxis_title=\"Year\",\n",
    "    yaxis_title=\"Annual Average Price, Cents per Litre\")\n",
    "fig.show()\n",
    "\n",
    "</code>\n",
    "</details>\n"
   ]
  },
  {
   "cell_type": "markdown",
   "metadata": {},
   "source": [
    "We can also use the animated time frame to show the trend of gasoline prices over time.\n"
   ]
  },
  {
   "cell_type": "code",
   "execution_count": null,
   "metadata": {},
   "outputs": [],
   "source": [
    "bycity = data.groupby(['Year', 'City'])['VALUE'].mean().reset_index(name ='Value').round(2)\n",
    "bycity.head()"
   ]
  },
  {
   "cell_type": "code",
   "execution_count": null,
   "metadata": {},
   "outputs": [],
   "source": [
    "fig = px.bar(bycity,  \n",
    "            x='City', y = \"Value\", animation_frame=\"Year\")\n",
    "fig.update_layout(\n",
    "    title=\"Time Lapse of Average Price of Gasoline, by Province\",\n",
    "    xaxis_title=\"Year\",\n",
    "    yaxis_title=\"Average Price of Gasoline, Cents per Litre\")\n",
    "\n",
    "fig.show()\n",
    " "
   ]
  },
  {
   "cell_type": "markdown",
   "metadata": {},
   "source": [
    "Another way to display the distribution of average gasoline prices in Canadian Provinces is by plotting a map. We will use 2021 year to display the average gasoline price in all Canadian Provinces.\n",
    "First, we select the year.\n"
   ]
  },
  {
   "cell_type": "code",
   "execution_count": null,
   "metadata": {},
   "outputs": [],
   "source": [
    "one_year = data[data['Year'] == 2021]\n",
    "one_year.head()"
   ]
  },
  {
   "cell_type": "markdown",
   "metadata": {},
   "source": [
    "Then, we group by the 'Province' and the 'mean' values of gasoline prices per each province. We also need to index each province with province id.\n"
   ]
  },
  {
   "cell_type": "code",
   "execution_count": null,
   "metadata": {},
   "outputs": [],
   "source": [
    "geodata =  one_year.groupby('Province')['VALUE'].mean().reset_index(name ='Average Gasoline Price').round(2)\n",
    "\n",
    "provinces={' Newfoundland and Labrador':5,\n",
    " ' Prince Edward Island':8,\n",
    " ' Nova Scotia':2,\n",
    " ' New Brunswick':7,\n",
    " ' Quebec':1,\n",
    " ' Ontario':11,\n",
    " ' Ontario part, Ontario/Quebec':12,\n",
    " ' Manitoba':10,\n",
    " ' Saskatchewan':3,\n",
    " ' Alberta':4,\n",
    " ' British Columbia':6,\n",
    " ' Yukon':9,\n",
    " ' Northwest Territories':13\n",
    "}\n",
    "geodata['ProvinceID']=geodata['Province'].map(provinces)\n",
    "display(geodata)\n",
    "\n"
   ]
  },
  {
   "cell_type": "markdown",
   "metadata": {},
   "source": [
    "Here, we are linking each province by its specified 'provinceID' with another dataset, ‘canada_provinces.geojson’, containing all the mapping information for plotting our provinces.\n",
    "\n",
    "First, we need to download the Canadian Provinces dataset from IBM cloud storage, using the `requests.get()` function.\n"
   ]
  },
  {
   "cell_type": "code",
   "execution_count": null,
   "metadata": {},
   "outputs": [],
   "source": [
    "geo = requests.get(\"https://cf-courses-data.s3.us.cloud-object-storage.appdomain.cloud/IBM-ML0232EN-SkillsNetwork/asset/canada_provinces.geojson\")"
   ]
  },
  {
   "cell_type": "markdown",
   "metadata": {},
   "source": [
    "Next, we will load the file as a string, using `json.loads()` function.\n"
   ]
  },
  {
   "cell_type": "code",
   "execution_count": null,
   "metadata": {},
   "outputs": [],
   "source": [
    "mp = json.loads(geo.text)\n",
    "    \n",
    "fig = px.choropleth(geodata,\n",
    "                    locations=\"ProvinceID\",\n",
    "                    geojson=mp,\n",
    "                    featureidkey=\"properties.cartodb_id\",\n",
    "                    color=\"Average Gasoline Price\",\n",
    "                    color_continuous_scale=px.colors.diverging.Tropic,\n",
    "                    scope='north america',\n",
    "                    title='<b>Average Gasoline Price </b>',                \n",
    "                    hover_name='Province',\n",
    "                    hover_data={\n",
    "                        'Average Gasoline Price' : True,\n",
    "                        'ProvinceID' : False\n",
    "                    },\n",
    "                     \n",
    "                    locationmode='geojson-id',\n",
    "                    )\n",
    "fig.update_layout(\n",
    "    showlegend=True,\n",
    "    legend_title_text='<b>Average Gasoline Price</b>',\n",
    "    font={\"size\": 16, \"color\": \"#808080\", \"family\" : \"calibri\"},\n",
    "    margin={\"r\":0,\"t\":40,\"l\":0,\"b\":0},\n",
    "    legend=dict(orientation='v'),\n",
    "    geo=dict(bgcolor='rgba(0,0,0,0)', lakecolor='#e0fffe')\n",
    ")\n",
    "\n",
    "#Show Canada only \n",
    "fig.update_geos(showcountries=False, showcoastlines=False,\n",
    "                showland=False, fitbounds=\"locations\",\n",
    "                subunitcolor='white')\n",
    "fig.show()"
   ]
  },
  {
   "cell_type": "markdown",
   "metadata": {},
   "source": [
    "## Exercise 5\n"
   ]
  },
  {
   "cell_type": "markdown",
   "metadata": {},
   "source": [
    "In this exercise, experiment with different color scales to make the visualization easier to read. Some suggestions are provided in the \"Hint\" section. Simply copy the above code and replace 'px.colors.diverging.Tropic', with any other color scales. For example, the sequential color scales are appropriate for most continuous data, but in some cases it can be helpful to use a diverging or cyclical color scale. Diverging color scales are appropriate for the continuous data that has a natural midpoint. For more information on *plotly* colors, please visit [this plotly documentation](https://plotly.com/python/builtin-colorscales/?utm_medium=Exinfluencer&utm_source=Exinfluencer&utm_content=000026UJ&utm_term=10006555&utm_id=NA-SkillsNetwork-Channel-SkillsNetworkCoursesIBMML0232ENSkillsNetwork30654641-2022-01-01) web page.\n"
   ]
  },
  {
   "cell_type": "code",
   "execution_count": null,
   "metadata": {},
   "outputs": [],
   "source": [
    "# Enter your code and run the cell"
   ]
  },
  {
   "cell_type": "markdown",
   "metadata": {},
   "source": [
    "<details>\n",
    "<summary><strong>Hint</strong> (Click Here)</summary>\n",
    "    &emsp; &emsp; <code>\n",
    "    px.colors.diverging.Tropic\n",
    "    px.colors.diverging.Temps\n",
    "    px.colors.sequential.Greens\n",
    "    px.colors.sequential.Reds\n",
    "\n",
    "</code>\n",
    "</details>\n"
   ]
  },
  {
   "cell_type": "markdown",
   "metadata": {},
   "source": [
    "# Congratulations! - You have completed the lab\n"
   ]
  },
  {
   "cell_type": "markdown",
   "metadata": {},
   "source": [
    "## Author\n"
   ]
  },
  {
   "cell_type": "markdown",
   "metadata": {},
   "source": [
    "[Svitlana Kramar](https://www.linkedin.com/in/svitlana-kramar/?utm_medium=Exinfluencer&utm_source=Exinfluencer&utm_content=000026UJ&utm_term=10006555&utm_id=NA-SkillsNetwork-Channel-SkillsNetworkCoursesIBMML0232ENSkillsNetwork30654641-2022-01-01)\n"
   ]
  },
  {
   "cell_type": "markdown",
   "metadata": {},
   "source": [
    "## Change Log\n"
   ]
  },
  {
   "cell_type": "markdown",
   "metadata": {},
   "source": [
    "| Date (YYYY-MM-DD) | Version | Changed By  | Change Description |\n",
    "| ----------------- | ------- | ----------- | ------------------ |\n",
    "| 2022-01-18        | 0.1     | Svitlana K. | Added Introduction |\n"
   ]
  },
  {
   "cell_type": "markdown",
   "metadata": {},
   "source": [
    "Copyright © 2020 IBM Corporation. All rights reserved.\n"
   ]
  }
 ],
 "metadata": {
  "kernelspec": {
   "display_name": "Python 3 (ipykernel)",
   "language": "python",
   "name": "python3"
  },
  "language_info": {
   "codemirror_mode": {
    "name": "ipython",
    "version": 3
   },
   "file_extension": ".py",
   "mimetype": "text/x-python",
   "name": "python",
   "nbconvert_exporter": "python",
   "pygments_lexer": "ipython3",
   "version": "3.7.11"
  }
 },
 "nbformat": 4,
 "nbformat_minor": 4
}
